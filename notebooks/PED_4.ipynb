{
 "cells": [
  {
   "cell_type": "markdown",
   "source": [
    "# YouTube trending videos"
   ],
   "metadata": {
    "collapsed": false
   }
  },
  {
   "cell_type": "code",
   "execution_count": 214,
   "outputs": [],
   "source": [
    "%matplotlib inline\n",
    "import matplotlib.pyplot as plt\n",
    "import numpy as np\n",
    "import pandas as pd\n",
    "from sklearn.cluster import KMeans, DBSCAN, AgglomerativeClustering\n",
    "from sklearn.feature_selection import chi2, SelectKBest\n",
    "from sklearn.metrics import accuracy_score, f1_score, precision_score, silhouette_score, roc_auc_score, recall_score\n",
    "from sklearn.preprocessing import MinMaxScaler, OneHotEncoder\n",
    "from sklearn.neighbors import NearestNeighbors\n",
    "\n",
    "from helpers.categories import get_categories_dict\n",
    "from helpers.files import load_csv"
   ],
   "metadata": {
    "collapsed": false,
    "pycharm": {
     "name": "#%%\n"
    }
   }
  },
  {
   "cell_type": "markdown",
   "source": [
    "## Etap 4 - Wykorzystanie uczenia pół-nadzorowanego\n"
   ],
   "metadata": {
    "collapsed": false
   }
  },
  {
   "cell_type": "markdown",
   "source": [
    "Deklaracja potrzebnych funkcji"
   ],
   "metadata": {
    "collapsed": false,
    "pycharm": {
     "name": "#%% md\n"
    }
   }
  },
  {
   "cell_type": "code",
   "execution_count": 215,
   "outputs": [],
   "source": [
    "def show_stats(y_hat, y_hat_nans, y):\n",
    "    mapping_dict = get_mapping_dict(y_hat_nans, y)\n",
    "    print(mapping_dict)\n",
    "    y_mapped = pd.Series(y).apply(lambda x: mapping_dict[x])\n",
    "    print(f\"Accuracy: {accuracy_score(y_hat, y_mapped)}\")\n",
    "    print(f\"F1: {f1_score(y_hat, y_mapped, average='macro')}\")\n",
    "    print(f\"Precision: {precision_score(y_hat, y_mapped, average='macro')}\")\n",
    "    print(f\"Recall: {recall_score(y_hat, y_mapped, average='macro')}\")\n",
    "    y_hat = y_hat.to_numpy().reshape(-1, 1)\n",
    "    y_mapped = y_mapped.to_numpy().reshape(-1, 1)\n",
    "    encoder = OneHotEncoder(sparse=False)\n",
    "    one_hot_hat = encoder.fit_transform(y_hat)\n",
    "    y_hot = encoder.transform(y_mapped)\n",
    "    print(f\"ROC AUC Score OVR: {roc_auc_score(one_hot_hat, y_hot, multi_class='ovr')}\")\n",
    "    print(f\"ROC AUC Score OVO: {roc_auc_score(one_hot_hat, y_hot, multi_class='ovo')}\")"
   ],
   "metadata": {
    "collapsed": false,
    "pycharm": {
     "name": "#%%\n"
    }
   }
  },
  {
   "cell_type": "markdown",
   "source": [
    "### Wyczytanie danych"
   ],
   "metadata": {
    "collapsed": false,
    "pycharm": {
     "name": "#%% md\n"
    }
   }
  },
  {
   "cell_type": "code",
   "execution_count": 216,
   "outputs": [],
   "source": [
    "gb_data, us_data = load_csv(\"clustering_data\")\n",
    "\n",
    "videos = pd.concat([gb_data, us_data])\n",
    "categories_ids = videos[\"new_category_id\"].dropna().unique().tolist()"
   ],
   "metadata": {
    "collapsed": false,
    "pycharm": {
     "name": "#%%\n"
    }
   }
  },
  {
   "cell_type": "markdown",
   "source": [
    "### Wczytanie nazw kategorii"
   ],
   "metadata": {
    "collapsed": false,
    "pycharm": {
     "name": "#%% md\n"
    }
   }
  },
  {
   "cell_type": "code",
   "execution_count": 217,
   "outputs": [],
   "source": [
    "categories_dict = get_categories_dict()\n",
    "categories = [categories_dict[cat] for cat in categories_ids]"
   ],
   "metadata": {
    "collapsed": false,
    "pycharm": {
     "name": "#%%\n"
    }
   }
  },
  {
   "cell_type": "markdown",
   "source": [
    "## Usunięcie danych tekstowych"
   ],
   "metadata": {
    "collapsed": false,
    "pycharm": {
     "name": "#%% md\n"
    }
   }
  },
  {
   "cell_type": "code",
   "execution_count": 218,
   "outputs": [],
   "source": [
    "videos = videos[videos[\"new_category_id\"].notna()]\n",
    "y_hat = videos[\"new_category_id\"]  # oczekiwane kategorie z api\n",
    "y_hat_nans = videos[\"category_id\"]  # oczekiwane kategorie z nanami (z oryginalnego zbioru)\n",
    "videos_no_nan_categories = videos[videos[\"category_id\"].notna()]\n",
    "selected_columns = [\n",
    "    \"views\", \"likes\", \"dislikes\", \"comment_count\", \"description_len\", \"title_len\", \"channel_title_len\",\n",
    "    \"publish_time_day_of_week\", \"publish_time_hour_of_day\",\n",
    "    \"gray_mean_score\", \"color_mean_score\", \"gray_hist_score\",\n",
    "    \"red_hist_score\", \"green_hist_score\", \"blue_hist_score\", \"edges_score\", \"entropy_score\",\n",
    "]\n",
    "\n",
    "for cat in categories_ids:\n",
    "    selected_columns.append(f\"freq_channel_titles_{categories_dict[cat]}\")\n",
    "    selected_columns.append(f\"freq_titles_{categories_dict[cat]}\")\n",
    "    selected_columns.append(f\"freq_tags_{categories_dict[cat]}\")\n",
    "    selected_columns.append(f\"freq_descriptions_{categories_dict[cat]}\")\n",
    "\n",
    "videos = videos[selected_columns]\n",
    "videos = videos.fillna(videos.mean())"
   ],
   "metadata": {
    "collapsed": false,
    "pycharm": {
     "name": "#%%\n"
    }
   }
  },
  {
   "cell_type": "markdown",
   "source": [
    "### Uzupełnienie wartości pustych wartościami średnimi\n"
   ],
   "metadata": {
    "collapsed": false,
    "pycharm": {
     "name": "#%% md\n"
    }
   }
  },
  {
   "cell_type": "code",
   "execution_count": 219,
   "outputs": [],
   "source": [
    "# videos = videos.fillna(videos.mean())"
   ],
   "metadata": {
    "collapsed": false,
    "pycharm": {
     "name": "#%%\n"
    }
   }
  },
  {
   "cell_type": "markdown",
   "source": [
    "### Skalowanie danych"
   ],
   "metadata": {
    "collapsed": false,
    "pycharm": {
     "name": "#%% md\n"
    }
   }
  },
  {
   "cell_type": "code",
   "execution_count": 220,
   "outputs": [
    {
     "data": {
      "text/plain": "array([2.35549979e-09, 1.78131603e-07, 5.14146483e-07, 6.14816714e-07,\n       1.92566917e-04, 1.03092784e-02, 2.08333333e-02, 1.66666667e-01,\n       4.34782609e-02, 6.32241137e-07, 7.61775913e-07, 7.23293515e-05,\n       7.29003158e-05, 7.24731021e-05, 7.35905756e-05, 3.16455696e-04,\n       4.14879799e-04, 5.00000000e+00, 2.85714286e+00, 2.22222222e+00,\n       1.25000000e+00, 6.66666667e+00, 4.00000000e+00, 2.22222222e+00,\n       1.33333333e+00, 1.00000000e+01, 3.33333333e+00, 2.22222222e+00,\n       1.25000000e+00, 6.66666667e+00, 4.00000000e+00, 3.33333333e+00,\n       1.33333333e+00, 1.00000000e+01, 4.00000000e+00, 2.22222222e+00,\n       1.11111111e+00, 5.00000000e+00, 4.00000000e+00, 1.81818182e+00,\n       1.25000000e+00, 6.66666667e+00, 2.85714286e+00, 3.33333333e+00,\n       1.25000000e+00, 1.00000000e+01, 2.85714286e+00, 1.53846154e+00,\n       1.33333333e+00, 4.00000000e+00, 5.00000000e+00, 1.11111111e+00,\n       1.33333333e+00, 1.00000000e+01, 2.50000000e+00, 1.66666667e+00,\n       1.05263158e+00, 1.00000000e+01, 6.66666667e+00, 2.50000000e+00,\n       1.33333333e+00, 4.00000000e+00, 4.00000000e+00, 2.22222222e+00,\n       1.42857143e+00, 1.00000000e+01, 4.00000000e+00, 1.81818182e+00,\n       1.42857143e+00, 1.00000000e+01, 2.85714286e+00, 2.50000000e+00,\n       1.17647059e+00, 2.66666667e+00, 4.00000000e+00, 2.00000000e+00,\n       2.50000000e+00])"
     },
     "execution_count": 220,
     "metadata": {},
     "output_type": "execute_result"
    }
   ],
   "source": [
    "scaler = MinMaxScaler()\n",
    "videos = scaler.fit_transform(videos)"
   ],
   "metadata": {
    "collapsed": false,
    "pycharm": {
     "name": "#%%\n"
    }
   }
  },
  {
   "cell_type": "markdown",
   "source": [
    "### Przygotowanie zbioru z oznaczonymi kategoriami"
   ],
   "metadata": {
    "collapsed": false,
    "pycharm": {
     "name": "#%% md\n"
    }
   }
  },
  {
   "cell_type": "code",
   "execution_count": 221,
   "outputs": [],
   "source": [
    "x_not_nan = videos[y_hat_nans.notna()]\n",
    "y_not_nan = y_hat_nans[y_hat_nans.notna()]"
   ],
   "metadata": {
    "collapsed": false,
    "pycharm": {
     "name": "#%%\n"
    }
   }
  },
  {
   "cell_type": "markdown",
   "source": [
    "### K-means\n",
    "\n",
    "Dobre acc (przypisuje wszyskim jedną klasę ale słaba reszta metryk)\n",
    "można zastosować bo znamy liczbę klas, do których będziemy przypisywać."
   ],
   "metadata": {
    "collapsed": false,
    "pycharm": {
     "name": "#%% md\n"
    }
   }
  },
  {
   "cell_type": "code",
   "execution_count": 222,
   "outputs": [
    {
     "name": "stdout",
     "output_type": "stream",
     "text": [
      "(8735, 40)\n"
     ]
    },
    {
     "data": {
      "text/plain": "<Figure size 432x288 with 1 Axes>",
      "image/png": "[encoded data removed]"
     },
     "metadata": {
      "needs_background": "light"
     },
     "output_type": "display_data"
    },
    {
     "name": "stdout",
     "output_type": "stream",
     "text": [
      "Cat len: 15\n",
      "[ 0  7 12 ...  0  6  0]\n",
      "{0: 24.0, 1: 24.0, 2: 17.0, 3: 10.0, 4: 25.0, 5: 28.0, 6: 24.0, 7: 24.0, 8: 24.0, 9: 23.0, 10: 26.0, 11: 25.0, 12: 1.0, 13: 10.0, 14: 27.0}\n",
      "Accuracy: 0.4676588437321122\n",
      "F1: 0.31612637920822756\n",
      "Precision: 0.44552526988530317\n",
      "Recall: 0.2960671029167505\n",
      "ROC AUC Score OVR: 0.6250448168794897\n",
      "ROC AUC Score OVO: 0.6250448168794897\n"
     ]
    },
    {
     "name": "stderr",
     "output_type": "stream",
     "text": [
      "c:\\users\\dominik\\appdata\\local\\programs\\python\\python37\\lib\\site-packages\\sklearn\\metrics\\_classification.py:1248: UndefinedMetricWarning: Precision is ill-defined and being set to 0.0 in labels with no predicted samples. Use `zero_division` parameter to control this behavior.\n",
      "  _warn_prf(average, modifier, msg_start, len(result))\n"
     ]
    },
    {
     "data": {
      "text/plain": "<Figure size 432x288 with 1 Axes>",
      "image/png": "[encoded data removed]"
     },
     "metadata": {
      "needs_background": "light"
     },
     "output_type": "display_data"
    }
   ],
   "source": [
    "select = SelectKBest(chi2, k=40)\n",
    "select.fit(x_not_nan, y_not_nan)\n",
    "x = select.transform(videos)\n",
    "print(x.shape)\n",
    "\n",
    "k_list = np.arange(2, 20)\n",
    "inertias = np.zeros_like(k_list, dtype=np.float)\n",
    "silhouettes = np.zeros_like(k_list, dtype=np.float)\n",
    "for i, k in enumerate(k_list):\n",
    "    model = KMeans(k)\n",
    "    # model.fit(x)\n",
    "    labels = model.fit_predict(x)\n",
    "    inertias[i] = model.inertia_\n",
    "    silhouettes[i] = silhouette_score(x, labels)\n",
    "\n",
    "plt.plot(k_list, inertias)\n",
    "plt.title(\"Interias\")\n",
    "plt.show()\n",
    "plt.plot(k_list, silhouettes)\n",
    "plt.title(\"Silhouette\")\n",
    "print(f\"Cat len: {len(categories)}\")\n",
    "model = KMeans(len(categories))\n",
    "model.fit(x)\n",
    "y = model.predict(x)\n",
    "print(y)\n",
    "show_stats(y_hat, y_hat_nans, y)\n",
    "\n",
    "\n",
    "def get_mapping_dict(y_hat_nans, y_pred) -> dict:\n",
    "    values_counts = y_hat_nans.value_counts().reset_index(name=\"count\")\n",
    "    # print(values_counts)\n",
    "    # print(f\"Index: {values_counts.index}\")\n",
    "    most_frequent_class = values_counts[\"index\"].iloc[0]\n",
    "    # print(most_frequent_class)\n",
    "    mapping_dict = {}\n",
    "    y_data = pd.DataFrame()\n",
    "    y_data[\"y_hat_nans\"] = y_hat_nans\n",
    "    y_data[\"y\"] = y_pred\n",
    "    y_data[\"c\"] = 1\n",
    "    y_data = y_data.groupby([\"y\", \"y_hat_nans\"])[\"c\"].sum()  #.max(level=[0])#.sort_values().groupby(level=0)\n",
    "    # print(y_data)\n",
    "    out = y_data.loc[y_data.groupby(level=0).idxmax()]\n",
    "    # print(out)\n",
    "    for row in out.index:\n",
    "        mapping_dict[row[0]] = row[1]\n",
    "    for i in range(np.unique(y_pred).shape[0]):\n",
    "        if i not in mapping_dict.keys():\n",
    "            mapping_dict[i] = most_frequent_class\n",
    "    return mapping_dict"
   ],
   "metadata": {
    "collapsed": false,
    "pycharm": {
     "name": "#%%\n"
    }
   }
  },
  {
   "cell_type": "markdown",
   "source": [
    "AHC - bo mamy zdefiniowaną liczbę grup?"
   ],
   "metadata": {
    "collapsed": false,
    "pycharm": {
     "name": "#%% md\n"
    }
   }
  },
  {
   "cell_type": "code",
   "execution_count": 223,
   "outputs": [
    {
     "name": "stdout",
     "output_type": "stream",
     "text": [
      "{0: 17.0, 1: 19.0, 2: 1.0, 3: 24.0, 4: 28.0, 5: 10.0, 6: 24.0, 7: 25.0, 8: 26.0, 9: 23.0, 10: 24.0, 11: 10.0, 12: 24.0, 13: 22.0, 14: 27.0}\n",
      "Accuracy: 0.5014310246136233\n",
      "F1: 0.3664973615791801\n",
      "Precision: 0.4915926505675612\n",
      "Recall: 0.36195280168134963\n",
      "ROC AUC Score OVR: 0.6600414165005629\n",
      "ROC AUC Score OVO: 0.6600414165005629\n"
     ]
    },
    {
     "name": "stderr",
     "output_type": "stream",
     "text": [
      "c:\\users\\dominik\\appdata\\local\\programs\\python\\python37\\lib\\site-packages\\sklearn\\metrics\\_classification.py:1248: UndefinedMetricWarning: Precision is ill-defined and being set to 0.0 in labels with no predicted samples. Use `zero_division` parameter to control this behavior.\n",
      "  _warn_prf(average, modifier, msg_start, len(result))\n"
     ]
    }
   ],
   "source": [
    "model = AgglomerativeClustering(len(categories), compute_full_tree=True)\n",
    "# model = DBSCAN(eps=0.6, min_samples=5)\n",
    "model.fit(x)\n",
    "y = model.labels_\n",
    "\n",
    "show_stats(y_hat, y_hat_nans, y)"
   ],
   "metadata": {
    "collapsed": false,
    "pycharm": {
     "name": "#%%\n"
    }
   }
  },
  {
   "cell_type": "markdown",
   "source": [
    "DBSCAN - bo mamy grupy różnej wielkości ?"
   ],
   "metadata": {
    "collapsed": false,
    "pycharm": {
     "name": "#%% md\n"
    }
   }
  },
  {
   "cell_type": "code",
   "execution_count": 224,
   "outputs": [
    {
     "name": "stdout",
     "output_type": "stream",
     "text": [
      "{-1: 24.0, 0: 24.0, 1: 17.0, 2: 10.0, 3: 10.0, 4: 10.0, 5: 10.0, 6: 10.0, 7: 24.0, 8: 24.0, 9: 26.0, 10: 10.0, 11: 24.0, 12: 22.0, 13: 22.0, 14: 22.0, 15: 24.0, 16: 24.0, 17: 24.0, 18: 24.0, 19: 10.0, 20: 24.0, 21: 23.0, 22: 27.0, 23: 24.0, 24: 24.0, 25: 24.0, 26: 26.0, 27: 24.0, 28: 17.0, 29: 24.0, 30: 10.0, 31: 24.0, 32: 25.0, 33: 10.0, 34: 22.0, 35: 10.0, 36: 17.0, 37: 10.0, 38: 25.0, 39: 26.0, 40: 10.0, 41: 10.0, 42: 10.0, 43: 10.0, 44: 1.0, 45: 22.0, 46: 27.0, 47: 10.0, 48: 10.0, 49: 26.0, 50: 10.0, 51: 10.0, 52: 10.0, 53: 10.0, 54: 1.0, 55: 22.0, 56: 24.0, 57: 24.0, 58: 28.0, 59: 19.0, 60: 24.0, 61: 24.0, 62: 10.0, 63: 26.0, 65: 10.0, 66: 24.0, 67: 10.0, 68: 10.0, 69: 1.0, 70: 10.0, 71: 17.0, 72: 17.0, 73: 10.0, 74: 24.0, 75: 20.0, 76: 25.0, 77: 23.0, 78: 23.0, 79: 23.0, 80: 10.0, 81: 10.0, 82: 10.0, 83: 10.0, 84: 23.0, 85: 17.0, 86: 24.0, 87: 10.0, 88: 22.0, 89: 15.0, 90: 24.0, 91: 24.0, 92: 24.0, 93: 1.0, 94: 24.0, 96: 10.0, 97: 10.0, 98: 23.0, 99: 10.0, 100: 24.0, 101: 24.0, 102: 25.0, 103: 26.0, 104: 24.0, 105: 26.0, 107: 10.0, 108: 25.0, 110: 25.0, 111: 17.0, 112: 23.0, 113: 24.0, 114: 10.0, 115: 22.0, 116: 25.0, 117: 23.0, 118: 24.0, 119: 10.0, 121: 24.0, 122: 1.0, 123: 10.0, 124: 20.0, 125: 17.0, 126: 24.0, 127: 17.0, 128: 10.0, 129: 10.0, 130: 20.0, 131: 24.0, 132: 10.0, 133: 17.0, 134: 25.0, 135: 22.0, 136: 28.0, 137: 24.0, 138: 10.0, 140: 25.0, 141: 10.0, 142: 24.0, 143: 24.0, 144: 17.0, 145: 17.0, 146: 10.0, 147: 20.0, 148: 25.0, 149: 24.0, 151: 28.0, 152: 10.0, 153: 22.0, 154: 10.0, 155: 10.0, 156: 24.0, 158: 17.0, 159: 10.0, 160: 23.0, 161: 17.0, 162: 10.0, 163: 24.0, 164: 28.0, 165: 10.0, 166: 24.0, 167: 23.0, 168: 2.0, 170: 1.0, 171: 17.0, 172: 26.0, 173: 23.0, 174: 24.0, 175: 24.0, 176: 1.0, 177: 20.0, 178: 10.0, 179: 24.0, 180: 17.0, 181: 23.0, 182: 27.0, 183: 10.0, 184: 22.0, 185: 22.0, 186: 24.0, 187: 1.0, 188: 26.0, 190: 22.0, 191: 22.0, 192: 10.0, 193: 24.0, 194: 28.0, 195: 25.0, 196: 26.0, 197: 27.0, 198: 22.0, 199: 17.0, 200: 28.0, 201: 27.0, 202: 25.0, 203: 24.0, 204: 27.0, 205: 22.0, 206: 25.0, 207: 24.0, 208: 17.0, 209: 23.0, 210: 24.0, 211: 25.0, 212: 17.0, 215: 17.0, 216: 26.0, 217: 27.0, 218: 1.0, 219: 27.0, 220: 23.0, 64: 10.0, 95: 10.0, 106: 10.0, 109: 10.0, 120: 10.0, 139: 10.0, 150: 10.0, 157: 10.0, 169: 10.0, 189: 10.0, 213: 10.0, 214: 10.0, 221: 10.0}\n",
      "Accuracy: 0.40526617057813397\n",
      "F1: 0.25328344383210694\n",
      "Precision: 0.5911271427550526\n",
      "Recall: 0.20872390383842276\n",
      "ROC AUC Score OVR: 0.5785173872670596\n",
      "ROC AUC Score OVO: 0.5785173872670596\n"
     ]
    },
    {
     "name": "stderr",
     "output_type": "stream",
     "text": [
      "c:\\users\\dominik\\appdata\\local\\programs\\python\\python37\\lib\\site-packages\\sklearn\\metrics\\_classification.py:1248: UndefinedMetricWarning: Precision is ill-defined and being set to 0.0 in labels with no predicted samples. Use `zero_division` parameter to control this behavior.\n",
      "  _warn_prf(average, modifier, msg_start, len(result))\n"
     ]
    }
   ],
   "source": [
    "model = DBSCAN(eps=0.1, min_samples=5)\n",
    "model.fit(x)\n",
    "y = model.labels_\n",
    "show_stats(y_hat, y_hat_nans, y)"
   ],
   "metadata": {
    "collapsed": false,
    "pycharm": {
     "name": "#%%\n"
    }
   }
  },
  {
   "cell_type": "markdown",
   "source": [
    "### DBSCAN eps Tuning"
   ],
   "metadata": {
    "collapsed": false,
    "pycharm": {
     "name": "#%% md\n"
    }
   }
  },
  {
   "cell_type": "code",
   "execution_count": 225,
   "outputs": [
    {
     "data": {
      "text/plain": "<Figure size 432x288 with 1 Axes>",
      "image/png": "[encoded data removed]"
     },
     "metadata": {
      "needs_background": "light"
     },
     "output_type": "display_data"
    }
   ],
   "source": [
    "nn = NearestNeighbors(n_neighbors=11)\n",
    "neighbors = nn.fit(x)\n",
    "dist, ind = neighbors.kneighbors()\n",
    "\n",
    "dist = np.sort(dist[:, 10], axis=0)\n",
    "\n",
    "plt.plot(dist)\n",
    "plt.xlabel(\"Points\")\n",
    "plt.ylabel(\"Dist\")\n",
    "plt.show()"
   ],
   "metadata": {
    "collapsed": false,
    "pycharm": {
     "name": "#%%\n"
    }
   }
  }
 ],
 "metadata": {
  "kernelspec": {
   "display_name": "Python 3",
   "language": "python",
   "name": "python3"
  },
  "language_info": {
   "codemirror_mode": {
    "name": "ipython",
    "version": 2
   },
   "file_extension": ".py",
   "mimetype": "text/x-python",
   "name": "python",
   "nbconvert_exporter": "python",
   "pygments_lexer": "ipython2",
   "version": "2.7.6"
  }
 },
 "nbformat": 4,
 "nbformat_minor": 0
}