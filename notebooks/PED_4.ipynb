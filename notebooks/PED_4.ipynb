{
 "cells": [
  {
   "cell_type": "markdown",
   "source": [
    "# YouTube trending videos"
   ],
   "metadata": {
    "collapsed": false
   }
  },
  {
   "cell_type": "code",
   "execution_count": 208,
   "outputs": [],
   "source": [
    "%matplotlib inline\n",
    "import matplotlib.pyplot as plt\n",
    "import numpy as np\n",
    "import pandas as pd\n",
    "from sklearn.cluster import KMeans, DBSCAN, AgglomerativeClustering\n",
    "from sklearn.feature_selection import chi2, SelectKBest\n",
    "from sklearn.metrics import accuracy_score, f1_score, precision_score, silhouette_score\n",
    "\n",
    "from helpers.categories import get_categories_dict\n",
    "from helpers.files import load_csv"
   ],
   "metadata": {
    "collapsed": false,
    "pycharm": {
     "name": "#%%\n"
    }
   }
  },
  {
   "cell_type": "markdown",
   "source": [
    "## Etap 4 - Wykorzystanie uczenia pół-nadzorowanego\n",
    "\n",
    "# TODO normalizacja danych\n",
    "\n",
    "### Wyczytanie danych"
   ],
   "metadata": {
    "collapsed": false
   }
  },
  {
   "cell_type": "code",
   "execution_count": 209,
   "outputs": [],
   "source": [
    "gb_data, us_data = load_csv(\"clustering_data\")\n",
    "\n",
    "videos = pd.concat([gb_data, us_data])\n",
    "categories_ids = videos[\"new_category_id\"].dropna().unique().tolist()"
   ],
   "metadata": {
    "collapsed": false,
    "pycharm": {
     "name": "#%%\n"
    }
   }
  },
  {
   "cell_type": "markdown",
   "source": [
    "### Wczytanie nazw kategorii"
   ],
   "metadata": {
    "collapsed": false,
    "pycharm": {
     "name": "#%% md\n"
    }
   }
  },
  {
   "cell_type": "code",
   "execution_count": 210,
   "outputs": [],
   "source": [
    "categories_dict = get_categories_dict()\n",
    "categories = [categories_dict[cat] for cat in categories_ids]"
   ],
   "metadata": {
    "collapsed": false,
    "pycharm": {
     "name": "#%%\n"
    }
   }
  },
  {
   "cell_type": "markdown",
   "source": [
    "## Usunięcie danych tekstowych"
   ],
   "metadata": {
    "collapsed": false,
    "pycharm": {
     "name": "#%% md\n"
    }
   }
  },
  {
   "cell_type": "code",
   "execution_count": 211,
   "outputs": [
    {
     "data": {
      "text/plain": "        views   likes  dislikes  comment_count  description_len  title_len  \\\n0       28725     253         3             12             31.0         31   \n4     1770509  163869      2704           7269            751.0         44   \n5     4651793  251125      1013          12150            331.0         33   \n8      131985    5051       122            504           3405.0         67   \n9     3592011   52578      2414           4919            527.0         40   \n...       ...     ...       ...            ...              ...        ...   \n6322  3321250   66486      2417           4602            389.0         90   \n6333   261520   19333       124            735           1807.0         34   \n6339   656819   11856       433           1630            202.0         32   \n6341    52513    1278        56            432            494.0         63   \n6342  2163062   38633      1770           6416            185.0         24   \n\n      channel_title_len  publish_time_day_of_week  publish_time_hour_of_day  \\\n0                    12                         0                        17   \n4                    11                         2                        22   \n5                     6                         1                        12   \n8                     9                         6                        18   \n9                    18                         3                         8   \n...                 ...                       ...                       ...   \n6322                  9                         2                        22   \n6333                 15                         3                        16   \n6339                 12                         5                        15   \n6341                 18                         2                        20   \n6342                 13                         1                        18   \n\n      gray_mean_score  ...  freq_tags_Autos & Vehicles  \\\n0                 NaN  ...                         0.0   \n4           1027255.0  ...                         0.0   \n5            642414.0  ...                         0.0   \n8            750510.0  ...                         0.0   \n9           1072894.0  ...                         0.0   \n...               ...  ...                         ...   \n6322        1274921.0  ...                         0.0   \n6333        1411212.0  ...                         0.0   \n6339              NaN  ...                         0.0   \n6341        1093469.0  ...                         0.0   \n6342        1251969.0  ...                         0.0   \n\n      freq_descriptions_Autos & Vehicles  freq_channel_titles_Travel & Events  \\\n0                                   0.00                                  0.0   \n4                                   0.20                                  0.0   \n5                                   0.00                                  0.0   \n8                                   0.25                                  0.0   \n9                                   0.10                                  0.0   \n...                                  ...                                  ...   \n6322                                0.15                                  0.0   \n6333                                0.35                                  0.0   \n6339                                0.05                                  0.0   \n6341                                0.30                                  0.0   \n6342                                0.05                                  0.0   \n\n      freq_titles_Travel & Events  freq_tags_Travel & Events  \\\n0                            0.00                        0.0   \n4                            0.00                        0.0   \n5                            0.00                        0.0   \n8                            0.05                        0.0   \n9                            0.05                        0.0   \n...                           ...                        ...   \n6322                         0.00                        0.0   \n6333                         0.00                        0.0   \n6339                         0.00                        0.0   \n6341                         0.00                        0.0   \n6342                         0.00                        0.0   \n\n      freq_descriptions_Travel & Events  \\\n0                                  0.00   \n4                                  0.15   \n5                                  0.05   \n8                                  0.30   \n9                                  0.05   \n...                                 ...   \n6322                               0.15   \n6333                               0.20   \n6339                               0.00   \n6341                               0.15   \n6342                               0.00   \n\n      freq_channel_titles_Nonprofits & Activism  \\\n0                                           0.0   \n4                                           0.0   \n5                                           0.0   \n8                                           0.0   \n9                                           0.0   \n...                                         ...   \n6322                                        0.0   \n6333                                        0.0   \n6339                                        0.0   \n6341                                        0.0   \n6342                                        0.0   \n\n     freq_titles_Nonprofits & Activism freq_tags_Nonprofits & Activism  \\\n0                                  0.0                             0.0   \n4                                  0.0                             0.0   \n5                                  0.0                             0.0   \n8                                  0.0                             0.0   \n9                                  0.0                             0.0   \n...                                ...                             ...   \n6322                               0.0                             0.0   \n6333                               0.0                             0.0   \n6339                               0.0                             0.0   \n6341                               0.0                             0.0   \n6342                               0.0                             0.0   \n\n     freq_descriptions_Nonprofits & Activism  \n0                                       0.00  \n4                                       0.05  \n5                                       0.00  \n8                                       0.10  \n9                                       0.00  \n...                                      ...  \n6322                                    0.00  \n6333                                    0.20  \n6339                                    0.05  \n6341                                    0.05  \n6342                                    0.05  \n\n[2733 rows x 84 columns]",
      "text/html": "<div>\n<style scoped>\n    .dataframe tbody tr th:only-of-type {\n        vertical-align: middle;\n    }\n\n    .dataframe tbody tr th {\n        vertical-align: top;\n    }\n\n    .dataframe thead th {\n        text-align: right;\n    }\n</style>\n<table border=\"1\" class=\"dataframe\">\n  <thead>\n    <tr style=\"text-align: right;\">\n      <th></th>\n      <th>views</th>\n      <th>likes</th>\n      <th>dislikes</th>\n      <th>comment_count</th>\n      <th>description_len</th>\n      <th>title_len</th>\n      <th>channel_title_len</th>\n      <th>publish_time_day_of_week</th>\n      <th>publish_time_hour_of_day</th>\n      <th>gray_mean_score</th>\n      <th>...</th>\n      <th>freq_tags_Autos &amp; Vehicles</th>\n      <th>freq_descriptions_Autos &amp; Vehicles</th>\n      <th>freq_channel_titles_Travel &amp; Events</th>\n      <th>freq_titles_Travel &amp; Events</th>\n      <th>freq_tags_Travel &amp; Events</th>\n      <th>freq_descriptions_Travel &amp; Events</th>\n      <th>freq_channel_titles_Nonprofits &amp; Activism</th>\n      <th>freq_titles_Nonprofits &amp; Activism</th>\n      <th>freq_tags_Nonprofits &amp; Activism</th>\n      <th>freq_descriptions_Nonprofits &amp; Activism</th>\n    </tr>\n  </thead>\n  <tbody>\n    <tr>\n      <th>0</th>\n      <td>28725</td>\n      <td>253</td>\n      <td>3</td>\n      <td>12</td>\n      <td>31.0</td>\n      <td>31</td>\n      <td>12</td>\n      <td>0</td>\n      <td>17</td>\n      <td>NaN</td>\n      <td>...</td>\n      <td>0.0</td>\n      <td>0.00</td>\n      <td>0.0</td>\n      <td>0.00</td>\n      <td>0.0</td>\n      <td>0.00</td>\n      <td>0.0</td>\n      <td>0.0</td>\n      <td>0.0</td>\n      <td>0.00</td>\n    </tr>\n    <tr>\n      <th>4</th>\n      <td>1770509</td>\n      <td>163869</td>\n      <td>2704</td>\n      <td>7269</td>\n      <td>751.0</td>\n      <td>44</td>\n      <td>11</td>\n      <td>2</td>\n      <td>22</td>\n      <td>1027255.0</td>\n      <td>...</td>\n      <td>0.0</td>\n      <td>0.20</td>\n      <td>0.0</td>\n      <td>0.00</td>\n      <td>0.0</td>\n      <td>0.15</td>\n      <td>0.0</td>\n      <td>0.0</td>\n      <td>0.0</td>\n      <td>0.05</td>\n    </tr>\n    <tr>\n      <th>5</th>\n      <td>4651793</td>\n      <td>251125</td>\n      <td>1013</td>\n      <td>12150</td>\n      <td>331.0</td>\n      <td>33</td>\n      <td>6</td>\n      <td>1</td>\n      <td>12</td>\n      <td>642414.0</td>\n      <td>...</td>\n      <td>0.0</td>\n      <td>0.00</td>\n      <td>0.0</td>\n      <td>0.00</td>\n      <td>0.0</td>\n      <td>0.05</td>\n      <td>0.0</td>\n      <td>0.0</td>\n      <td>0.0</td>\n      <td>0.00</td>\n    </tr>\n    <tr>\n      <th>8</th>\n      <td>131985</td>\n      <td>5051</td>\n      <td>122</td>\n      <td>504</td>\n      <td>3405.0</td>\n      <td>67</td>\n      <td>9</td>\n      <td>6</td>\n      <td>18</td>\n      <td>750510.0</td>\n      <td>...</td>\n      <td>0.0</td>\n      <td>0.25</td>\n      <td>0.0</td>\n      <td>0.05</td>\n      <td>0.0</td>\n      <td>0.30</td>\n      <td>0.0</td>\n      <td>0.0</td>\n      <td>0.0</td>\n      <td>0.10</td>\n    </tr>\n    <tr>\n      <th>9</th>\n      <td>3592011</td>\n      <td>52578</td>\n      <td>2414</td>\n      <td>4919</td>\n      <td>527.0</td>\n      <td>40</td>\n      <td>18</td>\n      <td>3</td>\n      <td>8</td>\n      <td>1072894.0</td>\n      <td>...</td>\n      <td>0.0</td>\n      <td>0.10</td>\n      <td>0.0</td>\n      <td>0.05</td>\n      <td>0.0</td>\n      <td>0.05</td>\n      <td>0.0</td>\n      <td>0.0</td>\n      <td>0.0</td>\n      <td>0.00</td>\n    </tr>\n    <tr>\n      <th>...</th>\n      <td>...</td>\n      <td>...</td>\n      <td>...</td>\n      <td>...</td>\n      <td>...</td>\n      <td>...</td>\n      <td>...</td>\n      <td>...</td>\n      <td>...</td>\n      <td>...</td>\n      <td>...</td>\n      <td>...</td>\n      <td>...</td>\n      <td>...</td>\n      <td>...</td>\n      <td>...</td>\n      <td>...</td>\n      <td>...</td>\n      <td>...</td>\n      <td>...</td>\n      <td>...</td>\n    </tr>\n    <tr>\n      <th>6322</th>\n      <td>3321250</td>\n      <td>66486</td>\n      <td>2417</td>\n      <td>4602</td>\n      <td>389.0</td>\n      <td>90</td>\n      <td>9</td>\n      <td>2</td>\n      <td>22</td>\n      <td>1274921.0</td>\n      <td>...</td>\n      <td>0.0</td>\n      <td>0.15</td>\n      <td>0.0</td>\n      <td>0.00</td>\n      <td>0.0</td>\n      <td>0.15</td>\n      <td>0.0</td>\n      <td>0.0</td>\n      <td>0.0</td>\n      <td>0.00</td>\n    </tr>\n    <tr>\n      <th>6333</th>\n      <td>261520</td>\n      <td>19333</td>\n      <td>124</td>\n      <td>735</td>\n      <td>1807.0</td>\n      <td>34</td>\n      <td>15</td>\n      <td>3</td>\n      <td>16</td>\n      <td>1411212.0</td>\n      <td>...</td>\n      <td>0.0</td>\n      <td>0.35</td>\n      <td>0.0</td>\n      <td>0.00</td>\n      <td>0.0</td>\n      <td>0.20</td>\n      <td>0.0</td>\n      <td>0.0</td>\n      <td>0.0</td>\n      <td>0.20</td>\n    </tr>\n    <tr>\n      <th>6339</th>\n      <td>656819</td>\n      <td>11856</td>\n      <td>433</td>\n      <td>1630</td>\n      <td>202.0</td>\n      <td>32</td>\n      <td>12</td>\n      <td>5</td>\n      <td>15</td>\n      <td>NaN</td>\n      <td>...</td>\n      <td>0.0</td>\n      <td>0.05</td>\n      <td>0.0</td>\n      <td>0.00</td>\n      <td>0.0</td>\n      <td>0.00</td>\n      <td>0.0</td>\n      <td>0.0</td>\n      <td>0.0</td>\n      <td>0.05</td>\n    </tr>\n    <tr>\n      <th>6341</th>\n      <td>52513</td>\n      <td>1278</td>\n      <td>56</td>\n      <td>432</td>\n      <td>494.0</td>\n      <td>63</td>\n      <td>18</td>\n      <td>2</td>\n      <td>20</td>\n      <td>1093469.0</td>\n      <td>...</td>\n      <td>0.0</td>\n      <td>0.30</td>\n      <td>0.0</td>\n      <td>0.00</td>\n      <td>0.0</td>\n      <td>0.15</td>\n      <td>0.0</td>\n      <td>0.0</td>\n      <td>0.0</td>\n      <td>0.05</td>\n    </tr>\n    <tr>\n      <th>6342</th>\n      <td>2163062</td>\n      <td>38633</td>\n      <td>1770</td>\n      <td>6416</td>\n      <td>185.0</td>\n      <td>24</td>\n      <td>13</td>\n      <td>1</td>\n      <td>18</td>\n      <td>1251969.0</td>\n      <td>...</td>\n      <td>0.0</td>\n      <td>0.05</td>\n      <td>0.0</td>\n      <td>0.00</td>\n      <td>0.0</td>\n      <td>0.00</td>\n      <td>0.0</td>\n      <td>0.0</td>\n      <td>0.0</td>\n      <td>0.05</td>\n    </tr>\n  </tbody>\n</table>\n<p>2733 rows × 84 columns</p>\n</div>"
     },
     "execution_count": 211,
     "metadata": {},
     "output_type": "execute_result"
    }
   ],
   "source": [
    "videos = videos[videos[\"new_category_id\"].notna()]\n",
    "y_hat = videos[\"new_category_id\"]  # oczekiwane kategorie z api\n",
    "y_hat_nans = videos[\"category_id\"]  # oczekiwane kategorie z nanami (z oryginalnego zbioru)\n",
    "videos_no_nan_categories = videos[videos[\"category_id\"].notna()]\n",
    "selected_columns = [\n",
    "    \"views\", \"likes\", \"dislikes\", \"comment_count\", \"description_len\", \"title_len\", \"channel_title_len\",\n",
    "    \"publish_time_day_of_week\", \"publish_time_hour_of_day\",\n",
    "    \"gray_mean_score\", \"color_mean_score\", \"gray_hist_score\",\n",
    "    \"red_hist_score\", \"green_hist_score\", \"blue_hist_score\", \"edges_score\", \"entropy_score\",\n",
    "]\n",
    "\n",
    "for cat in categories_ids:\n",
    "    selected_columns.append(f\"freq_channel_titles_{categories_dict[cat]}\")\n",
    "    selected_columns.append(f\"freq_titles_{categories_dict[cat]}\")\n",
    "    selected_columns.append(f\"freq_tags_{categories_dict[cat]}\")\n",
    "    selected_columns.append(f\"freq_descriptions_{categories_dict[cat]}\")\n",
    "\n",
    "videos = videos[selected_columns]\n",
    "videos = videos.fillna(videos.mean())\n",
    "x_not_nan = videos[y_hat_nans.notna()]\n",
    "y_not_nan = y_hat_nans[y_hat_nans.notna()]\n",
    "\n",
    "videos_no_nan_categories"
   ],
   "metadata": {
    "collapsed": false,
    "pycharm": {
     "name": "#%%\n"
    }
   }
  },
  {
   "cell_type": "markdown",
   "source": [
    "### Uzupełnienie wartości pustych wartościami średnimi\n"
   ],
   "metadata": {
    "collapsed": false,
    "pycharm": {
     "name": "#%% md\n"
    }
   }
  },
  {
   "cell_type": "code",
   "execution_count": 212,
   "outputs": [],
   "source": [
    "# videos = videos.fillna(videos.mean())"
   ],
   "metadata": {
    "collapsed": false,
    "pycharm": {
     "name": "#%%\n"
    }
   }
  },
  {
   "cell_type": "markdown",
   "source": [
    "### K-means\n",
    "\n",
    "Dobre acc (przypisuje wszyskim jedną klasę ale słaba reszta metryk)\n",
    "można zastosować bo znamy liczbę klas, do których będziemy przypisywać."
   ],
   "metadata": {
    "collapsed": false,
    "pycharm": {
     "name": "#%% md\n"
    }
   }
  },
  {
   "cell_type": "code",
   "execution_count": 213,
   "outputs": [
    {
     "name": "stdout",
     "output_type": "stream",
     "text": [
      "(8735, 5)\n"
     ]
    },
    {
     "data": {
      "text/plain": "<Figure size 432x288 with 1 Axes>",
      "image/png": "[encoded data removed]"
     },
     "metadata": {
      "needs_background": "light"
     },
     "output_type": "display_data"
    },
    {
     "name": "stdout",
     "output_type": "stream",
     "text": [
      "Catlen: 15\n",
      "[10 10  0 ... 10 10  7]\n",
      "    index  count\n",
      "0    10.0    634\n",
      "1    24.0    621\n",
      "2    22.0    219\n",
      "3    26.0    216\n",
      "4    23.0    194\n",
      "5    17.0    176\n",
      "6     1.0    167\n",
      "7    25.0    142\n",
      "8    28.0    101\n",
      "9    20.0     90\n",
      "10   27.0     80\n",
      "11   15.0     53\n",
      "12   19.0     20\n",
      "13    2.0     13\n",
      "14   29.0      5\n",
      "15   43.0      2\n",
      "Index: RangeIndex(start=0, stop=16, step=1)\n",
      "10.0\n",
      "y   y_hat_nans\n",
      "0   1.0            51\n",
      "    2.0             1\n",
      "    10.0          147\n",
      "    15.0            4\n",
      "    17.0           25\n",
      "                 ... \n",
      "10  43.0            2\n",
      "11  10.0            2\n",
      "12  10.0            8\n",
      "13  10.0           13\n",
      "14  10.0            2\n",
      "Name: c, Length: 78, dtype: int64\n",
      "y   y_hat_nans\n",
      "0   24.0          151\n",
      "1   10.0            1\n",
      "2   10.0           15\n",
      "3   10.0            1\n",
      "4   10.0           49\n",
      "5   10.0           11\n",
      "7   10.0          100\n",
      "8   10.0           20\n",
      "9   10.0           44\n",
      "10  24.0          391\n",
      "11  10.0            2\n",
      "12  10.0            8\n",
      "13  10.0           13\n",
      "14  10.0            2\n",
      "Name: c, dtype: int64\n",
      "{0: 24.0, 1: 10.0, 2: 10.0, 3: 10.0, 4: 10.0, 5: 10.0, 7: 10.0, 8: 10.0, 9: 10.0, 10: 24.0, 11: 10.0, 12: 10.0, 13: 10.0, 14: 10.0, 6: 10.0}\n",
      "Accuracy: 0.28666285060103036\n",
      "F1: 0.05335616632495913\n",
      "Precision: 0.053590956996135634\n"
     ]
    },
    {
     "name": "stderr",
     "output_type": "stream",
     "text": [
      "c:\\users\\dominik\\appdata\\local\\programs\\python\\python37\\lib\\site-packages\\sklearn\\metrics\\_classification.py:1248: UndefinedMetricWarning: Precision is ill-defined and being set to 0.0 in labels with no predicted samples. Use `zero_division` parameter to control this behavior.\n",
      "  _warn_prf(average, modifier, msg_start, len(result))\n"
     ]
    },
    {
     "data": {
      "text/plain": "<Figure size 432x288 with 1 Axes>",
      "image/png": "[encoded data removed]"
     },
     "metadata": {
      "needs_background": "light"
     },
     "output_type": "display_data"
    }
   ],
   "source": [
    "select = SelectKBest(chi2, k=5)\n",
    "select.fit(x_not_nan, y_not_nan)\n",
    "x = select.transform(videos)\n",
    "print(x.shape)\n",
    "\n",
    "k_list = np.arange(2, 20)\n",
    "inertias = np.zeros_like(k_list, dtype=np.float)\n",
    "silhouettes = np.zeros_like(k_list, dtype=np.float)\n",
    "for i, k in enumerate(k_list):\n",
    "    model = KMeans(k)\n",
    "    # model.fit(x)\n",
    "    labels = model.fit_predict(x)\n",
    "    inertias[i] = model.inertia_\n",
    "    silhouettes[i] = silhouette_score(x, labels)\n",
    "\n",
    "plt.plot(k_list, inertias)\n",
    "plt.title(\"Interias\")\n",
    "plt.show()\n",
    "plt.plot(k_list, silhouettes)\n",
    "plt.title(\"Silhouette\")\n",
    "print(f\"Catlen: {len(categories)}\")\n",
    "model = KMeans(len(categories))\n",
    "model.fit(x)\n",
    "y = model.predict(x)\n",
    "print(y)\n",
    "def get_mapping_dict(y_hat_nans, y_pred) -> dict:\n",
    "    values_counts = y_hat_nans.value_counts().reset_index(name=\"count\")\n",
    "    print(values_counts)\n",
    "    print(f\"Index: {values_counts.index}\")\n",
    "    most_frequent_class = values_counts[\"index\"].iloc[0]\n",
    "    print(most_frequent_class)\n",
    "    mapping_dict = {}\n",
    "    y_data = pd.DataFrame()\n",
    "    y_data[\"y_hat_nans\"] = y_hat_nans\n",
    "    y_data[\"y\"] = y_pred\n",
    "    y_data[\"c\"] = 1\n",
    "    y_data = y_data.groupby([\"y\", \"y_hat_nans\"])[\"c\"].sum()  #.max(level=[0])#.sort_values().groupby(level=0)\n",
    "    print(y_data)\n",
    "    out = y_data.loc[y_data.groupby(level=0).idxmax()]\n",
    "    print(out)\n",
    "    for row in out.index:\n",
    "        mapping_dict[row[0]] = row[1]\n",
    "    for i in range(len(categories)):\n",
    "        if i not in mapping_dict.keys():\n",
    "            mapping_dict[i] = most_frequent_class\n",
    "    return mapping_dict\n",
    "\n",
    "\n",
    "mapping_dict = get_mapping_dict(y_hat_nans, y)\n",
    "print(mapping_dict)\n",
    "y_mapped = pd.Series(y).apply(lambda x: mapping_dict[x])\n",
    "print(f\"Accuracy: {accuracy_score(y_hat, y_mapped)}\")\n",
    "print(f\"F1: {f1_score(y_hat, y_mapped, average='macro')}\")\n",
    "print(f\"Precision: {precision_score(y_hat, y_mapped, average='macro')}\")"
   ],
   "metadata": {
    "collapsed": false,
    "pycharm": {
     "name": "#%%\n"
    }
   }
  },
  {
   "cell_type": "markdown",
   "source": [
    "AHC - bo mamy zdefiniowaną liczbę grup?"
   ],
   "metadata": {
    "collapsed": false,
    "pycharm": {
     "name": "#%% md\n"
    }
   }
  },
  {
   "cell_type": "code",
   "execution_count": 214,
   "outputs": [
    {
     "name": "stdout",
     "output_type": "stream",
     "text": [
      "[ 0  1  2  3  4  5  6  7  8  9 10 11 12 13 14]\n",
      "    index  count\n",
      "0    10.0    634\n",
      "1    24.0    621\n",
      "2    22.0    219\n",
      "3    26.0    216\n",
      "4    23.0    194\n",
      "5    17.0    176\n",
      "6     1.0    167\n",
      "7    25.0    142\n",
      "8    28.0    101\n",
      "9    20.0     90\n",
      "10   27.0     80\n",
      "11   15.0     53\n",
      "12   19.0     20\n",
      "13    2.0     13\n",
      "14   29.0      5\n",
      "15   43.0      2\n",
      "Index: RangeIndex(start=0, stop=16, step=1)\n",
      "10.0\n",
      "y   y_hat_nans\n",
      "0   10.0            9\n",
      "1   1.0           120\n",
      "    2.0            11\n",
      "    10.0          279\n",
      "    15.0           48\n",
      "                 ... \n",
      "14  1.0             1\n",
      "    10.0            9\n",
      "    22.0            1\n",
      "    24.0            4\n",
      "    26.0            1\n",
      "Name: c, Length: 77, dtype: int64\n",
      "y   y_hat_nans\n",
      "0   10.0            9\n",
      "1   24.0          466\n",
      "2   10.0          140\n",
      "3   10.0           25\n",
      "5   10.0           11\n",
      "6   10.0           36\n",
      "7   10.0            2\n",
      "8   10.0           14\n",
      "9   10.0           13\n",
      "10  10.0            1\n",
      "11  10.0           58\n",
      "12  10.0            2\n",
      "13  10.0           35\n",
      "14  10.0            9\n",
      "Name: c, dtype: int64\n",
      "{0: 10.0, 1: 24.0, 2: 10.0, 3: 10.0, 5: 10.0, 6: 10.0, 7: 10.0, 8: 10.0, 9: 10.0, 10: 10.0, 11: 10.0, 12: 10.0, 13: 10.0, 14: 10.0, 4: 10.0}\n",
      "Accuracy: 0.2871207784773898\n",
      "F1: 0.054826757877784744\n",
      "Precision: 0.045246554528668666\n"
     ]
    },
    {
     "name": "stderr",
     "output_type": "stream",
     "text": [
      "c:\\users\\dominik\\appdata\\local\\programs\\python\\python37\\lib\\site-packages\\sklearn\\metrics\\_classification.py:1248: UndefinedMetricWarning: Precision is ill-defined and being set to 0.0 in labels with no predicted samples. Use `zero_division` parameter to control this behavior.\n",
      "  _warn_prf(average, modifier, msg_start, len(result))\n"
     ]
    }
   ],
   "source": [
    "model = AgglomerativeClustering(len(categories), compute_full_tree=True)\n",
    "# model = DBSCAN(eps=0.6, min_samples=5)\n",
    "model.fit(x)\n",
    "y = model.labels_\n",
    "print(np.unique(y))\n",
    "mapping_dict = get_mapping_dict(y_hat_nans, y)\n",
    "print(mapping_dict)\n",
    "y_mapped = pd.Series(y).apply(lambda x: mapping_dict[x])\n",
    "print(f\"Accuracy: {accuracy_score(y_hat, y_mapped)}\")\n",
    "print(f\"F1: {f1_score(y_hat, y_mapped, average='macro')}\")\n",
    "print(f\"Precision: {precision_score(y_hat, y_mapped, average='macro')}\")"
   ],
   "metadata": {
    "collapsed": false,
    "pycharm": {
     "name": "#%%\n"
    }
   }
  },
  {
   "cell_type": "markdown",
   "source": [
    "DBSCAN - bo mamy grupy różnej wielkości ?"
   ],
   "metadata": {
    "collapsed": false,
    "pycharm": {
     "name": "#%% md\n"
    }
   }
  },
  {
   "cell_type": "code",
   "execution_count": 217,
   "outputs": [
    {
     "name": "stdout",
     "output_type": "stream",
     "text": [
      "[-1  0  1  2  3  4  5  6  7  8  9 10 11 12 13 14 15 16 17]\n",
      "    index  count\n",
      "0    10.0    634\n",
      "1    24.0    621\n",
      "2    22.0    219\n",
      "3    26.0    216\n",
      "4    23.0    194\n",
      "5    17.0    176\n",
      "6     1.0    167\n",
      "7    25.0    142\n",
      "8    28.0    101\n",
      "9    20.0     90\n",
      "10   27.0     80\n",
      "11   15.0     53\n",
      "12   19.0     20\n",
      "13    2.0     13\n",
      "14   29.0      5\n",
      "15   43.0      2\n",
      "Index: RangeIndex(start=0, stop=16, step=1)\n",
      "10.0\n",
      "y    y_hat_nans\n",
      "-1   1.0           164\n",
      "     2.0            12\n",
      "     10.0          632\n",
      "     15.0           50\n",
      "     17.0          168\n",
      "     19.0           20\n",
      "     20.0           89\n",
      "     22.0          210\n",
      "     23.0          191\n",
      "     24.0          613\n",
      "     25.0          132\n",
      "     26.0          215\n",
      "     27.0           79\n",
      "     28.0          100\n",
      "     29.0            5\n",
      "     43.0            1\n",
      " 0   22.0            3\n",
      "     24.0            1\n",
      " 1   15.0            1\n",
      "     17.0            3\n",
      " 2   1.0             1\n",
      "     17.0            3\n",
      "     20.0            1\n",
      "     22.0            3\n",
      "     23.0            1\n",
      "     24.0            1\n",
      "     25.0            7\n",
      "     27.0            1\n",
      " 3   25.0            1\n",
      " 4   10.0            1\n",
      "     24.0            1\n",
      "     25.0            1\n",
      " 5   23.0            1\n",
      " 6   22.0            1\n",
      "     24.0            2\n",
      "     25.0            1\n",
      " 7   1.0             1\n",
      "     43.0            1\n",
      " 9   24.0            1\n",
      "     28.0            1\n",
      " 10  22.0            1\n",
      "     23.0            1\n",
      "     24.0            1\n",
      "     26.0            1\n",
      " 11  15.0            1\n",
      " 12  2.0             1\n",
      " 13  1.0             1\n",
      " 14  10.0            1\n",
      "     15.0            1\n",
      "     17.0            1\n",
      "     24.0            1\n",
      " 15  17.0            1\n",
      " 17  22.0            1\n",
      "Name: c, dtype: int64\n",
      "y    y_hat_nans\n",
      "-1   10.0          632\n",
      " 0   22.0            3\n",
      " 1   17.0            3\n",
      " 2   25.0            7\n",
      " 3   25.0            1\n",
      " 4   10.0            1\n",
      " 5   23.0            1\n",
      " 6   24.0            2\n",
      " 7   1.0             1\n",
      " 9   24.0            1\n",
      " 10  22.0            1\n",
      " 11  15.0            1\n",
      " 12  2.0             1\n",
      " 13  1.0             1\n",
      " 14  10.0            1\n",
      " 15  17.0            1\n",
      " 17  22.0            1\n",
      "Name: c, dtype: int64\n",
      "{-1: 10.0, 0: 22.0, 1: 17.0, 2: 25.0, 3: 25.0, 4: 10.0, 5: 23.0, 6: 24.0, 7: 1.0, 9: 24.0, 10: 22.0, 11: 15.0, 12: 2.0, 13: 1.0, 14: 10.0, 15: 17.0, 17: 22.0, 8: 10.0}\n"
     ]
    },
    {
     "ename": "KeyError",
     "evalue": "16",
     "output_type": "error",
     "traceback": [
      "\u001B[1;31m---------------------------------------------------------------------------\u001B[0m",
      "\u001B[1;31mKeyError\u001B[0m                                  Traceback (most recent call last)",
      "\u001B[1;32m<ipython-input-217-705795e5cca5>\u001B[0m in \u001B[0;36m<module>\u001B[1;34m\u001B[0m\n\u001B[0;32m      5\u001B[0m \u001B[0mmapping_dict\u001B[0m \u001B[1;33m=\u001B[0m \u001B[0mget_mapping_dict\u001B[0m\u001B[1;33m(\u001B[0m\u001B[0my_hat_nans\u001B[0m\u001B[1;33m,\u001B[0m \u001B[0my\u001B[0m\u001B[1;33m)\u001B[0m\u001B[1;33m\u001B[0m\u001B[1;33m\u001B[0m\u001B[0m\n\u001B[0;32m      6\u001B[0m \u001B[0mprint\u001B[0m\u001B[1;33m(\u001B[0m\u001B[0mmapping_dict\u001B[0m\u001B[1;33m)\u001B[0m\u001B[1;33m\u001B[0m\u001B[1;33m\u001B[0m\u001B[0m\n\u001B[1;32m----> 7\u001B[1;33m \u001B[0my_mapped\u001B[0m \u001B[1;33m=\u001B[0m \u001B[0mpd\u001B[0m\u001B[1;33m.\u001B[0m\u001B[0mSeries\u001B[0m\u001B[1;33m(\u001B[0m\u001B[0my\u001B[0m\u001B[1;33m)\u001B[0m\u001B[1;33m.\u001B[0m\u001B[0mapply\u001B[0m\u001B[1;33m(\u001B[0m\u001B[1;32mlambda\u001B[0m \u001B[0mx\u001B[0m\u001B[1;33m:\u001B[0m \u001B[0mmapping_dict\u001B[0m\u001B[1;33m[\u001B[0m\u001B[0mx\u001B[0m\u001B[1;33m]\u001B[0m\u001B[1;33m)\u001B[0m\u001B[1;33m\u001B[0m\u001B[1;33m\u001B[0m\u001B[0m\n\u001B[0m\u001B[0;32m      8\u001B[0m \u001B[0mprint\u001B[0m\u001B[1;33m(\u001B[0m\u001B[1;34mf\"Accuracy: {accuracy_score(y_hat, y_mapped)}\"\u001B[0m\u001B[1;33m)\u001B[0m\u001B[1;33m\u001B[0m\u001B[1;33m\u001B[0m\u001B[0m\n\u001B[0;32m      9\u001B[0m \u001B[0mprint\u001B[0m\u001B[1;33m(\u001B[0m\u001B[1;34mf\"F1: {f1_score(y_hat, y_mapped, average='macro')}\"\u001B[0m\u001B[1;33m)\u001B[0m\u001B[1;33m\u001B[0m\u001B[1;33m\u001B[0m\u001B[0m\n",
      "\u001B[1;32mc:\\users\\dominik\\appdata\\local\\programs\\python\\python37\\lib\\site-packages\\pandas\\core\\series.py\u001B[0m in \u001B[0;36mapply\u001B[1;34m(self, func, convert_dtype, args, **kwds)\u001B[0m\n\u001B[0;32m   4136\u001B[0m             \u001B[1;32melse\u001B[0m\u001B[1;33m:\u001B[0m\u001B[1;33m\u001B[0m\u001B[1;33m\u001B[0m\u001B[0m\n\u001B[0;32m   4137\u001B[0m                 \u001B[0mvalues\u001B[0m \u001B[1;33m=\u001B[0m \u001B[0mself\u001B[0m\u001B[1;33m.\u001B[0m\u001B[0mastype\u001B[0m\u001B[1;33m(\u001B[0m\u001B[0mobject\u001B[0m\u001B[1;33m)\u001B[0m\u001B[1;33m.\u001B[0m\u001B[0m_values\u001B[0m\u001B[1;33m\u001B[0m\u001B[1;33m\u001B[0m\u001B[0m\n\u001B[1;32m-> 4138\u001B[1;33m                 \u001B[0mmapped\u001B[0m \u001B[1;33m=\u001B[0m \u001B[0mlib\u001B[0m\u001B[1;33m.\u001B[0m\u001B[0mmap_infer\u001B[0m\u001B[1;33m(\u001B[0m\u001B[0mvalues\u001B[0m\u001B[1;33m,\u001B[0m \u001B[0mf\u001B[0m\u001B[1;33m,\u001B[0m \u001B[0mconvert\u001B[0m\u001B[1;33m=\u001B[0m\u001B[0mconvert_dtype\u001B[0m\u001B[1;33m)\u001B[0m\u001B[1;33m\u001B[0m\u001B[1;33m\u001B[0m\u001B[0m\n\u001B[0m\u001B[0;32m   4139\u001B[0m \u001B[1;33m\u001B[0m\u001B[0m\n\u001B[0;32m   4140\u001B[0m         \u001B[1;32mif\u001B[0m \u001B[0mlen\u001B[0m\u001B[1;33m(\u001B[0m\u001B[0mmapped\u001B[0m\u001B[1;33m)\u001B[0m \u001B[1;32mand\u001B[0m \u001B[0misinstance\u001B[0m\u001B[1;33m(\u001B[0m\u001B[0mmapped\u001B[0m\u001B[1;33m[\u001B[0m\u001B[1;36m0\u001B[0m\u001B[1;33m]\u001B[0m\u001B[1;33m,\u001B[0m \u001B[0mSeries\u001B[0m\u001B[1;33m)\u001B[0m\u001B[1;33m:\u001B[0m\u001B[1;33m\u001B[0m\u001B[1;33m\u001B[0m\u001B[0m\n",
      "\u001B[1;32mpandas\\_libs\\lib.pyx\u001B[0m in \u001B[0;36mpandas._libs.lib.map_infer\u001B[1;34m()\u001B[0m\n",
      "\u001B[1;32m<ipython-input-217-705795e5cca5>\u001B[0m in \u001B[0;36m<lambda>\u001B[1;34m(x)\u001B[0m\n\u001B[0;32m      5\u001B[0m \u001B[0mmapping_dict\u001B[0m \u001B[1;33m=\u001B[0m \u001B[0mget_mapping_dict\u001B[0m\u001B[1;33m(\u001B[0m\u001B[0my_hat_nans\u001B[0m\u001B[1;33m,\u001B[0m \u001B[0my\u001B[0m\u001B[1;33m)\u001B[0m\u001B[1;33m\u001B[0m\u001B[1;33m\u001B[0m\u001B[0m\n\u001B[0;32m      6\u001B[0m \u001B[0mprint\u001B[0m\u001B[1;33m(\u001B[0m\u001B[0mmapping_dict\u001B[0m\u001B[1;33m)\u001B[0m\u001B[1;33m\u001B[0m\u001B[1;33m\u001B[0m\u001B[0m\n\u001B[1;32m----> 7\u001B[1;33m \u001B[0my_mapped\u001B[0m \u001B[1;33m=\u001B[0m \u001B[0mpd\u001B[0m\u001B[1;33m.\u001B[0m\u001B[0mSeries\u001B[0m\u001B[1;33m(\u001B[0m\u001B[0my\u001B[0m\u001B[1;33m)\u001B[0m\u001B[1;33m.\u001B[0m\u001B[0mapply\u001B[0m\u001B[1;33m(\u001B[0m\u001B[1;32mlambda\u001B[0m \u001B[0mx\u001B[0m\u001B[1;33m:\u001B[0m \u001B[0mmapping_dict\u001B[0m\u001B[1;33m[\u001B[0m\u001B[0mx\u001B[0m\u001B[1;33m]\u001B[0m\u001B[1;33m)\u001B[0m\u001B[1;33m\u001B[0m\u001B[1;33m\u001B[0m\u001B[0m\n\u001B[0m\u001B[0;32m      8\u001B[0m \u001B[0mprint\u001B[0m\u001B[1;33m(\u001B[0m\u001B[1;34mf\"Accuracy: {accuracy_score(y_hat, y_mapped)}\"\u001B[0m\u001B[1;33m)\u001B[0m\u001B[1;33m\u001B[0m\u001B[1;33m\u001B[0m\u001B[0m\n\u001B[0;32m      9\u001B[0m \u001B[0mprint\u001B[0m\u001B[1;33m(\u001B[0m\u001B[1;34mf\"F1: {f1_score(y_hat, y_mapped, average='macro')}\"\u001B[0m\u001B[1;33m)\u001B[0m\u001B[1;33m\u001B[0m\u001B[1;33m\u001B[0m\u001B[0m\n",
      "\u001B[1;31mKeyError\u001B[0m: 16"
     ]
    }
   ],
   "source": [
    "model = DBSCAN(eps=0, min_samples=5)\n",
    "model.fit(x)\n",
    "y = model.labels_\n",
    "print(np.unique(y))\n",
    "mapping_dict = get_mapping_dict(y_hat_nans, y)\n",
    "print(mapping_dict)\n",
    "y_mapped = pd.Series(y).apply(lambda x: mapping_dict[x])\n",
    "print(f\"Accuracy: {accuracy_score(y_hat, y_mapped)}\")\n",
    "print(f\"F1: {f1_score(y_hat, y_mapped, average='macro')}\")\n",
    "print(f\"Precision: {precision_score(y_hat, y_mapped, average='macro')}\")"
   ],
   "metadata": {
    "collapsed": false,
    "pycharm": {
     "name": "#%%\n"
    }
   }
  }
 ],
 "metadata": {
  "kernelspec": {
   "display_name": "Python 3",
   "language": "python",
   "name": "python3"
  },
  "language_info": {
   "codemirror_mode": {
    "name": "ipython",
    "version": 2
   },
   "file_extension": ".py",
   "mimetype": "text/x-python",
   "name": "python",
   "nbconvert_exporter": "python",
   "pygments_lexer": "ipython2",
   "version": "2.7.6"
  }
 },
 "nbformat": 4,
 "nbformat_minor": 0
}