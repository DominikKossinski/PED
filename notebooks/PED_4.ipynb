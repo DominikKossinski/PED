{
 "cells": [
  {
   "cell_type": "markdown",
   "source": [
    "# YouTube trending videos"
   ],
   "metadata": {
    "collapsed": false
   }
  },
  {
   "cell_type": "code",
   "execution_count": 5,
   "outputs": [],
   "source": [
    "%matplotlib inline\n",
    "\n",
    "import warnings\n",
    "\n",
    "warnings.filterwarnings('ignore')\n",
    "\n",
    "# import sys\n",
    "# sys.path.append('..')\n",
    "\n",
    "\n",
    "import matplotlib.pyplot as plt\n",
    "import numpy as np\n",
    "import pandas as pd\n",
    "from itertools import product\n",
    "from tqdm.notebook import tqdm\n",
    "from sklearn.model_selection import StratifiedKFold\n",
    "from sklearn.cluster import KMeans, DBSCAN, AgglomerativeClustering\n",
    "from sklearn.feature_selection import chi2, SelectKBest\n",
    "from sklearn.metrics import accuracy_score, f1_score, precision_score, silhouette_score, roc_auc_score, recall_score\n",
    "from sklearn.preprocessing import MinMaxScaler, OneHotEncoder\n",
    "from sklearn.neighbors import NearestNeighbors\n",
    "from sklearn.semi_supervised import LabelSpreading\n",
    "\n",
    "from helpers.categories import get_categories_dict\n",
    "from helpers.files import load_csv"
   ],
   "metadata": {
    "collapsed": false,
    "pycharm": {
     "name": "#%%\n"
    }
   }
  },
  {
   "cell_type": "markdown",
   "source": [
    "## Etap 4 - Wykorzystanie uczenia pół-nadzorowanego\n"
   ],
   "metadata": {
    "collapsed": false
   }
  },
  {
   "cell_type": "markdown",
   "source": [
    "Deklaracja potrzebnych funkcji"
   ],
   "metadata": {
    "collapsed": false,
    "pycharm": {
     "name": "#%% md\n"
    }
   }
  },
  {
   "cell_type": "code",
   "execution_count": 6,
   "outputs": [],
   "source": [
    "\n",
    "def show_stats(y_hat, y_hat_nans, y, mapped: bool = False):\n",
    "    if not mapped:\n",
    "        mapping_dict = get_mapping_dict(y_hat_nans, y)\n",
    "        print(mapping_dict)\n",
    "        y_mapped = pd.Series(y).apply(lambda x: mapping_dict[x])\n",
    "    else:\n",
    "        y_mapped = pd.Series(y.astype(np.int))\n",
    "        y_hat = y_hat.astype(np.int)\n",
    "    print(f\"Accuracy: {accuracy_score(y_hat, y_mapped)}\")\n",
    "    print(f\"F1: {f1_score(y_hat, y_mapped, average='macro')}\")\n",
    "    print(f\"Precision: {precision_score(y_hat, y_mapped, average='macro')}\")\n",
    "    print(f\"Recall: {recall_score(y_hat, y_mapped, average='macro')}\")\n",
    "    print(f\"Hat unique:{np.unique(y_hat.to_numpy())}\")\n",
    "    print(f\"labeled unique: {np.unique(y_mapped.to_numpy())}\")\n",
    "    print(f\"y_hat_nans : {np.unique(y_hat_nans[y_hat_nans.notna()].to_numpy())}\")\n",
    "    y_hat = y_hat.to_numpy().reshape(-1, 1)\n",
    "    y_mapped = y_mapped.to_numpy().reshape(-1, 1)\n",
    "    encoder = OneHotEncoder(sparse=False)\n",
    "    one_hot_hat = encoder.fit_transform(y_hat)\n",
    "    y_hot = encoder.transform(y_mapped)\n",
    "    print(f\"ROC AUC Score OVR: {roc_auc_score(one_hot_hat, y_hot, average='micro', multi_class='ovr')}\")\n",
    "    print(f\"ROC AUC Score OVO: {roc_auc_score(one_hot_hat, y_hot, multi_class='ovo')}\")"
   ],
   "metadata": {
    "collapsed": false,
    "pycharm": {
     "name": "#%%\n"
    }
   }
  },
  {
   "cell_type": "markdown",
   "source": [
    "### Wyczytanie danych"
   ],
   "metadata": {
    "collapsed": false,
    "pycharm": {
     "name": "#%% md\n"
    }
   }
  },
  {
   "cell_type": "code",
   "execution_count": 7,
   "outputs": [],
   "source": [
    "gb_data, us_data = load_csv(\"clustering_data\")\n",
    "\n",
    "videos = pd.concat([gb_data, us_data])\n",
    "# inconsistency in data\n",
    "videos[\"category_id\"] = videos[\"category_id\"].replace(43.0, 24.0)\n",
    "\n",
    "categories_ids = videos[\"new_category_id\"].dropna().unique().tolist()"
   ],
   "metadata": {
    "collapsed": false,
    "pycharm": {
     "name": "#%%\n"
    }
   }
  },
  {
   "cell_type": "markdown",
   "source": [
    "### Wczytanie nazw kategorii"
   ],
   "metadata": {
    "collapsed": false,
    "pycharm": {
     "name": "#%% md\n"
    }
   }
  },
  {
   "cell_type": "code",
   "execution_count": 8,
   "outputs": [],
   "source": [
    "categories_dict = get_categories_dict()\n",
    "categories = [categories_dict[cat] for cat in categories_ids]"
   ],
   "metadata": {
    "collapsed": false,
    "pycharm": {
     "name": "#%%\n"
    }
   }
  },
  {
   "cell_type": "markdown",
   "source": [
    "## Usunięcie danych tekstowych"
   ],
   "metadata": {
    "collapsed": false,
    "pycharm": {
     "name": "#%% md\n"
    }
   }
  },
  {
   "cell_type": "code",
   "execution_count": 9,
   "outputs": [],
   "source": [
    "not_nan_bool = videos[\"new_category_id\"].notna().reset_index(drop=True)\n",
    "\n",
    "videos = videos[videos[\"new_category_id\"].notna()]\n",
    "videos = videos.reset_index(drop=True)\n",
    "y_hat = videos[\"new_category_id\"]  # oczekiwane kategorie z api\n",
    "y_hat_nans = videos[\"category_id\"]  # oczekiwane kategorie z nanami (z oryginalnego zbioru)\n",
    "videos_no_nan_categories = videos[videos[\"category_id\"].notna()]\n",
    "selected_columns = [\n",
    "    \"views\", \"likes\", \"dislikes\", \"comment_count\", \"description_len\", \"title_len\", \"channel_title_len\",\n",
    "    \"publish_time_day_of_week\", \"publish_time_hour_of_day\",\n",
    "    \"gray_mean_score\", \"color_mean_score\", \"gray_hist_score\",\n",
    "    \"red_hist_score\", \"green_hist_score\", \"blue_hist_score\", \"edges_score\", \"entropy_score\",\n",
    "]\n",
    "\n",
    "for cat in categories_ids:\n",
    "    selected_columns.append(f\"freq_channel_titles_{categories_dict[cat]}\")\n",
    "    selected_columns.append(f\"freq_titles_{categories_dict[cat]}\")\n",
    "    selected_columns.append(f\"freq_tags_{categories_dict[cat]}\")\n",
    "    selected_columns.append(f\"freq_descriptions_{categories_dict[cat]}\")\n",
    "\n",
    "videos = videos[selected_columns]"
   ],
   "metadata": {
    "collapsed": false,
    "pycharm": {
     "name": "#%%\n"
    }
   }
  },
  {
   "cell_type": "markdown",
   "source": [
    "### Uzupełnienie wartości pustych wartościami średnimi\n"
   ],
   "metadata": {
    "collapsed": false,
    "pycharm": {
     "name": "#%% md\n"
    }
   }
  },
  {
   "cell_type": "code",
   "execution_count": 10,
   "outputs": [],
   "source": [
    "videos = videos.fillna(videos.mean())"
   ],
   "metadata": {
    "collapsed": false,
    "pycharm": {
     "name": "#%%\n"
    }
   }
  },
  {
   "cell_type": "markdown",
   "source": [
    "### Skalowanie danych"
   ],
   "metadata": {
    "collapsed": false,
    "pycharm": {
     "name": "#%% md\n"
    }
   }
  },
  {
   "cell_type": "code",
   "execution_count": 11,
   "outputs": [],
   "source": [
    "scaler = MinMaxScaler()\n",
    "videos = scaler.fit_transform(videos)"
   ],
   "metadata": {
    "collapsed": false,
    "pycharm": {
     "name": "#%%\n"
    }
   }
  },
  {
   "cell_type": "markdown",
   "source": [
    "### Przygotowanie zbioru z oznaczonymi kategoriami"
   ],
   "metadata": {
    "collapsed": false,
    "pycharm": {
     "name": "#%% md\n"
    }
   }
  },
  {
   "cell_type": "code",
   "execution_count": 12,
   "outputs": [],
   "source": [
    "x_not_nan = videos[y_hat_nans.notna()]\n",
    "y_not_nan = y_hat_nans[y_hat_nans.notna()]\n",
    "\n",
    "x_only_nan = videos[y_hat_nans.isna()]\n",
    "y_only_nan = y_hat[y_hat_nans.isna()]"
   ],
   "metadata": {
    "collapsed": false,
    "pycharm": {
     "name": "#%%\n"
    }
   }
  },
  {
   "cell_type": "markdown",
   "source": [
    "### K-means\n",
    "\n",
    "Dobre acc (przypisuje wszyskim jedną klasę ale słaba reszta metryk)\n",
    "można zastosować bo znamy liczbę klas, do których będziemy przypisywać."
   ],
   "metadata": {
    "collapsed": false,
    "pycharm": {
     "name": "#%% md\n"
    }
   }
  },
  {
   "cell_type": "code",
   "execution_count": 13,
   "metadata": {},
   "outputs": [],
   "source": [
    "def get_mapping_dict(y_hat_nans, y_pred) -> dict:\n",
    "    values_counts = y_hat_nans.value_counts().reset_index(name=\"count\")\n",
    "    # print(values_counts)\n",
    "    # print(f\"Index: {values_counts.index}\")\n",
    "    most_frequent_class = values_counts[\"index\"].iloc[0]\n",
    "    # print(most_frequent_class)\n",
    "    mapping_dict = {}\n",
    "    y_data = pd.DataFrame()\n",
    "    y_data[\"y_hat_nans\"] = y_hat_nans\n",
    "    y_data[\"y\"] = y_pred\n",
    "    y_data[\"c\"] = 1\n",
    "    y_data = y_data.groupby([\"y\", \"y_hat_nans\"])[\"c\"].sum()  #.max(level=[0])#.sort_values().groupby(level=0)\n",
    "    # print(y_data)\n",
    "    out = y_data.loc[y_data.groupby(level=0).idxmax()]\n",
    "    # print(out)\n",
    "    for row in out.index:\n",
    "        mapping_dict[row[0]] = row[1]\n",
    "    for i in range(np.unique(y_pred).shape[0]):\n",
    "        if i not in mapping_dict.keys():\n",
    "            mapping_dict[i] = most_frequent_class\n",
    "    return mapping_dict"
   ]
  },
  {
   "cell_type": "code",
   "execution_count": 240,
   "outputs": [],
   "source": [
    "# k_list = np.arange(2, 20)\n",
    "# inertias = np.zeros_like(k_list, dtype=np.float)\n",
    "# silhouettes = np.zeros_like(k_list, dtype=np.float)\n",
    "# for i, k in enumerate(k_list):\n",
    "#     model = KMeans(k)\n",
    "#     # model.fit(x)\n",
    "#     labels = model.fit_predict(x)\n",
    "#     inertias[i] = model.inertia_\n",
    "#     silhouettes[i] = silhouette_score(x, labels)\n",
    "#\n",
    "# plt.plot(k_list, inertias)\n",
    "# plt.title(\"Interias\")\n",
    "# plt.show()\n",
    "# plt.plot(k_list, silhouettes)\n",
    "# plt.title(\"Silhouette\")\n",
    "# print(f\"Cat len: {len(categories)}\")\n",
    "# model = KMeans(len(categories))\n",
    "# model.fit(x)\n",
    "# y = model.predict(x)\n",
    "# print(y)\n",
    "# show_stats(y_hat, y_hat_nans, y)\n"
   ],
   "metadata": {
    "collapsed": false,
    "pycharm": {
     "name": "#%%\n"
    }
   }
  },
  {
   "source": [
    "Semi supervised Constrained KMeans (punkt 3.1 z https://arxiv.org/pdf/1806.01547v2.pdf)"
   ],
   "cell_type": "markdown",
   "metadata": {}
  },
  {
   "cell_type": "code",
   "execution_count": 62,
   "metadata": {
    "tags": []
   },
   "outputs": [
    {
     "output_type": "stream",
     "name": "stdout",
     "text": [
      "(15, 77)\n"
     ]
    }
   ],
   "source": [
    "select = SelectKBest(k=45)\n",
    "select.fit(x_not_nan, y_not_nan)\n",
    "\n",
    "groups_index = np.unique(y_not_nan)\n",
    "groups_dict = {e: i for i, e in enumerate(groups_index)}\n",
    "num_groups = len(groups_index)\n",
    "\n",
    "groups = [[] for _ in range(num_groups)]\n",
    "for xp, yp in zip(x_not_nan, y_not_nan):\n",
    "    groups[groups_dict[yp]].append(xp)\n",
    "\n",
    "centroids = []\n",
    "for g in groups:\n",
    "    centroids.append(np.mean(g, axis=0))\n",
    "\n",
    "centroids = np.array(centroids)\n",
    "print(centroids.shape)\n"
   ]
  },
  {
   "cell_type": "code",
   "execution_count": 63,
   "metadata": {},
   "outputs": [
    {
     "output_type": "stream",
     "name": "stdout",
     "text": [
      "{1: 1.0, 2: 2.0, 10: 10.0, 15: 15.0, 17: 17.0, 19: 19.0, 20: 20.0, 22: 22.0, 23: 23.0, 24: 24.0, 25: 25.0, 26: 26.0, 27: 27.0, 28: 28.0, 29: 29.0, 0: 10.0, 3: 10.0, 4: 10.0, 5: 10.0, 6: 10.0, 7: 10.0, 8: 10.0, 9: 10.0, 11: 10.0, 12: 10.0, 13: 10.0, 14: 10.0, 16: 10.0, 18: 10.0, 21: 10.0}\nAccuracy: 0.38946765884373213\nF1: 0.4171949647412629\nPrecision: 0.8526385183407648\nRecall: 0.3277318087400635\nHat unique:[ 1.  2. 10. 15. 17. 19. 20. 22. 23. 24. 25. 26. 27. 28. 29.]\nlabeled unique: [ 1.  2. 10. 15. 17. 19. 20. 22. 23. 24. 25. 26. 27. 28. 29.]\ny_hat_nans : [ 1.  2. 10. 15. 17. 19. 20. 22. 23. 24. 25. 26. 27. 28. 29.]\nROC AUC Score OVR: 0.6729291029519995\nROC AUC Score OVO: 0.639332942495129\n"
     ]
    }
   ],
   "source": [
    "new_centroids = centroids[:]\n",
    "for itr in range(300):\n",
    "    model = KMeans(n_clusters=num_groups, init=new_centroids, n_init=1, max_iter=1)\n",
    "    labels = model.fit_predict(x_only_nan)\n",
    "    new_groups = [[] for _ in range(num_groups)]\n",
    "    for i, l in enumerate(labels):\n",
    "        new_groups[l].append(x_only_nan[i])\n",
    "\n",
    "    new_centroids = []\n",
    "    for i, g in enumerate(new_groups):\n",
    "        g = g + groups[i]\n",
    "        new_centroids.append(np.mean(g, axis=0))\n",
    "    new_centroids = np.array(new_centroids)\n",
    "# TODO\n",
    "# y_pred = model.predict(x_not_nan)\n",
    "# y = model.predict(x_only_nan)\n",
    "y = model.predict(videos)\n",
    "for i,e in zip(range(len(y)),y_hat_nans.notna()):\n",
    "    if e == True:\n",
    "        y[i] = y_hat_nans[i]\n",
    "show_stats(y_hat, y_hat_nans, y)\n"
   ]
  },
  {
   "source": [
    "Losowe K-means z wykorzystaniem wiedzy o przybliżonych pozycjach centroidów"
   ],
   "cell_type": "markdown",
   "metadata": {}
  },
  {
   "cell_type": "code",
   "execution_count": 65,
   "metadata": {},
   "outputs": [
    {
     "output_type": "stream",
     "name": "stdout",
     "text": [
      "{0: 1.0, 1: 19.0, 2: 10.0, 3: 15.0, 4: 17.0, 5: 25.0, 6: 10.0, 7: 24.0, 8: 24.0, 9: 24.0, 10: 25.0, 11: 24.0, 12: 27.0, 13: 28.0, 14: 24.0}\nAccuracy: 0.43239839725243273\nF1: 0.29155819778977404\nPrecision: 0.3825734818986265\nRecall: 0.27438792859025246\nHat unique:[ 1.  2. 10. 15. 17. 19. 20. 22. 23. 24. 25. 26. 27. 28. 29.]\nlabeled unique: [ 1. 10. 15. 17. 19. 24. 25. 27. 28.]\ny_hat_nans : [ 1.  2. 10. 15. 17. 19. 20. 22. 23. 24. 25. 26. 27. 28. 29.]\nROC AUC Score OVR: 0.6959277128138033\nROC AUC Score OVO: 0.612760537139009\n"
     ]
    }
   ],
   "source": [
    "best_model = None\n",
    "best_score = 0.0\n",
    "for itr in range(300):\n",
    "    centroids_prim = centroids + np.random.normal(scale = (np.max(centroids) - np.min(centroids))/100,size = centroids.shape)\n",
    "    model = KMeans(n_clusters=num_groups, init=centroids_prim, n_init=1)\n",
    "    y = model.fit_predict(videos)\n",
    "    mapping_dict = get_mapping_dict(y_hat_nans, y)\n",
    "    y_mapped = pd.Series(y).apply(lambda x: mapping_dict[x])\n",
    "    score = f1_score(y_hat, y_mapped, average='macro')\n",
    "    # print(score)\n",
    "    if best_score < score:\n",
    "        best_score = score\n",
    "        best_model = model\n",
    "labels = best_model.predict(videos)\n",
    "show_stats(y_hat, y_hat_nans, labels)"
   ]
  },
  {
   "cell_type": "markdown",
   "source": [
    "AHC - bo mamy zdefiniowaną liczbę grup?"
   ],
   "metadata": {
    "collapsed": false,
    "pycharm": {
     "name": "#%% md\n"
    }
   }
  },
  {
   "cell_type": "code",
   "execution_count": 244,
   "outputs": [],
   "source": [
    "# model = AgglomerativeClustering(len(categories), compute_full_tree=True)\n",
    "# # model = DBSCAN(eps=0.6, min_samples=5)\n",
    "# model.fit(x)\n",
    "# y = model.labels_\n",
    "#\n",
    "# show_stats(y_hat, y_hat_nans, y)"
   ],
   "metadata": {
    "collapsed": false,
    "pycharm": {
     "name": "#%%\n"
    }
   }
  },
  {
   "cell_type": "markdown",
   "source": [
    "DBSCAN - bo mamy grupy różnej wielkości ?"
   ],
   "metadata": {
    "collapsed": false,
    "pycharm": {
     "name": "#%% md\n"
    }
   }
  },
  {
   "cell_type": "code",
   "execution_count": 245,
   "outputs": [],
   "source": [
    "# model = DBSCAN(eps=0.1, min_samples=5)\n",
    "# model.fit(x)\n",
    "# y = model.labels_\n",
    "# show_stats(y_hat, y_hat_nans, y)"
   ],
   "metadata": {
    "collapsed": false,
    "pycharm": {
     "name": "#%%\n"
    }
   }
  },
  {
   "cell_type": "markdown",
   "source": [
    "### DBSCAN eps Tuning"
   ],
   "metadata": {
    "collapsed": false,
    "pycharm": {
     "name": "#%% md\n"
    }
   }
  },
  {
   "cell_type": "code",
   "execution_count": 246,
   "outputs": [],
   "source": [
    "# nn = NearestNeighbors(n_neighbors=11)\n",
    "# neighbors = nn.fit(x)\n",
    "# dist, ind = neighbors.kneighbors()\n",
    "#\n",
    "# dist = np.sort(dist[:, 10], axis=0)\n",
    "#\n",
    "# plt.plot(dist)\n",
    "# plt.xlabel(\"Points\")\n",
    "# plt.ylabel(\"Dist\")\n",
    "# plt.show()"
   ],
   "metadata": {
    "collapsed": false,
    "pycharm": {
     "name": "#%%\n"
    }
   }
  },
  {
   "cell_type": "markdown",
   "source": [
    "### Label Spreading\n",
    "\n",
    "TODO add cross validation as in TFidf\n",
    "\n",
    "**Przygotowanie parametrów**"
   ],
   "metadata": {
    "collapsed": false,
    "pycharm": {
     "name": "#%% md\n"
    }
   }
  },
  {
   "cell_type": "code",
   "execution_count": 247,
   "outputs": [],
   "source": [
    "parameters = {'k': np.arange(5, x_not_nan.shape[1], 5), 'kernel': [\"knn\", \"rbf\"], 'gamma': [1, 10, 20, 30, 40],\n",
    "              'n_neighbors': [3, 5, 7, 11]}\n",
    "params = list(product(*parameters.values()))"
   ],
   "metadata": {
    "collapsed": false,
    "pycharm": {
     "name": "#%%\n"
    }
   }
  },
  {
   "cell_type": "markdown",
   "source": [
    "**Funkcja do wyświetlania statystyk**"
   ],
   "metadata": {
    "collapsed": false,
    "pycharm": {
     "name": "#%% md\n"
    }
   }
  },
  {
   "cell_type": "code",
   "execution_count": 248,
   "outputs": [],
   "source": [
    "def show_stats_labels(y_hat, y):\n",
    "    print(f\"Accuracy: {accuracy_score(y_hat, y)}\")\n",
    "    print(f\"F1: {f1_score(y_hat, y, average='macro')}\")\n",
    "    print(f\"Precision: {precision_score(y_hat, y, average='macro')}\")\n",
    "    print(f\"Recall: {recall_score(y_hat, y, average='macro')}\")\n",
    "    y_hat = y_hat.to_numpy().reshape(-1, 1)\n",
    "    y = y.reshape(-1, 1)\n",
    "    encoder = OneHotEncoder(sparse=False)\n",
    "    one_hot_hat = encoder.fit_transform(y_hat)\n",
    "    y_hot = encoder.transform(y)\n",
    "    print(f\"ROC AUC Score OVR: {roc_auc_score(one_hot_hat, y_hot, multi_class='ovr')}\")\n",
    "    print(f\"ROC AUC Score OVO: {roc_auc_score(one_hot_hat, y_hot, multi_class='ovo')}\")"
   ],
   "metadata": {
    "collapsed": false,
    "pycharm": {
     "name": "#%%\n"
    }
   }
  },
  {
   "cell_type": "markdown",
   "source": [
    "**Strojenie parametrów**\n",
    "\n",
    "Parametry stroimy przy użyciu walidacji krzyżowej. Jako danych\n",
    "używamy pełnego zbioru filmów, które w oryginalnym zestawie\n",
    "danych miały przypisane kategorie filmów. Miara F1 jest\n",
    "używana do oceny wytrenowanych modeli, która następnie\n",
    "uśredniana jest po 10 przebiegach walidacji.\n"
   ],
   "metadata": {
    "collapsed": false,
    "pycharm": {
     "name": "#%% md\n"
    }
   }
  },
  {
   "cell_type": "code",
   "execution_count": 249,
   "outputs": [
    {
     "data": {
      "text/plain": "HBox(children=(FloatProgress(value=0.0, max=600.0), HTML(value='')))",
      "application/vnd.jupyter.widget-view+json": {
       "version_major": 2,
       "version_minor": 0,
       "model_id": "f0f098a1c38447538f11f566d6ada6de"
      }
     },
     "metadata": {},
     "output_type": "display_data"
    },
    {
     "name": "stdout",
     "output_type": "stream",
     "text": [
      "\n",
      "Best params: (40, 'rbf', 40, 3)\n",
      "BestScore: 0.6647333160312147\n",
      "Scores: [(0.2130761026314974, (5, 'knn', 1, 3)), (0.22037556905168976, (5, 'knn', 1, 5)), (0.21890495325520498, (5, 'knn', 1, 7)), (0.22224255656773512, (5, 'knn', 1, 11)), (0.2130761026314974, (5, 'knn', 10, 3)), (0.22037556905168976, (5, 'knn', 10, 5)), (0.21890495325520498, (5, 'knn', 10, 7)), (0.22224255656773512, (5, 'knn', 10, 11)), (0.2130761026314974, (5, 'knn', 20, 3)), (0.22037556905168976, (5, 'knn', 20, 5)), (0.21890495325520498, (5, 'knn', 20, 7)), (0.22224255656773512, (5, 'knn', 20, 11)), (0.2130761026314974, (5, 'knn', 30, 3)), (0.22037556905168976, (5, 'knn', 30, 5)), (0.21890495325520498, (5, 'knn', 30, 7)), (0.22224255656773512, (5, 'knn', 30, 11)), (0.2130761026314974, (5, 'knn', 40, 3)), (0.22037556905168976, (5, 'knn', 40, 5)), (0.21890495325520498, (5, 'knn', 40, 7)), (0.22224255656773512, (5, 'knn', 40, 11)), (0.027137808719677154, (5, 'rbf', 1, 3)), (0.027137808719677154, (5, 'rbf', 1, 5)), (0.027137808719677154, (5, 'rbf', 1, 7)), (0.027137808719677154, (5, 'rbf', 1, 11)), (0.22275226471371795, (5, 'rbf', 10, 3)), (0.22275226471371795, (5, 'rbf', 10, 5)), (0.22275226471371795, (5, 'rbf', 10, 7)), (0.22275226471371795, (5, 'rbf', 10, 11)), (0.24928710939784332, (5, 'rbf', 20, 3)), (0.24928710939784332, (5, 'rbf', 20, 5)), (0.24928710939784332, (5, 'rbf', 20, 7)), (0.24928710939784332, (5, 'rbf', 20, 11)), (0.25437149041853746, (5, 'rbf', 30, 3)), (0.25437149041853746, (5, 'rbf', 30, 5)), (0.25437149041853746, (5, 'rbf', 30, 7)), (0.25437149041853746, (5, 'rbf', 30, 11)), (0.25437149041853746, (5, 'rbf', 40, 3)), (0.25437149041853746, (5, 'rbf', 40, 5)), (0.25437149041853746, (5, 'rbf', 40, 7)), (0.25437149041853746, (5, 'rbf', 40, 11)), (0.3359065577541201, (10, 'knn', 1, 3)), (0.32649039051467577, (10, 'knn', 1, 5)), (0.3350731001436538, (10, 'knn', 1, 7)), (0.324752087897697, (10, 'knn', 1, 11)), (0.3359065577541201, (10, 'knn', 10, 3)), (0.32649039051467577, (10, 'knn', 10, 5)), (0.3350731001436538, (10, 'knn', 10, 7)), (0.324752087897697, (10, 'knn', 10, 11)), (0.3359065577541201, (10, 'knn', 20, 3)), (0.32649039051467577, (10, 'knn', 20, 5)), (0.3350731001436538, (10, 'knn', 20, 7)), (0.324752087897697, (10, 'knn', 20, 11)), (0.3359065577541201, (10, 'knn', 30, 3)), (0.32649039051467577, (10, 'knn', 30, 5)), (0.3350731001436538, (10, 'knn', 30, 7)), (0.324752087897697, (10, 'knn', 30, 11)), (0.3359065577541201, (10, 'knn', 40, 3)), (0.32649039051467577, (10, 'knn', 40, 5)), (0.3350731001436538, (10, 'knn', 40, 7)), (0.324752087897697, (10, 'knn', 40, 11)), (0.026865853950176478, (10, 'rbf', 1, 3)), (0.026865853950176478, (10, 'rbf', 1, 5)), (0.026865853950176478, (10, 'rbf', 1, 7)), (0.026865853950176478, (10, 'rbf', 1, 11)), (0.2911161623505435, (10, 'rbf', 10, 3)), (0.2911161623505435, (10, 'rbf', 10, 5)), (0.2911161623505435, (10, 'rbf', 10, 7)), (0.2911161623505435, (10, 'rbf', 10, 11)), (0.3511406830520344, (10, 'rbf', 20, 3)), (0.3511406830520344, (10, 'rbf', 20, 5)), (0.3511406830520344, (10, 'rbf', 20, 7)), (0.3511406830520344, (10, 'rbf', 20, 11)), (0.35360618974072827, (10, 'rbf', 30, 3)), (0.35360618974072827, (10, 'rbf', 30, 5)), (0.35360618974072827, (10, 'rbf', 30, 7)), (0.35360618974072827, (10, 'rbf', 30, 11)), (0.35140567102592984, (10, 'rbf', 40, 3)), (0.35140567102592984, (10, 'rbf', 40, 5)), (0.35140567102592984, (10, 'rbf', 40, 7)), (0.35140567102592984, (10, 'rbf', 40, 11)), (0.4873698617020211, (15, 'knn', 1, 3)), (0.4602762499359036, (15, 'knn', 1, 5)), (0.4761373908551579, (15, 'knn', 1, 7)), (0.4836588522836184, (15, 'knn', 1, 11)), (0.4873698617020211, (15, 'knn', 10, 3)), (0.4602762499359036, (15, 'knn', 10, 5)), (0.4761373908551579, (15, 'knn', 10, 7)), (0.4836588522836184, (15, 'knn', 10, 11)), (0.4873698617020211, (15, 'knn', 20, 3)), (0.4602762499359036, (15, 'knn', 20, 5)), (0.4761373908551579, (15, 'knn', 20, 7)), (0.4836588522836184, (15, 'knn', 20, 11)), (0.4873698617020211, (15, 'knn', 30, 3)), (0.4602762499359036, (15, 'knn', 30, 5)), (0.4761373908551579, (15, 'knn', 30, 7)), (0.4836588522836184, (15, 'knn', 30, 11)), (0.4873698617020211, (15, 'knn', 40, 3)), (0.4602762499359036, (15, 'knn', 40, 5)), (0.4761373908551579, (15, 'knn', 40, 7)), (0.4836588522836184, (15, 'knn', 40, 11)), (0.02618951377676465, (15, 'rbf', 1, 3)), (0.02618951377676465, (15, 'rbf', 1, 5)), (0.02618951377676465, (15, 'rbf', 1, 7)), (0.02618951377676465, (15, 'rbf', 1, 11)), (0.36881014936875134, (15, 'rbf', 10, 3)), (0.36881014936875134, (15, 'rbf', 10, 5)), (0.36881014936875134, (15, 'rbf', 10, 7)), (0.36881014936875134, (15, 'rbf', 10, 11)), (0.4432219030368777, (15, 'rbf', 20, 3)), (0.4432219030368777, (15, 'rbf', 20, 5)), (0.4432219030368777, (15, 'rbf', 20, 7)), (0.4432219030368777, (15, 'rbf', 20, 11)), (0.5077597821387803, (15, 'rbf', 30, 3)), (0.5077597821387803, (15, 'rbf', 30, 5)), (0.5077597821387803, (15, 'rbf', 30, 7)), (0.5077597821387803, (15, 'rbf', 30, 11)), (0.5125843552777477, (15, 'rbf', 40, 3)), (0.5125843552777477, (15, 'rbf', 40, 5)), (0.5125843552777477, (15, 'rbf', 40, 7)), (0.5125843552777477, (15, 'rbf', 40, 11)), (0.512744922692702, (20, 'knn', 1, 3)), (0.5347647762961499, (20, 'knn', 1, 5)), (0.5304782411348344, (20, 'knn', 1, 7)), (0.5372311135916784, (20, 'knn', 1, 11)), (0.512744922692702, (20, 'knn', 10, 3)), (0.5347647762961499, (20, 'knn', 10, 5)), (0.5304782411348344, (20, 'knn', 10, 7)), (0.5372311135916784, (20, 'knn', 10, 11)), (0.512744922692702, (20, 'knn', 20, 3)), (0.5347647762961499, (20, 'knn', 20, 5)), (0.5304782411348344, (20, 'knn', 20, 7)), (0.5372311135916784, (20, 'knn', 20, 11)), (0.512744922692702, (20, 'knn', 30, 3)), (0.5347647762961499, (20, 'knn', 30, 5)), (0.5304782411348344, (20, 'knn', 30, 7)), (0.5372311135916784, (20, 'knn', 30, 11)), (0.512744922692702, (20, 'knn', 40, 3)), (0.5347647762961499, (20, 'knn', 40, 5)), (0.5304782411348344, (20, 'knn', 40, 7)), (0.5372311135916784, (20, 'knn', 40, 11)), (0.06590422633278496, (20, 'rbf', 1, 3)), (0.06590422633278496, (20, 'rbf', 1, 5)), (0.06590422633278496, (20, 'rbf', 1, 7)), (0.06590422633278496, (20, 'rbf', 1, 11)), (0.44507588574938267, (20, 'rbf', 10, 3)), (0.44507588574938267, (20, 'rbf', 10, 5)), (0.44507588574938267, (20, 'rbf', 10, 7)), (0.44507588574938267, (20, 'rbf', 10, 11)), (0.4934540226910209, (20, 'rbf', 20, 3)), (0.4934540226910209, (20, 'rbf', 20, 5)), (0.4934540226910209, (20, 'rbf', 20, 7)), (0.4934540226910209, (20, 'rbf', 20, 11)), (0.5465612146959442, (20, 'rbf', 30, 3)), (0.5465612146959442, (20, 'rbf', 30, 5)), (0.5465612146959442, (20, 'rbf', 30, 7)), (0.5465612146959442, (20, 'rbf', 30, 11)), (0.5497244177056, (20, 'rbf', 40, 3)), (0.5497244177056, (20, 'rbf', 40, 5)), (0.5497244177056, (20, 'rbf', 40, 7)), (0.5497244177056, (20, 'rbf', 40, 11)), (0.5990395590289485, (25, 'knn', 1, 3)), (0.5924901278651319, (25, 'knn', 1, 5)), (0.5863982778824932, (25, 'knn', 1, 7)), (0.5762299806419637, (25, 'knn', 1, 11)), (0.5990395590289485, (25, 'knn', 10, 3)), (0.5924901278651319, (25, 'knn', 10, 5)), (0.5863982778824932, (25, 'knn', 10, 7)), (0.5762299806419637, (25, 'knn', 10, 11)), (0.5990395590289485, (25, 'knn', 20, 3)), (0.5924901278651319, (25, 'knn', 20, 5)), (0.5863982778824932, (25, 'knn', 20, 7)), (0.5762299806419637, (25, 'knn', 20, 11)), (0.5990395590289485, (25, 'knn', 30, 3)), (0.5924901278651319, (25, 'knn', 30, 5)), (0.5863982778824932, (25, 'knn', 30, 7)), (0.5762299806419637, (25, 'knn', 30, 11)), (0.5990395590289485, (25, 'knn', 40, 3)), (0.5924901278651319, (25, 'knn', 40, 5)), (0.5863982778824932, (25, 'knn', 40, 7)), (0.5762299806419637, (25, 'knn', 40, 11)), (0.045707055686664215, (25, 'rbf', 1, 3)), (0.045707055686664215, (25, 'rbf', 1, 5)), (0.045707055686664215, (25, 'rbf', 1, 7)), (0.045707055686664215, (25, 'rbf', 1, 11)), (0.4923461683472742, (25, 'rbf', 10, 3)), (0.4923461683472742, (25, 'rbf', 10, 5)), (0.4923461683472742, (25, 'rbf', 10, 7)), (0.4923461683472742, (25, 'rbf', 10, 11)), (0.5679335038316522, (25, 'rbf', 20, 3)), (0.5679335038316522, (25, 'rbf', 20, 5)), (0.5679335038316522, (25, 'rbf', 20, 7)), (0.5679335038316522, (25, 'rbf', 20, 11)), (0.6012602660806308, (25, 'rbf', 30, 3)), (0.6012602660806308, (25, 'rbf', 30, 5)), (0.6012602660806308, (25, 'rbf', 30, 7)), (0.6012602660806308, (25, 'rbf', 30, 11)), (0.6144540657816695, (25, 'rbf', 40, 3)), (0.6144540657816695, (25, 'rbf', 40, 5)), (0.6144540657816695, (25, 'rbf', 40, 7)), (0.6144540657816695, (25, 'rbf', 40, 11)), (0.6177558322807293, (30, 'knn', 1, 3)), (0.6185379951478887, (30, 'knn', 1, 5)), (0.6223109893538499, (30, 'knn', 1, 7)), (0.6050748385060539, (30, 'knn', 1, 11)), (0.6177558322807293, (30, 'knn', 10, 3)), (0.6185379951478887, (30, 'knn', 10, 5)), (0.6223109893538499, (30, 'knn', 10, 7)), (0.6050748385060539, (30, 'knn', 10, 11)), (0.6177558322807293, (30, 'knn', 20, 3)), (0.6185379951478887, (30, 'knn', 20, 5)), (0.6223109893538499, (30, 'knn', 20, 7)), (0.6050748385060539, (30, 'knn', 20, 11)), (0.6177558322807293, (30, 'knn', 30, 3)), (0.6185379951478887, (30, 'knn', 30, 5)), (0.6223109893538499, (30, 'knn', 30, 7)), (0.6050748385060539, (30, 'knn', 30, 11)), (0.6177558322807293, (30, 'knn', 40, 3)), (0.6185379951478887, (30, 'knn', 40, 5)), (0.6223109893538499, (30, 'knn', 40, 7)), (0.6050748385060539, (30, 'knn', 40, 11)), (0.052763970144625125, (30, 'rbf', 1, 3)), (0.052763970144625125, (30, 'rbf', 1, 5)), (0.052763970144625125, (30, 'rbf', 1, 7)), (0.052763970144625125, (30, 'rbf', 1, 11)), (0.5145234707943761, (30, 'rbf', 10, 3)), (0.5145234707943761, (30, 'rbf', 10, 5)), (0.5145234707943761, (30, 'rbf', 10, 7)), (0.5145234707943761, (30, 'rbf', 10, 11)), (0.5955383665440384, (30, 'rbf', 20, 3)), (0.5955383665440384, (30, 'rbf', 20, 5)), (0.5955383665440384, (30, 'rbf', 20, 7)), (0.5955383665440384, (30, 'rbf', 20, 11)), (0.6214225963697353, (30, 'rbf', 30, 3)), (0.6214225963697353, (30, 'rbf', 30, 5)), (0.6214225963697353, (30, 'rbf', 30, 7)), (0.6214225963697353, (30, 'rbf', 30, 11)), (0.643677108194035, (30, 'rbf', 40, 3)), (0.643677108194035, (30, 'rbf', 40, 5)), (0.643677108194035, (30, 'rbf', 40, 7)), (0.643677108194035, (30, 'rbf', 40, 11)), (0.5947951061015349, (35, 'knn', 1, 3)), (0.6170175902418122, (35, 'knn', 1, 5)), (0.5863758914373056, (35, 'knn', 1, 7)), (0.5895660971793373, (35, 'knn', 1, 11)), (0.5947951061015349, (35, 'knn', 10, 3)), (0.6170175902418122, (35, 'knn', 10, 5)), (0.5863758914373056, (35, 'knn', 10, 7)), (0.5895660971793373, (35, 'knn', 10, 11)), (0.5947951061015349, (35, 'knn', 20, 3)), (0.6170175902418122, (35, 'knn', 20, 5)), (0.5863758914373056, (35, 'knn', 20, 7)), (0.5895660971793373, (35, 'knn', 20, 11)), (0.5947951061015349, (35, 'knn', 30, 3)), (0.6170175902418122, (35, 'knn', 30, 5)), (0.5863758914373056, (35, 'knn', 30, 7)), (0.5895660971793373, (35, 'knn', 30, 11)), (0.5947951061015349, (35, 'knn', 40, 3)), (0.6170175902418122, (35, 'knn', 40, 5)), (0.5863758914373056, (35, 'knn', 40, 7)), (0.5895660971793373, (35, 'knn', 40, 11)), (0.053697813089443394, (35, 'rbf', 1, 3)), (0.053697813089443394, (35, 'rbf', 1, 5)), (0.053697813089443394, (35, 'rbf', 1, 7)), (0.053697813089443394, (35, 'rbf', 1, 11)), (0.5339659899456672, (35, 'rbf', 10, 3)), (0.5339659899456672, (35, 'rbf', 10, 5)), (0.5339659899456672, (35, 'rbf', 10, 7)), (0.5339659899456672, (35, 'rbf', 10, 11)), (0.6128264750907759, (35, 'rbf', 20, 3)), (0.6128264750907759, (35, 'rbf', 20, 5)), (0.6128264750907759, (35, 'rbf', 20, 7)), (0.6128264750907759, (35, 'rbf', 20, 11)), (0.6472573723865579, (35, 'rbf', 30, 3)), (0.6472573723865579, (35, 'rbf', 30, 5)), (0.6472573723865579, (35, 'rbf', 30, 7)), (0.6472573723865579, (35, 'rbf', 30, 11)), (0.6557648879149648, (35, 'rbf', 40, 3)), (0.6557648879149648, (35, 'rbf', 40, 5)), (0.6557648879149648, (35, 'rbf', 40, 7)), (0.6557648879149648, (35, 'rbf', 40, 11)), (0.6288725764724508, (40, 'knn', 1, 3)), (0.6215067861722157, (40, 'knn', 1, 5)), (0.6041758632074359, (40, 'knn', 1, 7)), (0.5866027979463361, (40, 'knn', 1, 11)), (0.6288725764724508, (40, 'knn', 10, 3)), (0.6215067861722157, (40, 'knn', 10, 5)), (0.6041758632074359, (40, 'knn', 10, 7)), (0.5866027979463361, (40, 'knn', 10, 11)), (0.6288725764724508, (40, 'knn', 20, 3)), (0.6215067861722157, (40, 'knn', 20, 5)), (0.6041758632074359, (40, 'knn', 20, 7)), (0.5866027979463361, (40, 'knn', 20, 11)), (0.6288725764724508, (40, 'knn', 30, 3)), (0.6215067861722157, (40, 'knn', 30, 5)), (0.6041758632074359, (40, 'knn', 30, 7)), (0.5866027979463361, (40, 'knn', 30, 11)), (0.6288725764724508, (40, 'knn', 40, 3)), (0.6215067861722157, (40, 'knn', 40, 5)), (0.6041758632074359, (40, 'knn', 40, 7)), (0.5866027979463361, (40, 'knn', 40, 11)), (0.06371850865820872, (40, 'rbf', 1, 3)), (0.06371850865820872, (40, 'rbf', 1, 5)), (0.06371850865820872, (40, 'rbf', 1, 7)), (0.06371850865820872, (40, 'rbf', 1, 11)), (0.5531457595229761, (40, 'rbf', 10, 3)), (0.5531457595229761, (40, 'rbf', 10, 5)), (0.5531457595229761, (40, 'rbf', 10, 7)), (0.5531457595229761, (40, 'rbf', 10, 11)), (0.6236365501766536, (40, 'rbf', 20, 3)), (0.6236365501766536, (40, 'rbf', 20, 5)), (0.6236365501766536, (40, 'rbf', 20, 7)), (0.6236365501766536, (40, 'rbf', 20, 11)), (0.6558851698496511, (40, 'rbf', 30, 3)), (0.6558851698496511, (40, 'rbf', 30, 5)), (0.6558851698496511, (40, 'rbf', 30, 7)), (0.6558851698496511, (40, 'rbf', 30, 11)), (0.6647333160312147, (40, 'rbf', 40, 3)), (0.6647333160312147, (40, 'rbf', 40, 5)), (0.6647333160312147, (40, 'rbf', 40, 7)), (0.6647333160312147, (40, 'rbf', 40, 11)), (0.6076999155372147, (45, 'knn', 1, 3)), (0.604421229615283, (45, 'knn', 1, 5)), (0.6088097419669278, (45, 'knn', 1, 7)), (0.5793709362992842, (45, 'knn', 1, 11)), (0.6076999155372147, (45, 'knn', 10, 3)), (0.604421229615283, (45, 'knn', 10, 5)), (0.6088097419669278, (45, 'knn', 10, 7)), (0.5793709362992842, (45, 'knn', 10, 11)), (0.6076999155372147, (45, 'knn', 20, 3)), (0.604421229615283, (45, 'knn', 20, 5)), (0.6088097419669278, (45, 'knn', 20, 7)), (0.5793709362992842, (45, 'knn', 20, 11)), (0.6076999155372147, (45, 'knn', 30, 3)), (0.604421229615283, (45, 'knn', 30, 5)), (0.6088097419669278, (45, 'knn', 30, 7)), (0.5793709362992842, (45, 'knn', 30, 11)), (0.6076999155372147, (45, 'knn', 40, 3)), (0.604421229615283, (45, 'knn', 40, 5)), (0.6088097419669278, (45, 'knn', 40, 7)), (0.5793709362992842, (45, 'knn', 40, 11)), (0.06326163617851903, (45, 'rbf', 1, 3)), (0.06326163617851903, (45, 'rbf', 1, 5)), (0.06326163617851903, (45, 'rbf', 1, 7)), (0.06326163617851903, (45, 'rbf', 1, 11)), (0.57408946225226, (45, 'rbf', 10, 3)), (0.57408946225226, (45, 'rbf', 10, 5)), (0.57408946225226, (45, 'rbf', 10, 7)), (0.57408946225226, (45, 'rbf', 10, 11)), (0.6423347735771936, (45, 'rbf', 20, 3)), (0.6423347735771936, (45, 'rbf', 20, 5)), (0.6423347735771936, (45, 'rbf', 20, 7)), (0.6423347735771936, (45, 'rbf', 20, 11)), (0.664489378712744, (45, 'rbf', 30, 3)), (0.664489378712744, (45, 'rbf', 30, 5)), (0.664489378712744, (45, 'rbf', 30, 7)), (0.664489378712744, (45, 'rbf', 30, 11)), (0.6631241694902583, (45, 'rbf', 40, 3)), (0.6631241694902583, (45, 'rbf', 40, 5)), (0.6631241694902583, (45, 'rbf', 40, 7)), (0.6631241694902583, (45, 'rbf', 40, 11)), (0.575703554865807, (50, 'knn', 1, 3)), (0.5977955624610799, (50, 'knn', 1, 5)), (0.5840418616409888, (50, 'knn', 1, 7)), (0.5598814323294274, (50, 'knn', 1, 11)), (0.575703554865807, (50, 'knn', 10, 3)), (0.5977955624610799, (50, 'knn', 10, 5)), (0.5840418616409888, (50, 'knn', 10, 7)), (0.5598814323294274, (50, 'knn', 10, 11)), (0.575703554865807, (50, 'knn', 20, 3)), (0.5977955624610799, (50, 'knn', 20, 5)), (0.5840418616409888, (50, 'knn', 20, 7)), (0.5598814323294274, (50, 'knn', 20, 11)), (0.575703554865807, (50, 'knn', 30, 3)), (0.5977955624610799, (50, 'knn', 30, 5)), (0.5840418616409888, (50, 'knn', 30, 7)), (0.5598814323294274, (50, 'knn', 30, 11)), (0.575703554865807, (50, 'knn', 40, 3)), (0.5977955624610799, (50, 'knn', 40, 5)), (0.5840418616409888, (50, 'knn', 40, 7)), (0.5598814323294274, (50, 'knn', 40, 11)), (0.06223154443809194, (50, 'rbf', 1, 3)), (0.06223154443809194, (50, 'rbf', 1, 5)), (0.06223154443809194, (50, 'rbf', 1, 7)), (0.06223154443809194, (50, 'rbf', 1, 11)), (0.5720286943559759, (50, 'rbf', 10, 3)), (0.5720286943559759, (50, 'rbf', 10, 5)), (0.5720286943559759, (50, 'rbf', 10, 7)), (0.5720286943559759, (50, 'rbf', 10, 11)), (0.6366044834288911, (50, 'rbf', 20, 3)), (0.6366044834288911, (50, 'rbf', 20, 5)), (0.6366044834288911, (50, 'rbf', 20, 7)), (0.6366044834288911, (50, 'rbf', 20, 11)), (0.637719548388734, (50, 'rbf', 30, 3)), (0.637719548388734, (50, 'rbf', 30, 5)), (0.637719548388734, (50, 'rbf', 30, 7)), (0.637719548388734, (50, 'rbf', 30, 11)), (0.6361687937699477, (50, 'rbf', 40, 3)), (0.6361687937699477, (50, 'rbf', 40, 5)), (0.6361687937699477, (50, 'rbf', 40, 7)), (0.6361687937699477, (50, 'rbf', 40, 11)), (0.5790804489860927, (55, 'knn', 1, 3)), (0.5843523802764602, (55, 'knn', 1, 5)), (0.5747462312822785, (55, 'knn', 1, 7)), (0.5428169253277235, (55, 'knn', 1, 11)), (0.5790804489860927, (55, 'knn', 10, 3)), (0.5843523802764602, (55, 'knn', 10, 5)), (0.5747462312822785, (55, 'knn', 10, 7)), (0.5428169253277235, (55, 'knn', 10, 11)), (0.5790804489860927, (55, 'knn', 20, 3)), (0.5843523802764602, (55, 'knn', 20, 5)), (0.5747462312822785, (55, 'knn', 20, 7)), (0.5428169253277235, (55, 'knn', 20, 11)), (0.5790804489860927, (55, 'knn', 30, 3)), (0.5843523802764602, (55, 'knn', 30, 5)), (0.5747462312822785, (55, 'knn', 30, 7)), (0.5428169253277235, (55, 'knn', 30, 11)), (0.5790804489860927, (55, 'knn', 40, 3)), (0.5843523802764602, (55, 'knn', 40, 5)), (0.5747462312822785, (55, 'knn', 40, 7)), (0.5428169253277235, (55, 'knn', 40, 11)), (0.06705546064827161, (55, 'rbf', 1, 3)), (0.06705546064827161, (55, 'rbf', 1, 5)), (0.06705546064827161, (55, 'rbf', 1, 7)), (0.06705546064827161, (55, 'rbf', 1, 11)), (0.5855761951050296, (55, 'rbf', 10, 3)), (0.5855761951050296, (55, 'rbf', 10, 5)), (0.5855761951050296, (55, 'rbf', 10, 7)), (0.5855761951050296, (55, 'rbf', 10, 11)), (0.6372690252119388, (55, 'rbf', 20, 3)), (0.6372690252119388, (55, 'rbf', 20, 5)), (0.6372690252119388, (55, 'rbf', 20, 7)), (0.6372690252119388, (55, 'rbf', 20, 11)), (0.6391153033756376, (55, 'rbf', 30, 3)), (0.6391153033756376, (55, 'rbf', 30, 5)), (0.6391153033756376, (55, 'rbf', 30, 7)), (0.6391153033756376, (55, 'rbf', 30, 11)), (0.6388765824847378, (55, 'rbf', 40, 3)), (0.6388765824847378, (55, 'rbf', 40, 5)), (0.6388765824847378, (55, 'rbf', 40, 7)), (0.6388765824847378, (55, 'rbf', 40, 11)), (0.5887205807933634, (60, 'knn', 1, 3)), (0.5847068778269673, (60, 'knn', 1, 5)), (0.5724822429681569, (60, 'knn', 1, 7)), (0.5375706752585839, (60, 'knn', 1, 11)), (0.5887205807933634, (60, 'knn', 10, 3)), (0.5847068778269673, (60, 'knn', 10, 5)), (0.5724822429681569, (60, 'knn', 10, 7)), (0.5375706752585839, (60, 'knn', 10, 11)), (0.5887205807933634, (60, 'knn', 20, 3)), (0.5847068778269673, (60, 'knn', 20, 5)), (0.5724822429681569, (60, 'knn', 20, 7)), (0.5375706752585839, (60, 'knn', 20, 11)), (0.5887205807933634, (60, 'knn', 30, 3)), (0.5847068778269673, (60, 'knn', 30, 5)), (0.5724822429681569, (60, 'knn', 30, 7)), (0.5375706752585839, (60, 'knn', 30, 11)), (0.5887205807933634, (60, 'knn', 40, 3)), (0.5847068778269673, (60, 'knn', 40, 5)), (0.5724822429681569, (60, 'knn', 40, 7)), (0.5375706752585839, (60, 'knn', 40, 11)), (0.07307678702076184, (60, 'rbf', 1, 3)), (0.07307678702076184, (60, 'rbf', 1, 5)), (0.07307678702076184, (60, 'rbf', 1, 7)), (0.07307678702076184, (60, 'rbf', 1, 11)), (0.5974652201707824, (60, 'rbf', 10, 3)), (0.5974652201707824, (60, 'rbf', 10, 5)), (0.5974652201707824, (60, 'rbf', 10, 7)), (0.5974652201707824, (60, 'rbf', 10, 11)), (0.6408740633064545, (60, 'rbf', 20, 3)), (0.6408740633064545, (60, 'rbf', 20, 5)), (0.6408740633064545, (60, 'rbf', 20, 7)), (0.6408740633064545, (60, 'rbf', 20, 11)), (0.6348132253568073, (60, 'rbf', 30, 3)), (0.6348132253568073, (60, 'rbf', 30, 5)), (0.6348132253568073, (60, 'rbf', 30, 7)), (0.6348132253568073, (60, 'rbf', 30, 11)), (0.6312871843034159, (60, 'rbf', 40, 3)), (0.6312871843034159, (60, 'rbf', 40, 5)), (0.6312871843034159, (60, 'rbf', 40, 7)), (0.6312871843034159, (60, 'rbf', 40, 11)), (0.5478176068197464, (65, 'knn', 1, 3)), (0.5411446333208738, (65, 'knn', 1, 5)), (0.5258613982531223, (65, 'knn', 1, 7)), (0.5105140762697407, (65, 'knn', 1, 11)), (0.5478176068197464, (65, 'knn', 10, 3)), (0.5411446333208738, (65, 'knn', 10, 5)), (0.5258613982531223, (65, 'knn', 10, 7)), (0.5105140762697407, (65, 'knn', 10, 11)), (0.5478176068197464, (65, 'knn', 20, 3)), (0.5411446333208738, (65, 'knn', 20, 5)), (0.5258613982531223, (65, 'knn', 20, 7)), (0.5105140762697407, (65, 'knn', 20, 11)), (0.5478176068197464, (65, 'knn', 30, 3)), (0.5411446333208738, (65, 'knn', 30, 5)), (0.5258613982531223, (65, 'knn', 30, 7)), (0.5105140762697407, (65, 'knn', 30, 11)), (0.5478176068197464, (65, 'knn', 40, 3)), (0.5411446333208738, (65, 'knn', 40, 5)), (0.5258613982531223, (65, 'knn', 40, 7)), (0.5105140762697407, (65, 'knn', 40, 11)), (0.07633567812197048, (65, 'rbf', 1, 3)), (0.07633567812197048, (65, 'rbf', 1, 5)), (0.07633567812197048, (65, 'rbf', 1, 7)), (0.07633567812197048, (65, 'rbf', 1, 11)), (0.5931899229039338, (65, 'rbf', 10, 3)), (0.5931899229039338, (65, 'rbf', 10, 5)), (0.5931899229039338, (65, 'rbf', 10, 7)), (0.5931899229039338, (65, 'rbf', 10, 11)), (0.6218133257366365, (65, 'rbf', 20, 3)), (0.6218133257366365, (65, 'rbf', 20, 5)), (0.6218133257366365, (65, 'rbf', 20, 7)), (0.6218133257366365, (65, 'rbf', 20, 11)), (0.6179204238307439, (65, 'rbf', 30, 3)), (0.6179204238307439, (65, 'rbf', 30, 5)), (0.6179204238307439, (65, 'rbf', 30, 7)), (0.6179204238307439, (65, 'rbf', 30, 11)), (0.614244274929175, (65, 'rbf', 40, 3)), (0.614244274929175, (65, 'rbf', 40, 5)), (0.614244274929175, (65, 'rbf', 40, 7)), (0.614244274929175, (65, 'rbf', 40, 11)), (0.5365577848592177, (70, 'knn', 1, 3)), (0.543750940998487, (70, 'knn', 1, 5)), (0.5246775969833879, (70, 'knn', 1, 7)), (0.4967797709032868, (70, 'knn', 1, 11)), (0.5365577848592177, (70, 'knn', 10, 3)), (0.543750940998487, (70, 'knn', 10, 5)), (0.5246775969833879, (70, 'knn', 10, 7)), (0.4967797709032868, (70, 'knn', 10, 11)), (0.5365577848592177, (70, 'knn', 20, 3)), (0.543750940998487, (70, 'knn', 20, 5)), (0.5246775969833879, (70, 'knn', 20, 7)), (0.4967797709032868, (70, 'knn', 20, 11)), (0.5365577848592177, (70, 'knn', 30, 3)), (0.543750940998487, (70, 'knn', 30, 5)), (0.5246775969833879, (70, 'knn', 30, 7)), (0.4967797709032868, (70, 'knn', 30, 11)), (0.5365577848592177, (70, 'knn', 40, 3)), (0.543750940998487, (70, 'knn', 40, 5)), (0.5246775969833879, (70, 'knn', 40, 7)), (0.4967797709032868, (70, 'knn', 40, 11)), (0.085634006497626, (70, 'rbf', 1, 3)), (0.085634006497626, (70, 'rbf', 1, 5)), (0.085634006497626, (70, 'rbf', 1, 7)), (0.085634006497626, (70, 'rbf', 1, 11)), (0.5838137345484491, (70, 'rbf', 10, 3)), (0.5838137345484491, (70, 'rbf', 10, 5)), (0.5838137345484491, (70, 'rbf', 10, 7)), (0.5838137345484491, (70, 'rbf', 10, 11)), (0.5904848987255995, (70, 'rbf', 20, 3)), (0.5904848987255995, (70, 'rbf', 20, 5)), (0.5904848987255995, (70, 'rbf', 20, 7)), (0.5904848987255995, (70, 'rbf', 20, 11)), (0.5828855542683751, (70, 'rbf', 30, 3)), (0.5828855542683751, (70, 'rbf', 30, 5)), (0.5828855542683751, (70, 'rbf', 30, 7)), (0.5828855542683751, (70, 'rbf', 30, 11)), (0.5758987017016028, (70, 'rbf', 40, 3)), (0.5758987017016028, (70, 'rbf', 40, 5)), (0.5758987017016028, (70, 'rbf', 40, 7)), (0.5758987017016028, (70, 'rbf', 40, 11)), (0.5244559348675791, (75, 'knn', 1, 3)), (0.5154806880685874, (75, 'knn', 1, 5)), (0.49254034206579966, (75, 'knn', 1, 7)), (0.47948746286921057, (75, 'knn', 1, 11)), (0.5244559348675791, (75, 'knn', 10, 3)), (0.5154806880685874, (75, 'knn', 10, 5)), (0.49254034206579966, (75, 'knn', 10, 7)), (0.47948746286921057, (75, 'knn', 10, 11)), (0.5244559348675791, (75, 'knn', 20, 3)), (0.5154806880685874, (75, 'knn', 20, 5)), (0.49254034206579966, (75, 'knn', 20, 7)), (0.47948746286921057, (75, 'knn', 20, 11)), (0.5244559348675791, (75, 'knn', 30, 3)), (0.5154806880685874, (75, 'knn', 30, 5)), (0.49254034206579966, (75, 'knn', 30, 7)), (0.47948746286921057, (75, 'knn', 30, 11)), (0.5244559348675791, (75, 'knn', 40, 3)), (0.5154806880685874, (75, 'knn', 40, 5)), (0.49254034206579966, (75, 'knn', 40, 7)), (0.47948746286921057, (75, 'knn', 40, 11)), (0.08528837370732197, (75, 'rbf', 1, 3)), (0.08528837370732197, (75, 'rbf', 1, 5)), (0.08528837370732197, (75, 'rbf', 1, 7)), (0.08528837370732197, (75, 'rbf', 1, 11)), (0.5796602409811659, (75, 'rbf', 10, 3)), (0.5796602409811659, (75, 'rbf', 10, 5)), (0.5796602409811659, (75, 'rbf', 10, 7)), (0.5796602409811659, (75, 'rbf', 10, 11)), (0.5798554723372521, (75, 'rbf', 20, 3)), (0.5798554723372521, (75, 'rbf', 20, 5)), (0.5798554723372521, (75, 'rbf', 20, 7)), (0.5798554723372521, (75, 'rbf', 20, 11)), (0.5726395883070726, (75, 'rbf', 30, 3)), (0.5726395883070726, (75, 'rbf', 30, 5)), (0.5726395883070726, (75, 'rbf', 30, 7)), (0.5726395883070726, (75, 'rbf', 30, 11)), (0.5710899262254338, (75, 'rbf', 40, 3)), (0.5710899262254338, (75, 'rbf', 40, 5)), (0.5710899262254338, (75, 'rbf', 40, 7)), (0.5710899262254338, (75, 'rbf', 40, 11))]\n"
     ]
    }
   ],
   "source": [
    "best_score = 0\n",
    "best_params = None\n",
    "scores = []\n",
    "\n",
    "k_splits = 10\n",
    "cv = StratifiedKFold(n_splits=k_splits)\n",
    "\n",
    "for p in tqdm(params):\n",
    "    k, kernel, g, n = p\n",
    "    select = SelectKBest(chi2, k=k)\n",
    "    select.fit(x_not_nan, y_not_nan)\n",
    "    x = select.transform(x_not_nan)\n",
    "    mean_score = 0\n",
    "    for i, (train, test) in enumerate(cv.split(x, y_not_nan)):\n",
    "        x_train = x[train]\n",
    "        y_train = y_not_nan.to_numpy()[train]\n",
    "        x_test = x[test]\n",
    "        y_test = y_not_nan.to_numpy()[test]\n",
    "        model = LabelSpreading(kernel=kernel, gamma=g, n_neighbors=n)\n",
    "        model.fit(x_train, y_train)\n",
    "        y = model.predict(x_test)\n",
    "        score = f1_score(y_test, y, average=\"macro\")\n",
    "        mean_score += score\n",
    "    mean_score /= k_splits\n",
    "    scores.append((mean_score, p))\n",
    "    if mean_score > best_score:\n",
    "        best_score = mean_score\n",
    "        best_params = p\n",
    "\n",
    "\n",
    "print(f\"Best params: {best_params}\")\n",
    "print(f\"BestScore: {best_score}\")\n",
    "print(f\"Scores: {scores}\")\n"
   ],
   "metadata": {
    "collapsed": false,
    "pycharm": {
     "name": "#%%\n"
    }
   }
  },
  {
   "cell_type": "markdown",
   "source": [
    "**Trenowanie i testowanie ostatecznego modelu**"
   ],
   "metadata": {
    "collapsed": false,
    "pycharm": {
     "name": "#%% md\n"
    }
   }
  },
  {
   "cell_type": "code",
   "execution_count": 250,
   "outputs": [
    {
     "name": "stdout",
     "output_type": "stream",
     "text": [
      "X not nan (2733, 40)\n",
      "classes: [ 1.  2. 10. 15. 17. 19. 20. 22. 23. 24. 25. 26. 27. 28. 29.]\n",
      "Accuracy: 0.6399533488837055\n",
      "F1: 0.5271166327661649\n",
      "Precision: 0.6667983671873589\n",
      "Recall: 0.4706986406569447\n",
      "ROC AUC Score OVR: 0.7201944223965345\n",
      "ROC AUC Score OVO: 0.7201944223965345\n"
     ]
    }
   ],
   "source": [
    "k, kernel, g, n = best_params\n",
    "\n",
    "select = SelectKBest(chi2, k=k)\n",
    "select.fit(x_not_nan, y_not_nan)\n",
    "x_not_nan = select.transform(x_not_nan)\n",
    "x_only_nan = select.transform(x_only_nan)\n",
    "model = LabelSpreading(kernel=kernel, gamma=g, n_neighbors=n)\n",
    "model.fit(x_not_nan, y_not_nan)\n",
    "print(f\"X not nan {x_not_nan.shape}\")\n",
    "print(f\"classes: {model.classes_}\")\n",
    "y = model.predict(x_only_nan)\n",
    "# show_stats(y_hat, y_hat_nans, y, True)\n",
    "show_stats_labels(y_only_nan, y)"
   ],
   "metadata": {
    "collapsed": false,
    "pycharm": {
     "name": "#%%\n"
    }
   }
  },
  {
   "cell_type": "markdown",
   "source": [
    "## Dodatnie TfIdf\n"
   ],
   "metadata": {
    "collapsed": false,
    "pycharm": {
     "name": "#%% md\n"
    }
   }
  },
  {
   "cell_type": "code",
   "execution_count": 251,
   "outputs": [
    {
     "name": "stdout",
     "output_type": "stream",
     "text": [
      "All: 9623\n",
      "Tfidf: (9623, 200)\n",
      "All: 9623\n",
      "Tfidf: (9623, 200)\n",
      "All: 9623\n",
      "Tfidf: (9623, 200)\n",
      "(8735, 200)\n",
      "(8735, 200)\n",
      "(8735, 200)\n"
     ]
    },
    {
     "data": {
      "text/plain": "HBox(children=(FloatProgress(value=0.0, max=760.0), HTML(value='')))",
      "application/vnd.jupyter.widget-view+json": {
       "version_major": 2,
       "version_minor": 0,
       "model_id": "baf715a8a14c42f397f6d6c300e1307e"
      }
     },
     "metadata": {},
     "output_type": "display_data"
    },
    {
     "name": "stdout",
     "output_type": "stream",
     "text": [
      "\n",
      "Best params: (5, 'rbf', 40, 3)\n",
      "BestScore: 0.6647333160312147\n",
      "Scores: [(0.6288725764724508, (5, 'knn', 1, 3)), (0.6215067861722157, (5, 'knn', 1, 5)), (0.6041758632074359, (5, 'knn', 1, 7)), (0.5866027979463361, (5, 'knn', 1, 11)), (0.6288725764724508, (5, 'knn', 10, 3)), (0.6215067861722157, (5, 'knn', 10, 5)), (0.6041758632074359, (5, 'knn', 10, 7)), (0.5866027979463361, (5, 'knn', 10, 11)), (0.6288725764724508, (5, 'knn', 20, 3)), (0.6215067861722157, (5, 'knn', 20, 5)), (0.6041758632074359, (5, 'knn', 20, 7)), (0.5866027979463361, (5, 'knn', 20, 11)), (0.6288725764724508, (5, 'knn', 30, 3)), (0.6215067861722157, (5, 'knn', 30, 5)), (0.6041758632074359, (5, 'knn', 30, 7)), (0.5866027979463361, (5, 'knn', 30, 11)), (0.6288725764724508, (5, 'knn', 40, 3)), (0.6215067861722157, (5, 'knn', 40, 5)), (0.6041758632074359, (5, 'knn', 40, 7)), (0.5866027979463361, (5, 'knn', 40, 11)), (0.06371850865820872, (5, 'rbf', 1, 3)), (0.06371850865820872, (5, 'rbf', 1, 5)), (0.06371850865820872, (5, 'rbf', 1, 7)), (0.06371850865820872, (5, 'rbf', 1, 11)), (0.5531457595229761, (5, 'rbf', 10, 3)), (0.5531457595229761, (5, 'rbf', 10, 5)), (0.5531457595229761, (5, 'rbf', 10, 7)), (0.5531457595229761, (5, 'rbf', 10, 11)), (0.6236365501766536, (5, 'rbf', 20, 3)), (0.6236365501766536, (5, 'rbf', 20, 5)), (0.6236365501766536, (5, 'rbf', 20, 7)), (0.6236365501766536, (5, 'rbf', 20, 11)), (0.6558851698496511, (5, 'rbf', 30, 3)), (0.6558851698496511, (5, 'rbf', 30, 5)), (0.6558851698496511, (5, 'rbf', 30, 7)), (0.6558851698496511, (5, 'rbf', 30, 11)), (0.6647333160312147, (5, 'rbf', 40, 3)), (0.6647333160312147, (5, 'rbf', 40, 5)), (0.6647333160312147, (5, 'rbf', 40, 7)), (0.6647333160312147, (5, 'rbf', 40, 11)), (0.6288725764724508, (10, 'knn', 1, 3)), (0.6215067861722157, (10, 'knn', 1, 5)), (0.6041758632074359, (10, 'knn', 1, 7)), (0.5866027979463361, (10, 'knn', 1, 11)), (0.6288725764724508, (10, 'knn', 10, 3)), (0.6215067861722157, (10, 'knn', 10, 5)), (0.6041758632074359, (10, 'knn', 10, 7)), (0.5866027979463361, (10, 'knn', 10, 11)), (0.6288725764724508, (10, 'knn', 20, 3)), (0.6215067861722157, (10, 'knn', 20, 5)), (0.6041758632074359, (10, 'knn', 20, 7)), (0.5866027979463361, (10, 'knn', 20, 11)), (0.6288725764724508, (10, 'knn', 30, 3)), (0.6215067861722157, (10, 'knn', 30, 5)), (0.6041758632074359, (10, 'knn', 30, 7)), (0.5866027979463361, (10, 'knn', 30, 11)), (0.6288725764724508, (10, 'knn', 40, 3)), (0.6215067861722157, (10, 'knn', 40, 5)), (0.6041758632074359, (10, 'knn', 40, 7)), (0.5866027979463361, (10, 'knn', 40, 11)), (0.06371850865820872, (10, 'rbf', 1, 3)), (0.06371850865820872, (10, 'rbf', 1, 5)), (0.06371850865820872, (10, 'rbf', 1, 7)), (0.06371850865820872, (10, 'rbf', 1, 11)), (0.5531457595229761, (10, 'rbf', 10, 3)), (0.5531457595229761, (10, 'rbf', 10, 5)), (0.5531457595229761, (10, 'rbf', 10, 7)), (0.5531457595229761, (10, 'rbf', 10, 11)), (0.6236365501766536, (10, 'rbf', 20, 3)), (0.6236365501766536, (10, 'rbf', 20, 5)), (0.6236365501766536, (10, 'rbf', 20, 7)), (0.6236365501766536, (10, 'rbf', 20, 11)), (0.6558851698496511, (10, 'rbf', 30, 3)), (0.6558851698496511, (10, 'rbf', 30, 5)), (0.6558851698496511, (10, 'rbf', 30, 7)), (0.6558851698496511, (10, 'rbf', 30, 11)), (0.6647333160312147, (10, 'rbf', 40, 3)), (0.6647333160312147, (10, 'rbf', 40, 5)), (0.6647333160312147, (10, 'rbf', 40, 7)), (0.6647333160312147, (10, 'rbf', 40, 11)), (0.6288725764724508, (15, 'knn', 1, 3)), (0.6215067861722157, (15, 'knn', 1, 5)), (0.6041758632074359, (15, 'knn', 1, 7)), (0.5866027979463361, (15, 'knn', 1, 11)), (0.6288725764724508, (15, 'knn', 10, 3)), (0.6215067861722157, (15, 'knn', 10, 5)), (0.6041758632074359, (15, 'knn', 10, 7)), (0.5866027979463361, (15, 'knn', 10, 11)), (0.6288725764724508, (15, 'knn', 20, 3)), (0.6215067861722157, (15, 'knn', 20, 5)), (0.6041758632074359, (15, 'knn', 20, 7)), (0.5866027979463361, (15, 'knn', 20, 11)), (0.6288725764724508, (15, 'knn', 30, 3)), (0.6215067861722157, (15, 'knn', 30, 5)), (0.6041758632074359, (15, 'knn', 30, 7)), (0.5866027979463361, (15, 'knn', 30, 11)), (0.6288725764724508, (15, 'knn', 40, 3)), (0.6215067861722157, (15, 'knn', 40, 5)), (0.6041758632074359, (15, 'knn', 40, 7)), (0.5866027979463361, (15, 'knn', 40, 11)), (0.06371850865820872, (15, 'rbf', 1, 3)), (0.06371850865820872, (15, 'rbf', 1, 5)), (0.06371850865820872, (15, 'rbf', 1, 7)), (0.06371850865820872, (15, 'rbf', 1, 11)), (0.5531457595229761, (15, 'rbf', 10, 3)), (0.5531457595229761, (15, 'rbf', 10, 5)), (0.5531457595229761, (15, 'rbf', 10, 7)), (0.5531457595229761, (15, 'rbf', 10, 11)), (0.6236365501766536, (15, 'rbf', 20, 3)), (0.6236365501766536, (15, 'rbf', 20, 5)), (0.6236365501766536, (15, 'rbf', 20, 7)), (0.6236365501766536, (15, 'rbf', 20, 11)), (0.6558851698496511, (15, 'rbf', 30, 3)), (0.6558851698496511, (15, 'rbf', 30, 5)), (0.6558851698496511, (15, 'rbf', 30, 7)), (0.6558851698496511, (15, 'rbf', 30, 11)), (0.6647333160312147, (15, 'rbf', 40, 3)), (0.6647333160312147, (15, 'rbf', 40, 5)), (0.6647333160312147, (15, 'rbf', 40, 7)), (0.6647333160312147, (15, 'rbf', 40, 11)), (0.6288725764724508, (20, 'knn', 1, 3)), (0.6215067861722157, (20, 'knn', 1, 5)), (0.6041758632074359, (20, 'knn', 1, 7)), (0.5866027979463361, (20, 'knn', 1, 11)), (0.6288725764724508, (20, 'knn', 10, 3)), (0.6215067861722157, (20, 'knn', 10, 5)), (0.6041758632074359, (20, 'knn', 10, 7)), (0.5866027979463361, (20, 'knn', 10, 11)), (0.6288725764724508, (20, 'knn', 20, 3)), (0.6215067861722157, (20, 'knn', 20, 5)), (0.6041758632074359, (20, 'knn', 20, 7)), (0.5866027979463361, (20, 'knn', 20, 11)), (0.6288725764724508, (20, 'knn', 30, 3)), (0.6215067861722157, (20, 'knn', 30, 5)), (0.6041758632074359, (20, 'knn', 30, 7)), (0.5866027979463361, (20, 'knn', 30, 11)), (0.6288725764724508, (20, 'knn', 40, 3)), (0.6215067861722157, (20, 'knn', 40, 5)), (0.6041758632074359, (20, 'knn', 40, 7)), (0.5866027979463361, (20, 'knn', 40, 11)), (0.06371850865820872, (20, 'rbf', 1, 3)), (0.06371850865820872, (20, 'rbf', 1, 5)), (0.06371850865820872, (20, 'rbf', 1, 7)), (0.06371850865820872, (20, 'rbf', 1, 11)), (0.5531457595229761, (20, 'rbf', 10, 3)), (0.5531457595229761, (20, 'rbf', 10, 5)), (0.5531457595229761, (20, 'rbf', 10, 7)), (0.5531457595229761, (20, 'rbf', 10, 11)), (0.6236365501766536, (20, 'rbf', 20, 3)), (0.6236365501766536, (20, 'rbf', 20, 5)), (0.6236365501766536, (20, 'rbf', 20, 7)), (0.6236365501766536, (20, 'rbf', 20, 11)), (0.6558851698496511, (20, 'rbf', 30, 3)), (0.6558851698496511, (20, 'rbf', 30, 5)), (0.6558851698496511, (20, 'rbf', 30, 7)), (0.6558851698496511, (20, 'rbf', 30, 11)), (0.6647333160312147, (20, 'rbf', 40, 3)), (0.6647333160312147, (20, 'rbf', 40, 5)), (0.6647333160312147, (20, 'rbf', 40, 7)), (0.6647333160312147, (20, 'rbf', 40, 11)), (0.6288725764724508, (25, 'knn', 1, 3)), (0.6215067861722157, (25, 'knn', 1, 5)), (0.6041758632074359, (25, 'knn', 1, 7)), (0.5866027979463361, (25, 'knn', 1, 11)), (0.6288725764724508, (25, 'knn', 10, 3)), (0.6215067861722157, (25, 'knn', 10, 5)), (0.6041758632074359, (25, 'knn', 10, 7)), (0.5866027979463361, (25, 'knn', 10, 11)), (0.6288725764724508, (25, 'knn', 20, 3)), (0.6215067861722157, (25, 'knn', 20, 5)), (0.6041758632074359, (25, 'knn', 20, 7)), (0.5866027979463361, (25, 'knn', 20, 11)), (0.6288725764724508, (25, 'knn', 30, 3)), (0.6215067861722157, (25, 'knn', 30, 5)), (0.6041758632074359, (25, 'knn', 30, 7)), (0.5866027979463361, (25, 'knn', 30, 11)), (0.6288725764724508, (25, 'knn', 40, 3)), (0.6215067861722157, (25, 'knn', 40, 5)), (0.6041758632074359, (25, 'knn', 40, 7)), (0.5866027979463361, (25, 'knn', 40, 11)), (0.06371850865820872, (25, 'rbf', 1, 3)), (0.06371850865820872, (25, 'rbf', 1, 5)), (0.06371850865820872, (25, 'rbf', 1, 7)), (0.06371850865820872, (25, 'rbf', 1, 11)), (0.5531457595229761, (25, 'rbf', 10, 3)), (0.5531457595229761, (25, 'rbf', 10, 5)), (0.5531457595229761, (25, 'rbf', 10, 7)), (0.5531457595229761, (25, 'rbf', 10, 11)), (0.6236365501766536, (25, 'rbf', 20, 3)), (0.6236365501766536, (25, 'rbf', 20, 5)), (0.6236365501766536, (25, 'rbf', 20, 7)), (0.6236365501766536, (25, 'rbf', 20, 11)), (0.6558851698496511, (25, 'rbf', 30, 3)), (0.6558851698496511, (25, 'rbf', 30, 5)), (0.6558851698496511, (25, 'rbf', 30, 7)), (0.6558851698496511, (25, 'rbf', 30, 11)), (0.6647333160312147, (25, 'rbf', 40, 3)), (0.6647333160312147, (25, 'rbf', 40, 5)), (0.6647333160312147, (25, 'rbf', 40, 7)), (0.6647333160312147, (25, 'rbf', 40, 11)), (0.6288725764724508, (30, 'knn', 1, 3)), (0.6215067861722157, (30, 'knn', 1, 5)), (0.6041758632074359, (30, 'knn', 1, 7)), (0.5866027979463361, (30, 'knn', 1, 11)), (0.6288725764724508, (30, 'knn', 10, 3)), (0.6215067861722157, (30, 'knn', 10, 5)), (0.6041758632074359, (30, 'knn', 10, 7)), (0.5866027979463361, (30, 'knn', 10, 11)), (0.6288725764724508, (30, 'knn', 20, 3)), (0.6215067861722157, (30, 'knn', 20, 5)), (0.6041758632074359, (30, 'knn', 20, 7)), (0.5866027979463361, (30, 'knn', 20, 11)), (0.6288725764724508, (30, 'knn', 30, 3)), (0.6215067861722157, (30, 'knn', 30, 5)), (0.6041758632074359, (30, 'knn', 30, 7)), (0.5866027979463361, (30, 'knn', 30, 11)), (0.6288725764724508, (30, 'knn', 40, 3)), (0.6215067861722157, (30, 'knn', 40, 5)), (0.6041758632074359, (30, 'knn', 40, 7)), (0.5866027979463361, (30, 'knn', 40, 11)), (0.06371850865820872, (30, 'rbf', 1, 3)), (0.06371850865820872, (30, 'rbf', 1, 5)), (0.06371850865820872, (30, 'rbf', 1, 7)), (0.06371850865820872, (30, 'rbf', 1, 11)), (0.5531457595229761, (30, 'rbf', 10, 3)), (0.5531457595229761, (30, 'rbf', 10, 5)), (0.5531457595229761, (30, 'rbf', 10, 7)), (0.5531457595229761, (30, 'rbf', 10, 11)), (0.6236365501766536, (30, 'rbf', 20, 3)), (0.6236365501766536, (30, 'rbf', 20, 5)), (0.6236365501766536, (30, 'rbf', 20, 7)), (0.6236365501766536, (30, 'rbf', 20, 11)), (0.6558851698496511, (30, 'rbf', 30, 3)), (0.6558851698496511, (30, 'rbf', 30, 5)), (0.6558851698496511, (30, 'rbf', 30, 7)), (0.6558851698496511, (30, 'rbf', 30, 11)), (0.6647333160312147, (30, 'rbf', 40, 3)), (0.6647333160312147, (30, 'rbf', 40, 5)), (0.6647333160312147, (30, 'rbf', 40, 7)), (0.6647333160312147, (30, 'rbf', 40, 11)), (0.6288725764724508, (35, 'knn', 1, 3)), (0.6215067861722157, (35, 'knn', 1, 5)), (0.6041758632074359, (35, 'knn', 1, 7)), (0.5866027979463361, (35, 'knn', 1, 11)), (0.6288725764724508, (35, 'knn', 10, 3)), (0.6215067861722157, (35, 'knn', 10, 5)), (0.6041758632074359, (35, 'knn', 10, 7)), (0.5866027979463361, (35, 'knn', 10, 11)), (0.6288725764724508, (35, 'knn', 20, 3)), (0.6215067861722157, (35, 'knn', 20, 5)), (0.6041758632074359, (35, 'knn', 20, 7)), (0.5866027979463361, (35, 'knn', 20, 11)), (0.6288725764724508, (35, 'knn', 30, 3)), (0.6215067861722157, (35, 'knn', 30, 5)), (0.6041758632074359, (35, 'knn', 30, 7)), (0.5866027979463361, (35, 'knn', 30, 11)), (0.6288725764724508, (35, 'knn', 40, 3)), (0.6215067861722157, (35, 'knn', 40, 5)), (0.6041758632074359, (35, 'knn', 40, 7)), (0.5866027979463361, (35, 'knn', 40, 11)), (0.06371850865820872, (35, 'rbf', 1, 3)), (0.06371850865820872, (35, 'rbf', 1, 5)), (0.06371850865820872, (35, 'rbf', 1, 7)), (0.06371850865820872, (35, 'rbf', 1, 11)), (0.5531457595229761, (35, 'rbf', 10, 3)), (0.5531457595229761, (35, 'rbf', 10, 5)), (0.5531457595229761, (35, 'rbf', 10, 7)), (0.5531457595229761, (35, 'rbf', 10, 11)), (0.6236365501766536, (35, 'rbf', 20, 3)), (0.6236365501766536, (35, 'rbf', 20, 5)), (0.6236365501766536, (35, 'rbf', 20, 7)), (0.6236365501766536, (35, 'rbf', 20, 11)), (0.6558851698496511, (35, 'rbf', 30, 3)), (0.6558851698496511, (35, 'rbf', 30, 5)), (0.6558851698496511, (35, 'rbf', 30, 7)), (0.6558851698496511, (35, 'rbf', 30, 11)), (0.6647333160312147, (35, 'rbf', 40, 3)), (0.6647333160312147, (35, 'rbf', 40, 5)), (0.6647333160312147, (35, 'rbf', 40, 7)), (0.6647333160312147, (35, 'rbf', 40, 11)), (0.6288725764724508, (40, 'knn', 1, 3)), (0.6215067861722157, (40, 'knn', 1, 5)), (0.6041758632074359, (40, 'knn', 1, 7)), (0.5866027979463361, (40, 'knn', 1, 11)), (0.6288725764724508, (40, 'knn', 10, 3)), (0.6215067861722157, (40, 'knn', 10, 5)), (0.6041758632074359, (40, 'knn', 10, 7)), (0.5866027979463361, (40, 'knn', 10, 11)), (0.6288725764724508, (40, 'knn', 20, 3)), (0.6215067861722157, (40, 'knn', 20, 5)), (0.6041758632074359, (40, 'knn', 20, 7)), (0.5866027979463361, (40, 'knn', 20, 11)), (0.6288725764724508, (40, 'knn', 30, 3)), (0.6215067861722157, (40, 'knn', 30, 5)), (0.6041758632074359, (40, 'knn', 30, 7)), (0.5866027979463361, (40, 'knn', 30, 11)), (0.6288725764724508, (40, 'knn', 40, 3)), (0.6215067861722157, (40, 'knn', 40, 5)), (0.6041758632074359, (40, 'knn', 40, 7)), (0.5866027979463361, (40, 'knn', 40, 11)), (0.06371850865820872, (40, 'rbf', 1, 3)), (0.06371850865820872, (40, 'rbf', 1, 5)), (0.06371850865820872, (40, 'rbf', 1, 7)), (0.06371850865820872, (40, 'rbf', 1, 11)), (0.5531457595229761, (40, 'rbf', 10, 3)), (0.5531457595229761, (40, 'rbf', 10, 5)), (0.5531457595229761, (40, 'rbf', 10, 7)), (0.5531457595229761, (40, 'rbf', 10, 11)), (0.6236365501766536, (40, 'rbf', 20, 3)), (0.6236365501766536, (40, 'rbf', 20, 5)), (0.6236365501766536, (40, 'rbf', 20, 7)), (0.6236365501766536, (40, 'rbf', 20, 11)), (0.6558851698496511, (40, 'rbf', 30, 3)), (0.6558851698496511, (40, 'rbf', 30, 5)), (0.6558851698496511, (40, 'rbf', 30, 7)), (0.6558851698496511, (40, 'rbf', 30, 11)), (0.6647333160312147, (40, 'rbf', 40, 3)), (0.6647333160312147, (40, 'rbf', 40, 5)), (0.6647333160312147, (40, 'rbf', 40, 7)), (0.6647333160312147, (40, 'rbf', 40, 11)), (0.6288725764724508, (45, 'knn', 1, 3)), (0.6215067861722157, (45, 'knn', 1, 5)), (0.6041758632074359, (45, 'knn', 1, 7)), (0.5866027979463361, (45, 'knn', 1, 11)), (0.6288725764724508, (45, 'knn', 10, 3)), (0.6215067861722157, (45, 'knn', 10, 5)), (0.6041758632074359, (45, 'knn', 10, 7)), (0.5866027979463361, (45, 'knn', 10, 11)), (0.6288725764724508, (45, 'knn', 20, 3)), (0.6215067861722157, (45, 'knn', 20, 5)), (0.6041758632074359, (45, 'knn', 20, 7)), (0.5866027979463361, (45, 'knn', 20, 11)), (0.6288725764724508, (45, 'knn', 30, 3)), (0.6215067861722157, (45, 'knn', 30, 5)), (0.6041758632074359, (45, 'knn', 30, 7)), (0.5866027979463361, (45, 'knn', 30, 11)), (0.6288725764724508, (45, 'knn', 40, 3)), (0.6215067861722157, (45, 'knn', 40, 5)), (0.6041758632074359, (45, 'knn', 40, 7)), (0.5866027979463361, (45, 'knn', 40, 11)), (0.06371850865820872, (45, 'rbf', 1, 3)), (0.06371850865820872, (45, 'rbf', 1, 5)), (0.06371850865820872, (45, 'rbf', 1, 7)), (0.06371850865820872, (45, 'rbf', 1, 11)), (0.5531457595229761, (45, 'rbf', 10, 3)), (0.5531457595229761, (45, 'rbf', 10, 5)), (0.5531457595229761, (45, 'rbf', 10, 7)), (0.5531457595229761, (45, 'rbf', 10, 11)), (0.6236365501766536, (45, 'rbf', 20, 3)), (0.6236365501766536, (45, 'rbf', 20, 5)), (0.6236365501766536, (45, 'rbf', 20, 7)), (0.6236365501766536, (45, 'rbf', 20, 11)), (0.6558851698496511, (45, 'rbf', 30, 3)), (0.6558851698496511, (45, 'rbf', 30, 5)), (0.6558851698496511, (45, 'rbf', 30, 7)), (0.6558851698496511, (45, 'rbf', 30, 11)), (0.6647333160312147, (45, 'rbf', 40, 3)), (0.6647333160312147, (45, 'rbf', 40, 5)), (0.6647333160312147, (45, 'rbf', 40, 7)), (0.6647333160312147, (45, 'rbf', 40, 11)), (0.6288725764724508, (50, 'knn', 1, 3)), (0.6215067861722157, (50, 'knn', 1, 5)), (0.6041758632074359, (50, 'knn', 1, 7)), (0.5866027979463361, (50, 'knn', 1, 11)), (0.6288725764724508, (50, 'knn', 10, 3)), (0.6215067861722157, (50, 'knn', 10, 5)), (0.6041758632074359, (50, 'knn', 10, 7)), (0.5866027979463361, (50, 'knn', 10, 11)), (0.6288725764724508, (50, 'knn', 20, 3)), (0.6215067861722157, (50, 'knn', 20, 5)), (0.6041758632074359, (50, 'knn', 20, 7)), (0.5866027979463361, (50, 'knn', 20, 11)), (0.6288725764724508, (50, 'knn', 30, 3)), (0.6215067861722157, (50, 'knn', 30, 5)), (0.6041758632074359, (50, 'knn', 30, 7)), (0.5866027979463361, (50, 'knn', 30, 11)), (0.6288725764724508, (50, 'knn', 40, 3)), (0.6215067861722157, (50, 'knn', 40, 5)), (0.6041758632074359, (50, 'knn', 40, 7)), (0.5866027979463361, (50, 'knn', 40, 11)), (0.06371850865820872, (50, 'rbf', 1, 3)), (0.06371850865820872, (50, 'rbf', 1, 5)), (0.06371850865820872, (50, 'rbf', 1, 7)), (0.06371850865820872, (50, 'rbf', 1, 11)), (0.5531457595229761, (50, 'rbf', 10, 3)), (0.5531457595229761, (50, 'rbf', 10, 5)), (0.5531457595229761, (50, 'rbf', 10, 7)), (0.5531457595229761, (50, 'rbf', 10, 11)), (0.6236365501766536, (50, 'rbf', 20, 3)), (0.6236365501766536, (50, 'rbf', 20, 5)), (0.6236365501766536, (50, 'rbf', 20, 7)), (0.6236365501766536, (50, 'rbf', 20, 11)), (0.6558851698496511, (50, 'rbf', 30, 3)), (0.6558851698496511, (50, 'rbf', 30, 5)), (0.6558851698496511, (50, 'rbf', 30, 7)), (0.6558851698496511, (50, 'rbf', 30, 11)), (0.6647333160312147, (50, 'rbf', 40, 3)), (0.6647333160312147, (50, 'rbf', 40, 5)), (0.6647333160312147, (50, 'rbf', 40, 7)), (0.6647333160312147, (50, 'rbf', 40, 11)), (0.6288725764724508, (55, 'knn', 1, 3)), (0.6215067861722157, (55, 'knn', 1, 5)), (0.6041758632074359, (55, 'knn', 1, 7)), (0.5866027979463361, (55, 'knn', 1, 11)), (0.6288725764724508, (55, 'knn', 10, 3)), (0.6215067861722157, (55, 'knn', 10, 5)), (0.6041758632074359, (55, 'knn', 10, 7)), (0.5866027979463361, (55, 'knn', 10, 11)), (0.6288725764724508, (55, 'knn', 20, 3)), (0.6215067861722157, (55, 'knn', 20, 5)), (0.6041758632074359, (55, 'knn', 20, 7)), (0.5866027979463361, (55, 'knn', 20, 11)), (0.6288725764724508, (55, 'knn', 30, 3)), (0.6215067861722157, (55, 'knn', 30, 5)), (0.6041758632074359, (55, 'knn', 30, 7)), (0.5866027979463361, (55, 'knn', 30, 11)), (0.6288725764724508, (55, 'knn', 40, 3)), (0.6215067861722157, (55, 'knn', 40, 5)), (0.6041758632074359, (55, 'knn', 40, 7)), (0.5866027979463361, (55, 'knn', 40, 11)), (0.06371850865820872, (55, 'rbf', 1, 3)), (0.06371850865820872, (55, 'rbf', 1, 5)), (0.06371850865820872, (55, 'rbf', 1, 7)), (0.06371850865820872, (55, 'rbf', 1, 11)), (0.5531457595229761, (55, 'rbf', 10, 3)), (0.5531457595229761, (55, 'rbf', 10, 5)), (0.5531457595229761, (55, 'rbf', 10, 7)), (0.5531457595229761, (55, 'rbf', 10, 11)), (0.6236365501766536, (55, 'rbf', 20, 3)), (0.6236365501766536, (55, 'rbf', 20, 5)), (0.6236365501766536, (55, 'rbf', 20, 7)), (0.6236365501766536, (55, 'rbf', 20, 11)), (0.6558851698496511, (55, 'rbf', 30, 3)), (0.6558851698496511, (55, 'rbf', 30, 5)), (0.6558851698496511, (55, 'rbf', 30, 7)), (0.6558851698496511, (55, 'rbf', 30, 11)), (0.6647333160312147, (55, 'rbf', 40, 3)), (0.6647333160312147, (55, 'rbf', 40, 5)), (0.6647333160312147, (55, 'rbf', 40, 7)), (0.6647333160312147, (55, 'rbf', 40, 11)), (0.6288725764724508, (60, 'knn', 1, 3)), (0.6215067861722157, (60, 'knn', 1, 5)), (0.6041758632074359, (60, 'knn', 1, 7)), (0.5866027979463361, (60, 'knn', 1, 11)), (0.6288725764724508, (60, 'knn', 10, 3)), (0.6215067861722157, (60, 'knn', 10, 5)), (0.6041758632074359, (60, 'knn', 10, 7)), (0.5866027979463361, (60, 'knn', 10, 11)), (0.6288725764724508, (60, 'knn', 20, 3)), (0.6215067861722157, (60, 'knn', 20, 5)), (0.6041758632074359, (60, 'knn', 20, 7)), (0.5866027979463361, (60, 'knn', 20, 11)), (0.6288725764724508, (60, 'knn', 30, 3)), (0.6215067861722157, (60, 'knn', 30, 5)), (0.6041758632074359, (60, 'knn', 30, 7)), (0.5866027979463361, (60, 'knn', 30, 11)), (0.6288725764724508, (60, 'knn', 40, 3)), (0.6215067861722157, (60, 'knn', 40, 5)), (0.6041758632074359, (60, 'knn', 40, 7)), (0.5866027979463361, (60, 'knn', 40, 11)), (0.06371850865820872, (60, 'rbf', 1, 3)), (0.06371850865820872, (60, 'rbf', 1, 5)), (0.06371850865820872, (60, 'rbf', 1, 7)), (0.06371850865820872, (60, 'rbf', 1, 11)), (0.5531457595229761, (60, 'rbf', 10, 3)), (0.5531457595229761, (60, 'rbf', 10, 5)), (0.5531457595229761, (60, 'rbf', 10, 7)), (0.5531457595229761, (60, 'rbf', 10, 11)), (0.6236365501766536, (60, 'rbf', 20, 3)), (0.6236365501766536, (60, 'rbf', 20, 5)), (0.6236365501766536, (60, 'rbf', 20, 7)), (0.6236365501766536, (60, 'rbf', 20, 11)), (0.6558851698496511, (60, 'rbf', 30, 3)), (0.6558851698496511, (60, 'rbf', 30, 5)), (0.6558851698496511, (60, 'rbf', 30, 7)), (0.6558851698496511, (60, 'rbf', 30, 11)), (0.6647333160312147, (60, 'rbf', 40, 3)), (0.6647333160312147, (60, 'rbf', 40, 5)), (0.6647333160312147, (60, 'rbf', 40, 7)), (0.6647333160312147, (60, 'rbf', 40, 11)), (0.6288725764724508, (65, 'knn', 1, 3)), (0.6215067861722157, (65, 'knn', 1, 5)), (0.6041758632074359, (65, 'knn', 1, 7)), (0.5866027979463361, (65, 'knn', 1, 11)), (0.6288725764724508, (65, 'knn', 10, 3)), (0.6215067861722157, (65, 'knn', 10, 5)), (0.6041758632074359, (65, 'knn', 10, 7)), (0.5866027979463361, (65, 'knn', 10, 11)), (0.6288725764724508, (65, 'knn', 20, 3)), (0.6215067861722157, (65, 'knn', 20, 5)), (0.6041758632074359, (65, 'knn', 20, 7)), (0.5866027979463361, (65, 'knn', 20, 11)), (0.6288725764724508, (65, 'knn', 30, 3)), (0.6215067861722157, (65, 'knn', 30, 5)), (0.6041758632074359, (65, 'knn', 30, 7)), (0.5866027979463361, (65, 'knn', 30, 11)), (0.6288725764724508, (65, 'knn', 40, 3)), (0.6215067861722157, (65, 'knn', 40, 5)), (0.6041758632074359, (65, 'knn', 40, 7)), (0.5866027979463361, (65, 'knn', 40, 11)), (0.06371850865820872, (65, 'rbf', 1, 3)), (0.06371850865820872, (65, 'rbf', 1, 5)), (0.06371850865820872, (65, 'rbf', 1, 7)), (0.06371850865820872, (65, 'rbf', 1, 11)), (0.5531457595229761, (65, 'rbf', 10, 3)), (0.5531457595229761, (65, 'rbf', 10, 5)), (0.5531457595229761, (65, 'rbf', 10, 7)), (0.5531457595229761, (65, 'rbf', 10, 11)), (0.6236365501766536, (65, 'rbf', 20, 3)), (0.6236365501766536, (65, 'rbf', 20, 5)), (0.6236365501766536, (65, 'rbf', 20, 7)), (0.6236365501766536, (65, 'rbf', 20, 11)), (0.6558851698496511, (65, 'rbf', 30, 3)), (0.6558851698496511, (65, 'rbf', 30, 5)), (0.6558851698496511, (65, 'rbf', 30, 7)), (0.6558851698496511, (65, 'rbf', 30, 11)), (0.6647333160312147, (65, 'rbf', 40, 3)), (0.6647333160312147, (65, 'rbf', 40, 5)), (0.6647333160312147, (65, 'rbf', 40, 7)), (0.6647333160312147, (65, 'rbf', 40, 11)), (0.6288725764724508, (70, 'knn', 1, 3)), (0.6215067861722157, (70, 'knn', 1, 5)), (0.6041758632074359, (70, 'knn', 1, 7)), (0.5866027979463361, (70, 'knn', 1, 11)), (0.6288725764724508, (70, 'knn', 10, 3)), (0.6215067861722157, (70, 'knn', 10, 5)), (0.6041758632074359, (70, 'knn', 10, 7)), (0.5866027979463361, (70, 'knn', 10, 11)), (0.6288725764724508, (70, 'knn', 20, 3)), (0.6215067861722157, (70, 'knn', 20, 5)), (0.6041758632074359, (70, 'knn', 20, 7)), (0.5866027979463361, (70, 'knn', 20, 11)), (0.6288725764724508, (70, 'knn', 30, 3)), (0.6215067861722157, (70, 'knn', 30, 5)), (0.6041758632074359, (70, 'knn', 30, 7)), (0.5866027979463361, (70, 'knn', 30, 11)), (0.6288725764724508, (70, 'knn', 40, 3)), (0.6215067861722157, (70, 'knn', 40, 5)), (0.6041758632074359, (70, 'knn', 40, 7)), (0.5866027979463361, (70, 'knn', 40, 11)), (0.06371850865820872, (70, 'rbf', 1, 3)), (0.06371850865820872, (70, 'rbf', 1, 5)), (0.06371850865820872, (70, 'rbf', 1, 7)), (0.06371850865820872, (70, 'rbf', 1, 11)), (0.5531457595229761, (70, 'rbf', 10, 3)), (0.5531457595229761, (70, 'rbf', 10, 5)), (0.5531457595229761, (70, 'rbf', 10, 7)), (0.5531457595229761, (70, 'rbf', 10, 11)), (0.6236365501766536, (70, 'rbf', 20, 3)), (0.6236365501766536, (70, 'rbf', 20, 5)), (0.6236365501766536, (70, 'rbf', 20, 7)), (0.6236365501766536, (70, 'rbf', 20, 11)), (0.6558851698496511, (70, 'rbf', 30, 3)), (0.6558851698496511, (70, 'rbf', 30, 5)), (0.6558851698496511, (70, 'rbf', 30, 7)), (0.6558851698496511, (70, 'rbf', 30, 11)), (0.6647333160312147, (70, 'rbf', 40, 3)), (0.6647333160312147, (70, 'rbf', 40, 5)), (0.6647333160312147, (70, 'rbf', 40, 7)), (0.6647333160312147, (70, 'rbf', 40, 11)), (0.6288725764724508, (75, 'knn', 1, 3)), (0.6215067861722157, (75, 'knn', 1, 5)), (0.6041758632074359, (75, 'knn', 1, 7)), (0.5866027979463361, (75, 'knn', 1, 11)), (0.6288725764724508, (75, 'knn', 10, 3)), (0.6215067861722157, (75, 'knn', 10, 5)), (0.6041758632074359, (75, 'knn', 10, 7)), (0.5866027979463361, (75, 'knn', 10, 11)), (0.6288725764724508, (75, 'knn', 20, 3)), (0.6215067861722157, (75, 'knn', 20, 5)), (0.6041758632074359, (75, 'knn', 20, 7)), (0.5866027979463361, (75, 'knn', 20, 11)), (0.6288725764724508, (75, 'knn', 30, 3)), (0.6215067861722157, (75, 'knn', 30, 5)), (0.6041758632074359, (75, 'knn', 30, 7)), (0.5866027979463361, (75, 'knn', 30, 11)), (0.6288725764724508, (75, 'knn', 40, 3)), (0.6215067861722157, (75, 'knn', 40, 5)), (0.6041758632074359, (75, 'knn', 40, 7)), (0.5866027979463361, (75, 'knn', 40, 11)), (0.06371850865820872, (75, 'rbf', 1, 3)), (0.06371850865820872, (75, 'rbf', 1, 5)), (0.06371850865820872, (75, 'rbf', 1, 7)), (0.06371850865820872, (75, 'rbf', 1, 11)), (0.5531457595229761, (75, 'rbf', 10, 3)), (0.5531457595229761, (75, 'rbf', 10, 5)), (0.5531457595229761, (75, 'rbf', 10, 7)), (0.5531457595229761, (75, 'rbf', 10, 11)), (0.6236365501766536, (75, 'rbf', 20, 3)), (0.6236365501766536, (75, 'rbf', 20, 5)), (0.6236365501766536, (75, 'rbf', 20, 7)), (0.6236365501766536, (75, 'rbf', 20, 11)), (0.6558851698496511, (75, 'rbf', 30, 3)), (0.6558851698496511, (75, 'rbf', 30, 5)), (0.6558851698496511, (75, 'rbf', 30, 7)), (0.6558851698496511, (75, 'rbf', 30, 11)), (0.6647333160312147, (75, 'rbf', 40, 3)), (0.6647333160312147, (75, 'rbf', 40, 5)), (0.6647333160312147, (75, 'rbf', 40, 7)), (0.6647333160312147, (75, 'rbf', 40, 11)), (0.6288725764724508, (80, 'knn', 1, 3)), (0.6215067861722157, (80, 'knn', 1, 5)), (0.6041758632074359, (80, 'knn', 1, 7)), (0.5866027979463361, (80, 'knn', 1, 11)), (0.6288725764724508, (80, 'knn', 10, 3)), (0.6215067861722157, (80, 'knn', 10, 5)), (0.6041758632074359, (80, 'knn', 10, 7)), (0.5866027979463361, (80, 'knn', 10, 11)), (0.6288725764724508, (80, 'knn', 20, 3)), (0.6215067861722157, (80, 'knn', 20, 5)), (0.6041758632074359, (80, 'knn', 20, 7)), (0.5866027979463361, (80, 'knn', 20, 11)), (0.6288725764724508, (80, 'knn', 30, 3)), (0.6215067861722157, (80, 'knn', 30, 5)), (0.6041758632074359, (80, 'knn', 30, 7)), (0.5866027979463361, (80, 'knn', 30, 11)), (0.6288725764724508, (80, 'knn', 40, 3)), (0.6215067861722157, (80, 'knn', 40, 5)), (0.6041758632074359, (80, 'knn', 40, 7)), (0.5866027979463361, (80, 'knn', 40, 11)), (0.06371850865820872, (80, 'rbf', 1, 3)), (0.06371850865820872, (80, 'rbf', 1, 5)), (0.06371850865820872, (80, 'rbf', 1, 7)), (0.06371850865820872, (80, 'rbf', 1, 11)), (0.5531457595229761, (80, 'rbf', 10, 3)), (0.5531457595229761, (80, 'rbf', 10, 5)), (0.5531457595229761, (80, 'rbf', 10, 7)), (0.5531457595229761, (80, 'rbf', 10, 11)), (0.6236365501766536, (80, 'rbf', 20, 3)), (0.6236365501766536, (80, 'rbf', 20, 5)), (0.6236365501766536, (80, 'rbf', 20, 7)), (0.6236365501766536, (80, 'rbf', 20, 11)), (0.6558851698496511, (80, 'rbf', 30, 3)), (0.6558851698496511, (80, 'rbf', 30, 5)), (0.6558851698496511, (80, 'rbf', 30, 7)), (0.6558851698496511, (80, 'rbf', 30, 11)), (0.6647333160312147, (80, 'rbf', 40, 3)), (0.6647333160312147, (80, 'rbf', 40, 5)), (0.6647333160312147, (80, 'rbf', 40, 7)), (0.6647333160312147, (80, 'rbf', 40, 11)), (0.6288725764724508, (85, 'knn', 1, 3)), (0.6215067861722157, (85, 'knn', 1, 5)), (0.6041758632074359, (85, 'knn', 1, 7)), (0.5866027979463361, (85, 'knn', 1, 11)), (0.6288725764724508, (85, 'knn', 10, 3)), (0.6215067861722157, (85, 'knn', 10, 5)), (0.6041758632074359, (85, 'knn', 10, 7)), (0.5866027979463361, (85, 'knn', 10, 11)), (0.6288725764724508, (85, 'knn', 20, 3)), (0.6215067861722157, (85, 'knn', 20, 5)), (0.6041758632074359, (85, 'knn', 20, 7)), (0.5866027979463361, (85, 'knn', 20, 11)), (0.6288725764724508, (85, 'knn', 30, 3)), (0.6215067861722157, (85, 'knn', 30, 5)), (0.6041758632074359, (85, 'knn', 30, 7)), (0.5866027979463361, (85, 'knn', 30, 11)), (0.6288725764724508, (85, 'knn', 40, 3)), (0.6215067861722157, (85, 'knn', 40, 5)), (0.6041758632074359, (85, 'knn', 40, 7)), (0.5866027979463361, (85, 'knn', 40, 11)), (0.06371850865820872, (85, 'rbf', 1, 3)), (0.06371850865820872, (85, 'rbf', 1, 5)), (0.06371850865820872, (85, 'rbf', 1, 7)), (0.06371850865820872, (85, 'rbf', 1, 11)), (0.5531457595229761, (85, 'rbf', 10, 3)), (0.5531457595229761, (85, 'rbf', 10, 5)), (0.5531457595229761, (85, 'rbf', 10, 7)), (0.5531457595229761, (85, 'rbf', 10, 11)), (0.6236365501766536, (85, 'rbf', 20, 3)), (0.6236365501766536, (85, 'rbf', 20, 5)), (0.6236365501766536, (85, 'rbf', 20, 7)), (0.6236365501766536, (85, 'rbf', 20, 11)), (0.6558851698496511, (85, 'rbf', 30, 3)), (0.6558851698496511, (85, 'rbf', 30, 5)), (0.6558851698496511, (85, 'rbf', 30, 7)), (0.6558851698496511, (85, 'rbf', 30, 11)), (0.6647333160312147, (85, 'rbf', 40, 3)), (0.6647333160312147, (85, 'rbf', 40, 5)), (0.6647333160312147, (85, 'rbf', 40, 7)), (0.6647333160312147, (85, 'rbf', 40, 11)), (0.6288725764724508, (90, 'knn', 1, 3)), (0.6215067861722157, (90, 'knn', 1, 5)), (0.6041758632074359, (90, 'knn', 1, 7)), (0.5866027979463361, (90, 'knn', 1, 11)), (0.6288725764724508, (90, 'knn', 10, 3)), (0.6215067861722157, (90, 'knn', 10, 5)), (0.6041758632074359, (90, 'knn', 10, 7)), (0.5866027979463361, (90, 'knn', 10, 11)), (0.6288725764724508, (90, 'knn', 20, 3)), (0.6215067861722157, (90, 'knn', 20, 5)), (0.6041758632074359, (90, 'knn', 20, 7)), (0.5866027979463361, (90, 'knn', 20, 11)), (0.6288725764724508, (90, 'knn', 30, 3)), (0.6215067861722157, (90, 'knn', 30, 5)), (0.6041758632074359, (90, 'knn', 30, 7)), (0.5866027979463361, (90, 'knn', 30, 11)), (0.6288725764724508, (90, 'knn', 40, 3)), (0.6215067861722157, (90, 'knn', 40, 5)), (0.6041758632074359, (90, 'knn', 40, 7)), (0.5866027979463361, (90, 'knn', 40, 11)), (0.06371850865820872, (90, 'rbf', 1, 3)), (0.06371850865820872, (90, 'rbf', 1, 5)), (0.06371850865820872, (90, 'rbf', 1, 7)), (0.06371850865820872, (90, 'rbf', 1, 11)), (0.5531457595229761, (90, 'rbf', 10, 3)), (0.5531457595229761, (90, 'rbf', 10, 5)), (0.5531457595229761, (90, 'rbf', 10, 7)), (0.5531457595229761, (90, 'rbf', 10, 11)), (0.6236365501766536, (90, 'rbf', 20, 3)), (0.6236365501766536, (90, 'rbf', 20, 5)), (0.6236365501766536, (90, 'rbf', 20, 7)), (0.6236365501766536, (90, 'rbf', 20, 11)), (0.6558851698496511, (90, 'rbf', 30, 3)), (0.6558851698496511, (90, 'rbf', 30, 5)), (0.6558851698496511, (90, 'rbf', 30, 7)), (0.6558851698496511, (90, 'rbf', 30, 11)), (0.6647333160312147, (90, 'rbf', 40, 3)), (0.6647333160312147, (90, 'rbf', 40, 5)), (0.6647333160312147, (90, 'rbf', 40, 7)), (0.6647333160312147, (90, 'rbf', 40, 11)), (0.6288725764724508, (95, 'knn', 1, 3)), (0.6215067861722157, (95, 'knn', 1, 5)), (0.6041758632074359, (95, 'knn', 1, 7)), (0.5866027979463361, (95, 'knn', 1, 11)), (0.6288725764724508, (95, 'knn', 10, 3)), (0.6215067861722157, (95, 'knn', 10, 5)), (0.6041758632074359, (95, 'knn', 10, 7)), (0.5866027979463361, (95, 'knn', 10, 11)), (0.6288725764724508, (95, 'knn', 20, 3)), (0.6215067861722157, (95, 'knn', 20, 5)), (0.6041758632074359, (95, 'knn', 20, 7)), (0.5866027979463361, (95, 'knn', 20, 11)), (0.6288725764724508, (95, 'knn', 30, 3)), (0.6215067861722157, (95, 'knn', 30, 5)), (0.6041758632074359, (95, 'knn', 30, 7)), (0.5866027979463361, (95, 'knn', 30, 11)), (0.6288725764724508, (95, 'knn', 40, 3)), (0.6215067861722157, (95, 'knn', 40, 5)), (0.6041758632074359, (95, 'knn', 40, 7)), (0.5866027979463361, (95, 'knn', 40, 11)), (0.06371850865820872, (95, 'rbf', 1, 3)), (0.06371850865820872, (95, 'rbf', 1, 5)), (0.06371850865820872, (95, 'rbf', 1, 7)), (0.06371850865820872, (95, 'rbf', 1, 11)), (0.5531457595229761, (95, 'rbf', 10, 3)), (0.5531457595229761, (95, 'rbf', 10, 5)), (0.5531457595229761, (95, 'rbf', 10, 7)), (0.5531457595229761, (95, 'rbf', 10, 11)), (0.6236365501766536, (95, 'rbf', 20, 3)), (0.6236365501766536, (95, 'rbf', 20, 5)), (0.6236365501766536, (95, 'rbf', 20, 7)), (0.6236365501766536, (95, 'rbf', 20, 11)), (0.6558851698496511, (95, 'rbf', 30, 3)), (0.6558851698496511, (95, 'rbf', 30, 5)), (0.6558851698496511, (95, 'rbf', 30, 7)), (0.6558851698496511, (95, 'rbf', 30, 11)), (0.6647333160312147, (95, 'rbf', 40, 3)), (0.6647333160312147, (95, 'rbf', 40, 5)), (0.6647333160312147, (95, 'rbf', 40, 7)), (0.6647333160312147, (95, 'rbf', 40, 11))]\n"
     ]
    }
   ],
   "source": [
    "from ped4.tfidf import load_videos_with_tf_idf\n",
    "videos = load_videos_with_tf_idf()\n",
    "\n",
    "videos_not_nan = videos[y_hat_nans.notna()]\n",
    "y_not_nan = y_hat_nans[y_hat_nans.notna()]\n",
    "\n",
    "videos_only_nan = videos[y_hat_nans.isna()]\n",
    "\n",
    "parameters = {'k': np.arange(5, 100, 5), 'kernel': [\"knn\", \"rbf\"], 'gamma': [1, 10, 20, 30, 40],\n",
    "              'n_neighbors': [3, 5, 7, 11]}\n",
    "\n",
    "params = list(product(*parameters.values()))\n",
    "\n",
    "best_score = 0\n",
    "best_params = None\n",
    "scores = []\n",
    "\n",
    "k_splits = 10\n",
    "cv = StratifiedKFold(n_splits=k_splits)\n",
    "\n",
    "for p in tqdm(params):\n",
    "    k, kernel, g, n = p\n",
    "    select = SelectKBest(chi2, k=k)\n",
    "    select.fit(videos_not_nan, y_not_nan)\n",
    "    x = select.transform(videos_not_nan)\n",
    "    mean_score = 0\n",
    "    for i, (train, test) in enumerate(cv.split(x, y_not_nan)):\n",
    "        x_train = x_not_nan[train]\n",
    "        y_train = y_not_nan.to_numpy()[train]\n",
    "\n",
    "        x_test = x_not_nan[test]\n",
    "        y_test = y_not_nan.to_numpy()[test]\n",
    "\n",
    "        model = LabelSpreading(kernel=kernel, gamma=g, n_neighbors=n)\n",
    "        model.fit(x_train, y_train)\n",
    "        y = model.predict(x_test)\n",
    "\n",
    "        score = f1_score(y_test, y, average=\"macro\")\n",
    "        mean_score += score\n",
    "    mean_score /= k_splits\n",
    "    scores.append((mean_score, p))\n",
    "    if mean_score > best_score:\n",
    "        best_score = mean_score\n",
    "        best_params = p\n",
    "\n",
    "print(f\"Best params: {best_params}\")\n",
    "print(f\"BestScore: {best_score}\")\n",
    "print(f\"Scores: {scores}\")\n"
   ],
   "metadata": {
    "collapsed": false,
    "pycharm": {
     "name": "#%%\n"
    }
   }
  },
  {
   "cell_type": "markdown",
   "source": [
    "### Trenowanie modelu z TfIdf"
   ],
   "metadata": {
    "collapsed": false
   }
  },
  {
   "cell_type": "code",
   "execution_count": 252,
   "outputs": [
    {
     "name": "stdout",
     "output_type": "stream",
     "text": [
      "X not nan (2733, 5)\n",
      "X (8735, 5)\n",
      "classes: [ 1.  2. 10. 15. 17. 19. 20. 22. 23. 24. 25. 26. 27. 28. 29.]\n",
      "Accuracy: 0.3370349170005724\n",
      "F1: 0.23612985247206633\n",
      "Precision: 0.2888147085850843\n",
      "Recall: 0.25470750495958455\n",
      "Hat unique:[ 1  2 10 15 17 19 20 22 23 24 25 26 27 28 29]\n",
      "labeled unique: [10 17 19 24 25 27 28]\n",
      "y_hat_nans : [ 1.  2. 10. 15. 17. 19. 20. 22. 23. 24. 25. 26. 27. 28. 29.]\n",
      "ROC AUC Score OVR: 0.6448401341074496\n",
      "ROC AUC Score OVO: 0.6004271133434244\n"
     ]
    }
   ],
   "source": [
    "k, kernel, g, n = best_params\n",
    "\n",
    "select = SelectKBest(chi2, k=k)\n",
    "select.fit(videos_not_nan, y_not_nan)\n",
    "x_only_nan = select.transform(videos_only_nan)\n",
    "\n",
    "model = LabelSpreading(kernel=kernel, gamma=g, n_neighbors=n)\n",
    "model.fit(x_not_nan, y_not_nan)\n",
    "print(f\"classes: {model.classes_}\")\n",
    "y = model.predict(x_only_nan)\n",
    "show_stats_labels(y_only_nan, y)\n",
    "# show_stats(y_hat, y_hat_nans, y, True)"
   ],
   "metadata": {
    "collapsed": false,
    "pycharm": {
     "name": "#%%\n"
    }
   }
  }
 ],
 "metadata": {
  "kernelspec": {
   "name": "python385jvsc74a57bd0258d9c3fe2c2041f692db8763ec1691cd73586bc3236962ad99db3f9aaf4b0b7",
   "display_name": "Python 3.8.5 64-bit ('ml': virtualenvwrapper)"
  },
  "language_info": {
   "codemirror_mode": {
    "name": "ipython",
    "version": 2
   },
   "file_extension": ".py",
   "mimetype": "text/x-python",
   "name": "python",
   "nbconvert_exporter": "python",
   "pygments_lexer": "ipython2",
   "version": "3.8.5"
  },
  "metadata": {
   "interpreter": {
    "hash": "258d9c3fe2c2041f692db8763ec1691cd73586bc3236962ad99db3f9aaf4b0b7"
   }
  }
 },
 "nbformat": 4,
 "nbformat_minor": 0
}