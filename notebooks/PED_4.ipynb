{
 "cells": [
  {
   "cell_type": "markdown",
   "source": [
    "# YouTube trending videos"
   ],
   "metadata": {
    "collapsed": false
   }
  },
  {
   "cell_type": "code",
   "execution_count": 49,
   "outputs": [],
   "source": [
    "from sklearn.model_selection import StratifiedKFold, KFold\n",
    "\n",
    "%matplotlib inline\n",
    "\n",
    "import warnings\n",
    "warnings.filterwarnings('ignore')\n",
    "\n",
    "# import sys\n",
    "#\n",
    "# sys.path.append('..')\n",
    "\n",
    "import matplotlib.pyplot as plt\n",
    "import numpy as np\n",
    "import pandas as pd\n",
    "from tqdm.notebook import tqdm\n",
    "from sklearn.cluster import KMeans, DBSCAN, AgglomerativeClustering\n",
    "from sklearn.feature_selection import chi2, SelectKBest\n",
    "from sklearn.metrics import accuracy_score, f1_score, precision_score, silhouette_score, roc_auc_score, recall_score\n",
    "from sklearn.preprocessing import MinMaxScaler, OneHotEncoder\n",
    "from sklearn.neighbors import NearestNeighbors\n",
    "from sklearn.semi_supervised import LabelSpreading\n",
    "\n",
    "from helpers.categories import get_categories_dict\n",
    "from helpers.files import load_csv"
   ],
   "metadata": {
    "collapsed": false,
    "pycharm": {
     "name": "#%%\n"
    }
   }
  },
  {
   "cell_type": "markdown",
   "source": [
    "## Etap 4 - Wykorzystanie uczenia pół-nadzorowanego\n"
   ],
   "metadata": {
    "collapsed": false
   }
  },
  {
   "cell_type": "markdown",
   "source": [
    "Deklaracja potrzebnych funkcji"
   ],
   "metadata": {
    "collapsed": false,
    "pycharm": {
     "name": "#%% md\n"
    }
   }
  },
  {
   "cell_type": "code",
   "execution_count": 50,
   "outputs": [],
   "source": [
    "def show_stats(y_hat, y_hat_nans, y, mapped: bool = False):\n",
    "    if not mapped:\n",
    "        mapping_dict = get_mapping_dict(y_hat_nans, y)\n",
    "        print(mapping_dict)\n",
    "        y_mapped = pd.Series(y).apply(lambda x: mapping_dict[x])\n",
    "    else:\n",
    "        y_mapped = pd.Series(y.astype(np.int))\n",
    "        y_hat = y_hat.astype(np.int)\n",
    "    print(f\"Accuracy: {accuracy_score(y_hat, y_mapped)}\")\n",
    "    print(f\"F1: {f1_score(y_hat, y_mapped, average='macro')}\")\n",
    "    print(f\"Precision: {precision_score(y_hat, y_mapped, average='macro')}\")\n",
    "    print(f\"Recall: {recall_score(y_hat, y_mapped, average='macro')}\")\n",
    "    print(f\"Hat unique:{np.unique(y_hat.to_numpy())}\")\n",
    "    print(f\"labeled unique: {np.unique(y_mapped.to_numpy())}\")\n",
    "    print(f\"y_hat_nans : {np.unique(y_hat_nans[y_hat_nans.notna()].to_numpy())}\")\n",
    "    y_hat = y_hat.to_numpy().reshape(-1, 1)\n",
    "    y_mapped = y_mapped.to_numpy().reshape(-1, 1)\n",
    "    encoder = OneHotEncoder(sparse=False)\n",
    "    one_hot_hat = encoder.fit_transform(y_hat)\n",
    "    y_hot = encoder.transform(y_mapped)\n",
    "    print(f\"ROC AUC Score OVR: {roc_auc_score(one_hot_hat, y_hot, multi_class='ovr')}\")\n",
    "    print(f\"ROC AUC Score OVO: {roc_auc_score(one_hot_hat, y_hot, multi_class='ovo')}\")"
   ],
   "metadata": {
    "collapsed": false,
    "pycharm": {
     "name": "#%%\n"
    }
   }
  },
  {
   "cell_type": "markdown",
   "source": [
    "### Wyczytanie danych"
   ],
   "metadata": {
    "collapsed": false,
    "pycharm": {
     "name": "#%% md\n"
    }
   }
  },
  {
   "cell_type": "code",
   "execution_count": 51,
   "outputs": [],
   "source": [
    "gb_data, us_data = load_csv(\"clustering_data\")\n",
    "\n",
    "videos = pd.concat([gb_data, us_data])\n",
    "# inconsistency in data\n",
    "videos[\"category_id\"] = videos[\"category_id\"].replace(43.0, 24.0)\n",
    "\n",
    "categories_ids = videos[\"new_category_id\"].dropna().unique().tolist()"
   ],
   "metadata": {
    "collapsed": false,
    "pycharm": {
     "name": "#%%\n"
    }
   }
  },
  {
   "cell_type": "markdown",
   "source": [
    "### Wczytanie nazw kategorii"
   ],
   "metadata": {
    "collapsed": false,
    "pycharm": {
     "name": "#%% md\n"
    }
   }
  },
  {
   "cell_type": "code",
   "execution_count": 52,
   "outputs": [],
   "source": [
    "categories_dict = get_categories_dict()\n",
    "categories = [categories_dict[cat] for cat in categories_ids]"
   ],
   "metadata": {
    "collapsed": false,
    "pycharm": {
     "name": "#%%\n"
    }
   }
  },
  {
   "cell_type": "markdown",
   "source": [
    "## Usunięcie danych tekstowych"
   ],
   "metadata": {
    "collapsed": false,
    "pycharm": {
     "name": "#%% md\n"
    }
   }
  },
  {
   "cell_type": "code",
   "execution_count": 53,
   "outputs": [],
   "source": [
    "not_nan_bool = videos[\"new_category_id\"].notna().reset_index(drop=True)\n",
    "\n",
    "videos = videos[videos[\"new_category_id\"].notna()]\n",
    "videos = videos.reset_index(drop=True)\n",
    "y_hat = videos[\"new_category_id\"]  # oczekiwane kategorie z api\n",
    "y_hat_nans = videos[\"category_id\"]  # oczekiwane kategorie z nanami (z oryginalnego zbioru)\n",
    "videos_no_nan_categories = videos[videos[\"category_id\"].notna()]\n",
    "selected_columns = [\n",
    "    \"views\", \"likes\", \"dislikes\", \"comment_count\", \"description_len\", \"title_len\", \"channel_title_len\",\n",
    "    \"publish_time_day_of_week\", \"publish_time_hour_of_day\",\n",
    "    \"gray_mean_score\", \"color_mean_score\", \"gray_hist_score\",\n",
    "    \"red_hist_score\", \"green_hist_score\", \"blue_hist_score\", \"edges_score\", \"entropy_score\",\n",
    "]\n",
    "\n",
    "for cat in categories_ids:\n",
    "    selected_columns.append(f\"freq_channel_titles_{categories_dict[cat]}\")\n",
    "    selected_columns.append(f\"freq_titles_{categories_dict[cat]}\")\n",
    "    selected_columns.append(f\"freq_tags_{categories_dict[cat]}\")\n",
    "    selected_columns.append(f\"freq_descriptions_{categories_dict[cat]}\")\n",
    "\n",
    "videos = videos[selected_columns]\n",
    "# videos = videos.fillna(videos.mean())"
   ],
   "metadata": {
    "collapsed": false,
    "pycharm": {
     "name": "#%%\n"
    }
   }
  },
  {
   "cell_type": "markdown",
   "source": [
    "### Uzupełnienie wartości pustych wartościami średnimi\n"
   ],
   "metadata": {
    "collapsed": false,
    "pycharm": {
     "name": "#%% md\n"
    }
   }
  },
  {
   "cell_type": "code",
   "execution_count": 54,
   "outputs": [],
   "source": [
    "videos = videos.fillna(videos.mean())"
   ],
   "metadata": {
    "collapsed": false,
    "pycharm": {
     "name": "#%%\n"
    }
   }
  },
  {
   "cell_type": "markdown",
   "source": [
    "### Skalowanie danych"
   ],
   "metadata": {
    "collapsed": false,
    "pycharm": {
     "name": "#%% md\n"
    }
   }
  },
  {
   "cell_type": "code",
   "execution_count": 55,
   "outputs": [],
   "source": [
    "scaler = MinMaxScaler()\n",
    "videos = scaler.fit_transform(videos)"
   ],
   "metadata": {
    "collapsed": false,
    "pycharm": {
     "name": "#%%\n"
    }
   }
  },
  {
   "cell_type": "markdown",
   "source": [
    "### Przygotowanie zbioru z oznaczonymi kategoriami"
   ],
   "metadata": {
    "collapsed": false,
    "pycharm": {
     "name": "#%% md\n"
    }
   }
  },
  {
   "cell_type": "code",
   "execution_count": 56,
   "outputs": [],
   "source": [
    "x_not_nan = videos[y_hat_nans.notna()]\n",
    "y_not_nan = y_hat_nans[y_hat_nans.notna()]\n",
    "\n",
    "x_only_nan = videos[y_hat_nans.isna()]"
   ],
   "metadata": {
    "collapsed": false,
    "pycharm": {
     "name": "#%%\n"
    }
   }
  },
  {
   "cell_type": "markdown",
   "source": [
    "### K-means\n",
    "\n",
    "Dobre acc (przypisuje wszyskim jedną klasę ale słaba reszta metryk)\n",
    "można zastosować bo znamy liczbę klas, do których będziemy przypisywać."
   ],
   "metadata": {
    "collapsed": false,
    "pycharm": {
     "name": "#%% md\n"
    }
   }
  },
  {
   "cell_type": "code",
   "execution_count": 57,
   "metadata": {},
   "outputs": [],
   "source": [
    "def get_mapping_dict(y_hat_nans, y_pred) -> dict:\n",
    "    values_counts = y_hat_nans.value_counts().reset_index(name=\"count\")\n",
    "    # print(values_counts)\n",
    "    # print(f\"Index: {values_counts.index}\")\n",
    "    most_frequent_class = values_counts[\"index\"].iloc[0]\n",
    "    # print(most_frequent_class)\n",
    "    mapping_dict = {}\n",
    "    y_data = pd.DataFrame()\n",
    "    y_data[\"y_hat_nans\"] = y_hat_nans\n",
    "    y_data[\"y\"] = y_pred\n",
    "    y_data[\"c\"] = 1\n",
    "    y_data = y_data.groupby([\"y\", \"y_hat_nans\"])[\"c\"].sum()  #.max(level=[0])#.sort_values().groupby(level=0)\n",
    "    # print(y_data)\n",
    "    out = y_data.loc[y_data.groupby(level=0).idxmax()]\n",
    "    # print(out)\n",
    "    for row in out.index:\n",
    "        mapping_dict[row[0]] = row[1]\n",
    "    for i in range(np.unique(y_pred).shape[0]):\n",
    "        if i not in mapping_dict.keys():\n",
    "            mapping_dict[i] = most_frequent_class\n",
    "    return mapping_dict"
   ]
  },
  {
   "cell_type": "code",
   "execution_count": 58,
   "outputs": [
    {
     "name": "stdout",
     "output_type": "stream",
     "text": [
      "(8735, 40)\n"
     ]
    },
    {
     "data": {
      "text/plain": "<Figure size 432x288 with 1 Axes>",
      "image/png": "[encoded data removed]"
     },
     "metadata": {
      "needs_background": "light"
     },
     "output_type": "display_data"
    },
    {
     "name": "stdout",
     "output_type": "stream",
     "text": [
      "Cat len: 15\n",
      "[ 8  7 10 ...  8  1  8]\n",
      "{0: 28.0, 1: 24.0, 2: 23.0, 3: 17.0, 4: 24.0, 5: 25.0, 6: 24.0, 7: 10.0, 8: 24.0, 9: 10.0, 10: 1.0, 11: 10.0, 12: 26.0, 13: 24.0, 14: 27.0}\n",
      "Accuracy: 0.4855180309101317\n",
      "F1: 0.3240924039004475\n",
      "Precision: 0.4437668293859653\n",
      "Recall: 0.3034898783434978\n",
      "Hat unique:[ 1.  2. 10. 15. 17. 19. 20. 22. 23. 24. 25. 26. 27. 28. 29.]\n",
      "labeled unique: [ 1. 10. 17. 23. 24. 25. 26. 27. 28.]\n",
      "y_hat_nans : [ 1.  2. 10. 15. 17. 19. 20. 22. 23. 24. 25. 26. 27. 28. 29.]\n",
      "ROC AUC Score OVR: 0.6296480318125242\n",
      "ROC AUC Score OVO: 0.6296480318125242\n"
     ]
    },
    {
     "data": {
      "text/plain": "<Figure size 432x288 with 1 Axes>",
      "image/png": "[encoded data removed]"
     },
     "metadata": {
      "needs_background": "light"
     },
     "output_type": "display_data"
    }
   ],
   "source": [
    "select = SelectKBest(chi2, k=40)\n",
    "select.fit(x_not_nan, y_not_nan)\n",
    "x_not_nan = select.transform(x_not_nan)\n",
    "x_only_nan = select.transform(x_only_nan)\n",
    "x = select.transform(videos)\n",
    "print(x.shape)\n",
    "\n",
    "k_list = np.arange(2, 20)\n",
    "inertias = np.zeros_like(k_list, dtype=np.float)\n",
    "silhouettes = np.zeros_like(k_list, dtype=np.float)\n",
    "for i, k in enumerate(k_list):\n",
    "    model = KMeans(k)\n",
    "    # model.fit(x)\n",
    "    labels = model.fit_predict(x)\n",
    "    inertias[i] = model.inertia_\n",
    "    silhouettes[i] = silhouette_score(x, labels)\n",
    "\n",
    "plt.plot(k_list, inertias)\n",
    "plt.title(\"Interias\")\n",
    "plt.show()\n",
    "plt.plot(k_list, silhouettes)\n",
    "plt.title(\"Silhouette\")\n",
    "print(f\"Cat len: {len(categories)}\")\n",
    "model = KMeans(len(categories))\n",
    "model.fit(x)\n",
    "y = model.predict(x)\n",
    "print(y)\n",
    "show_stats(y_hat, y_hat_nans, y)\n"
   ],
   "metadata": {
    "collapsed": false,
    "pycharm": {
     "name": "#%%\n"
    }
   }
  },
  {
   "source": [
    "Semi supervised Constrained KMeans (punkt 3.1 z https://arxiv.org/pdf/1806.01547v2.pdf)"
   ],
   "cell_type": "markdown",
   "metadata": {}
  },
  {
   "cell_type": "code",
   "execution_count": 59,
   "metadata": {},
   "outputs": [
    {
     "name": "stdout",
     "output_type": "stream",
     "text": [
      "[ 1.  2. 10. 15. 17. 19. 20. 22. 23. 24. 25. 26. 27. 28. 29.]\n",
      "['Entertainment', 'People & Blogs', 'Sports', 'Music', 'Howto & Style', 'Gaming', 'Film & Animation', 'News & Politics', 'Comedy', 'Travel & Events', 'Education', 'Pets & Animals', 'Science & Technology', 'Autos & Vehicles', 'Nonprofits & Activism']\n",
      "8735 8735\n"
     ]
    }
   ],
   "source": [
    "print(np.unique(y_not_nan))\n",
    "print(categories)\n",
    "# print(num_groups, len(categories))\n",
    "print(x_not_nan.shape[0] + x_only_nan.shape[0], videos.shape[0])"
   ]
  },
  {
   "cell_type": "code",
   "execution_count": 60,
   "metadata": {
    "tags": []
   },
   "outputs": [
    {
     "name": "stdout",
     "output_type": "stream",
     "text": [
      "(15, 40)\n"
     ]
    }
   ],
   "source": [
    "groups_index = np.unique(y_not_nan)\n",
    "groups_dict = {e: i for i, e in enumerate(groups_index)}\n",
    "num_groups = len(groups_index)\n",
    "\n",
    "# print(groups_dict)\n",
    "\n",
    "groups = [[] for _ in range(num_groups)]\n",
    "for xp, yp in zip(x_not_nan, y_not_nan):\n",
    "    groups[groups_dict[yp]].append(xp)\n",
    "\n",
    "centroids = []\n",
    "for g in groups:\n",
    "    centroids.append(np.mean(g, axis=0))\n",
    "\n",
    "centroids = np.array(centroids)\n",
    "print(centroids.shape)\n"
   ]
  },
  {
   "cell_type": "code",
   "execution_count": 61,
   "metadata": {},
   "outputs": [
    {
     "name": "stdout",
     "output_type": "stream",
     "text": [
      "{0: 1.0, 1: 25.0, 2: 10.0, 3: 15.0, 4: 17.0, 5: 19.0, 6: 24.0, 7: 24.0, 8: 24.0, 9: 24.0, 10: 25.0, 11: 26.0, 12: 27.0, 13: 28.0, 14: 24.0}\n",
      "Accuracy: 0.47864911276473954\n",
      "F1: 0.37322360830004414\n",
      "Precision: 0.47051205030699156\n",
      "Recall: 0.34747331012132326\n",
      "Hat unique:[ 1.  2. 10. 15. 17. 19. 20. 22. 23. 24. 25. 26. 27. 28. 29.]\n",
      "labeled unique: [ 1. 10. 15. 17. 19. 24. 25. 26. 27. 28.]\n",
      "y_hat_nans : [ 1.  2. 10. 15. 17. 19. 20. 22. 23. 24. 25. 26. 27. 28. 29.]\n",
      "ROC AUC Score OVR: 0.6513020608308715\n",
      "ROC AUC Score OVO: 0.6513020608308715\n"
     ]
    }
   ],
   "source": [
    "new_centroids = centroids[:]\n",
    "\n",
    "for itr in range(100):\n",
    "    model = KMeans(n_clusters=num_groups, init=new_centroids, n_init=1, max_iter=1)\n",
    "    labels = model.fit_predict(x_only_nan)\n",
    "    new_groups = [[] for _ in range(num_groups)]\n",
    "    for i, l in enumerate(labels):\n",
    "        new_groups[l].append(x_only_nan[i])\n",
    "\n",
    "    new_centroids = []\n",
    "    for i, g in enumerate(new_groups):\n",
    "        g = g + groups[i]\n",
    "        new_centroids.append(np.mean(g, axis=0))\n",
    "    new_centroids = np.array(new_centroids)\n",
    "\n",
    "y = model.predict(select.transform(videos))\n",
    "show_stats(y_hat, y_hat_nans, y)\n",
    "\n",
    "\n"
   ]
  },
  {
   "cell_type": "markdown",
   "source": [
    "AHC - bo mamy zdefiniowaną liczbę grup?"
   ],
   "metadata": {
    "collapsed": false,
    "pycharm": {
     "name": "#%% md\n"
    }
   }
  },
  {
   "cell_type": "code",
   "execution_count": 62,
   "outputs": [
    {
     "name": "stdout",
     "output_type": "stream",
     "text": [
      "{0: 17.0, 1: 19.0, 2: 1.0, 3: 24.0, 4: 28.0, 5: 10.0, 6: 24.0, 7: 25.0, 8: 26.0, 9: 23.0, 10: 24.0, 11: 10.0, 12: 24.0, 13: 22.0, 14: 27.0}\n",
      "Accuracy: 0.5014310246136233\n",
      "F1: 0.3664973615791801\n",
      "Precision: 0.4915926505675612\n",
      "Recall: 0.36195280168134963\n",
      "Hat unique:[ 1.  2. 10. 15. 17. 19. 20. 22. 23. 24. 25. 26. 27. 28. 29.]\n",
      "labeled unique: [ 1. 10. 17. 19. 22. 23. 24. 25. 26. 27. 28.]\n",
      "y_hat_nans : [ 1.  2. 10. 15. 17. 19. 20. 22. 23. 24. 25. 26. 27. 28. 29.]\n",
      "ROC AUC Score OVR: 0.6600414165005629\n",
      "ROC AUC Score OVO: 0.6600414165005629\n"
     ]
    }
   ],
   "source": [
    "model = AgglomerativeClustering(len(categories), compute_full_tree=True)\n",
    "# model = DBSCAN(eps=0.6, min_samples=5)\n",
    "model.fit(x)\n",
    "y = model.labels_\n",
    "\n",
    "show_stats(y_hat, y_hat_nans, y)"
   ],
   "metadata": {
    "collapsed": false,
    "pycharm": {
     "name": "#%%\n"
    }
   }
  },
  {
   "cell_type": "markdown",
   "source": [
    "DBSCAN - bo mamy grupy różnej wielkości ?"
   ],
   "metadata": {
    "collapsed": false,
    "pycharm": {
     "name": "#%% md\n"
    }
   }
  },
  {
   "cell_type": "code",
   "execution_count": 63,
   "outputs": [
    {
     "name": "stdout",
     "output_type": "stream",
     "text": [
      "{-1: 24.0, 0: 24.0, 1: 17.0, 2: 10.0, 3: 10.0, 4: 10.0, 5: 10.0, 6: 10.0, 7: 24.0, 8: 24.0, 9: 26.0, 10: 10.0, 11: 24.0, 12: 22.0, 13: 22.0, 14: 22.0, 15: 24.0, 16: 24.0, 17: 24.0, 18: 24.0, 19: 10.0, 20: 24.0, 21: 23.0, 22: 27.0, 23: 24.0, 24: 24.0, 25: 24.0, 26: 26.0, 27: 24.0, 28: 17.0, 29: 24.0, 30: 10.0, 31: 24.0, 32: 25.0, 33: 10.0, 34: 22.0, 35: 10.0, 36: 17.0, 37: 10.0, 38: 25.0, 39: 26.0, 40: 10.0, 41: 10.0, 42: 10.0, 43: 10.0, 44: 1.0, 45: 22.0, 46: 27.0, 47: 10.0, 48: 10.0, 49: 26.0, 50: 10.0, 51: 10.0, 52: 10.0, 53: 10.0, 54: 1.0, 55: 22.0, 56: 24.0, 57: 24.0, 58: 28.0, 59: 19.0, 60: 24.0, 61: 24.0, 62: 10.0, 63: 26.0, 65: 10.0, 66: 24.0, 67: 10.0, 68: 10.0, 69: 1.0, 70: 10.0, 71: 17.0, 72: 17.0, 73: 10.0, 74: 24.0, 75: 20.0, 76: 25.0, 77: 23.0, 78: 23.0, 79: 23.0, 80: 10.0, 81: 10.0, 82: 10.0, 83: 10.0, 84: 23.0, 85: 17.0, 86: 24.0, 87: 10.0, 88: 22.0, 89: 15.0, 90: 24.0, 91: 24.0, 92: 24.0, 93: 1.0, 94: 24.0, 96: 10.0, 97: 10.0, 98: 23.0, 99: 10.0, 100: 24.0, 101: 24.0, 102: 25.0, 103: 26.0, 104: 24.0, 105: 26.0, 107: 10.0, 108: 25.0, 110: 25.0, 111: 17.0, 112: 23.0, 113: 24.0, 114: 10.0, 115: 22.0, 116: 25.0, 117: 23.0, 118: 24.0, 119: 10.0, 121: 24.0, 122: 1.0, 123: 10.0, 124: 20.0, 125: 17.0, 126: 24.0, 127: 17.0, 128: 10.0, 129: 10.0, 130: 20.0, 131: 24.0, 132: 10.0, 133: 17.0, 134: 25.0, 135: 22.0, 136: 28.0, 137: 24.0, 138: 10.0, 140: 25.0, 141: 10.0, 142: 24.0, 143: 24.0, 144: 17.0, 145: 17.0, 146: 10.0, 147: 20.0, 148: 25.0, 149: 24.0, 151: 28.0, 152: 10.0, 153: 22.0, 154: 10.0, 155: 10.0, 156: 24.0, 158: 17.0, 159: 10.0, 160: 23.0, 161: 17.0, 162: 10.0, 163: 24.0, 164: 28.0, 165: 10.0, 166: 24.0, 167: 23.0, 168: 2.0, 170: 1.0, 171: 17.0, 172: 26.0, 173: 23.0, 174: 24.0, 175: 24.0, 176: 1.0, 177: 20.0, 178: 10.0, 179: 24.0, 180: 17.0, 181: 23.0, 182: 27.0, 183: 10.0, 184: 22.0, 185: 22.0, 186: 24.0, 187: 1.0, 188: 26.0, 190: 22.0, 191: 22.0, 192: 10.0, 193: 24.0, 194: 28.0, 195: 25.0, 196: 26.0, 197: 27.0, 198: 22.0, 199: 17.0, 200: 28.0, 201: 27.0, 202: 25.0, 203: 24.0, 204: 27.0, 205: 22.0, 206: 25.0, 207: 24.0, 208: 17.0, 209: 23.0, 210: 24.0, 211: 25.0, 212: 17.0, 215: 17.0, 216: 26.0, 217: 27.0, 218: 1.0, 219: 27.0, 220: 23.0, 64: 10.0, 95: 10.0, 106: 10.0, 109: 10.0, 120: 10.0, 139: 10.0, 150: 10.0, 157: 10.0, 169: 10.0, 189: 10.0, 213: 10.0, 214: 10.0, 221: 10.0}\n",
      "Accuracy: 0.40526617057813397\n",
      "F1: 0.25328344383210694\n",
      "Precision: 0.5911271427550526\n",
      "Recall: 0.20872390383842276\n",
      "Hat unique:[ 1.  2. 10. 15. 17. 19. 20. 22. 23. 24. 25. 26. 27. 28. 29.]\n",
      "labeled unique: [ 1.  2. 10. 15. 17. 19. 20. 22. 23. 24. 25. 26. 27. 28.]\n",
      "y_hat_nans : [ 1.  2. 10. 15. 17. 19. 20. 22. 23. 24. 25. 26. 27. 28. 29.]\n",
      "ROC AUC Score OVR: 0.5785173872670596\n",
      "ROC AUC Score OVO: 0.5785173872670596\n"
     ]
    }
   ],
   "source": [
    "model = DBSCAN(eps=0.1, min_samples=5)\n",
    "model.fit(x)\n",
    "y = model.labels_\n",
    "show_stats(y_hat, y_hat_nans, y)"
   ],
   "metadata": {
    "collapsed": false,
    "pycharm": {
     "name": "#%%\n"
    }
   }
  },
  {
   "cell_type": "markdown",
   "source": [
    "### DBSCAN eps Tuning"
   ],
   "metadata": {
    "collapsed": false,
    "pycharm": {
     "name": "#%% md\n"
    }
   }
  },
  {
   "cell_type": "code",
   "execution_count": 64,
   "outputs": [
    {
     "data": {
      "text/plain": "<Figure size 432x288 with 1 Axes>",
      "image/png": "[encoded data removed]"
     },
     "metadata": {
      "needs_background": "light"
     },
     "output_type": "display_data"
    }
   ],
   "source": [
    "nn = NearestNeighbors(n_neighbors=11)\n",
    "neighbors = nn.fit(x)\n",
    "dist, ind = neighbors.kneighbors()\n",
    "\n",
    "dist = np.sort(dist[:, 10], axis=0)\n",
    "\n",
    "plt.plot(dist)\n",
    "plt.xlabel(\"Points\")\n",
    "plt.ylabel(\"Dist\")\n",
    "plt.show()"
   ],
   "metadata": {
    "collapsed": false,
    "pycharm": {
     "name": "#%%\n"
    }
   }
  },
  {
   "cell_type": "markdown",
   "source": [
    "### Label Spreading\n",
    "\n",
    "TODO add cross validation as in TFidf"
   ],
   "metadata": {
    "collapsed": false,
    "pycharm": {
     "name": "#%% md\n"
    }
   }
  },
  {
   "cell_type": "code",
   "execution_count": 65,
   "outputs": [
    {
     "data": {
      "text/plain": "HBox(children=(FloatProgress(value=0.0, max=40.0), HTML(value='')))",
      "application/vnd.jupyter.widget-view+json": {
       "version_major": 2,
       "version_minor": 0,
       "model_id": "06f8fee07a644048a7870055921feaa6"
      }
     },
     "metadata": {},
     "output_type": "display_data"
    },
    {
     "name": "stdout",
     "output_type": "stream",
     "text": [
      "\n",
      "Best params: ('rbf', 40, 3)\n",
      "BestScore: 0.8830199443538765\n",
      "Scores: [(0.8400775543252744, ('knn', 1, 3)), (0.8340430919364412, ('knn', 1, 5)), (0.8156418826453523, ('knn', 1, 7)), (0.7882884501447591, ('knn', 1, 11)), (0.8400775543252744, ('knn', 10, 3)), (0.8340430919364412, ('knn', 10, 5)), (0.8156418826453523, ('knn', 10, 7)), (0.7882884501447591, ('knn', 10, 11)), (0.8400775543252744, ('knn', 20, 3)), (0.8340430919364412, ('knn', 20, 5)), (0.8156418826453523, ('knn', 20, 7)), (0.7882884501447591, ('knn', 20, 11)), (0.8400775543252744, ('knn', 30, 3)), (0.8340430919364412, ('knn', 30, 5)), (0.8156418826453523, ('knn', 30, 7)), (0.7882884501447591, ('knn', 30, 11)), (0.8400775543252744, ('knn', 40, 3)), (0.8340430919364412, ('knn', 40, 5)), (0.8156418826453523, ('knn', 40, 7)), (0.7882884501447591, ('knn', 40, 11)), (0.5230161912359381, ('rbf', 1, 3)), (0.5230161912359381, ('rbf', 1, 5)), (0.5230161912359381, ('rbf', 1, 7)), (0.5230161912359381, ('rbf', 1, 11)), (0.7620356638165514, ('rbf', 10, 3)), (0.7620356638165514, ('rbf', 10, 5)), (0.7620356638165514, ('rbf', 10, 7)), (0.7620356638165514, ('rbf', 10, 11)), (0.836336252682575, ('rbf', 20, 3)), (0.836336252682575, ('rbf', 20, 5)), (0.836336252682575, ('rbf', 20, 7)), (0.836336252682575, ('rbf', 20, 11)), (0.865476978240124, ('rbf', 30, 3)), (0.865476978240124, ('rbf', 30, 5)), (0.865476978240124, ('rbf', 30, 7)), (0.865476978240124, ('rbf', 30, 11)), (0.8830199443538765, ('rbf', 40, 3)), (0.8830199443538765, ('rbf', 40, 5)), (0.8830199443538765, ('rbf', 40, 7)), (0.8830199443538765, ('rbf', 40, 11))]\n"
     ]
    }
   ],
   "source": [
    "parameters = {'kernel': [\"knn\", \"rbf\"], 'gamma': [1, 10, 20, 30, 40], 'n_neighbors': [3, 5, 7, 11]}\n",
    "\n",
    "best_auc = 0\n",
    "best_params = None\n",
    "scores = []\n",
    "\n",
    "params = []\n",
    "for k in parameters['kernel']:\n",
    "    for g in parameters['gamma']:\n",
    "        for n in parameters['n_neighbors']:\n",
    "            params.append((k, g, n))\n",
    "for p in tqdm(params):\n",
    "    k, g, n = p\n",
    "    model = LabelSpreading(kernel=k, gamma=g, n_neighbors=n)\n",
    "    model.fit(x_not_nan, y_not_nan)\n",
    "    y = model.predict(x_not_nan)\n",
    "    y_mapped = y.reshape(-1, 1)\n",
    "    encoder = OneHotEncoder(sparse=False)\n",
    "    one_hot_hat = encoder.fit_transform(y_not_nan.to_numpy().reshape(-1, 1))\n",
    "    y_hot = encoder.transform(y_mapped)\n",
    "    score = roc_auc_score(one_hot_hat, y_hot, multi_class='ovr')\n",
    "    scores.append((score, p))\n",
    "    if score > best_auc:\n",
    "        best_auc = score\n",
    "        best_params = p\n",
    "\n",
    "print(f\"Best params: {best_params}\")\n",
    "print(f\"BestScore: {best_auc}\")\n",
    "print(f\"Scores: {scores}\")\n"
   ],
   "metadata": {
    "collapsed": false,
    "pycharm": {
     "name": "#%%\n"
    }
   }
  },
  {
   "cell_type": "markdown",
   "source": [
    "### Trenowanie ostatecznego modelu"
   ],
   "metadata": {
    "collapsed": false,
    "pycharm": {
     "name": "#%% md\n"
    }
   }
  },
  {
   "cell_type": "code",
   "execution_count": 66,
   "outputs": [
    {
     "name": "stdout",
     "output_type": "stream",
     "text": [
      "X not nan (2733, 40)\n",
      "X (8735, 40)\n",
      "classes: [ 1.  2. 10. 15. 17. 19. 20. 22. 23. 24. 25. 26. 27. 28. 29.]\n",
      "Accuracy: 0.687807670291929\n",
      "F1: 0.6338906510984497\n",
      "Precision: 0.8224637395762088\n",
      "Recall: 0.5561277705957823\n",
      "Hat unique:[ 1  2 10 15 17 19 20 22 23 24 25 26 27 28 29]\n",
      "labeled unique: [ 1  2 10 15 17 19 20 22 23 24 25 26 27 28 29]\n",
      "y_hat_nans : [ 1.  2. 10. 15. 17. 19. 20. 22. 23. 24. 25. 26. 27. 28. 29.]\n",
      "ROC AUC Score OVR: 0.7649106183647054\n",
      "ROC AUC Score OVO: 0.7649106183647054\n"
     ]
    }
   ],
   "source": [
    "k, g, n = best_params\n",
    "model = LabelSpreading(kernel=k, gamma=g, n_neighbors=n)\n",
    "model.fit(x_not_nan, y_not_nan)\n",
    "print(f\"X not nan {x_not_nan.shape}\")\n",
    "print(f\"X {x.shape}\")\n",
    "print(f\"classes: {model.classes_}\")\n",
    "y = model.predict(x)\n",
    "show_stats(y_hat, y_hat_nans, y, True)\n"
   ],
   "metadata": {
    "collapsed": false,
    "pycharm": {
     "name": "#%%\n"
    }
   }
  },
  {
   "cell_type": "markdown",
   "source": [
    "## Dodatnie TfIdf\n"
   ],
   "metadata": {
    "collapsed": false,
    "pycharm": {
     "name": "#%% md\n"
    }
   }
  },
  {
   "cell_type": "code",
   "execution_count": 67,
   "outputs": [
    {
     "name": "stdout",
     "output_type": "stream",
     "text": [
      "All: 9623\n",
      "Tfidf: (9623, 200)\n",
      "All: 9623\n",
      "Tfidf: (9623, 200)\n",
      "All: 9623\n",
      "Tfidf: (9623, 200)\n",
      "(8735, 200)\n",
      "(8735, 200)\n",
      "(8735, 200)\n"
     ]
    },
    {
     "data": {
      "text/plain": "HBox(children=(FloatProgress(value=0.0, max=600.0), HTML(value='')))",
      "application/vnd.jupyter.widget-view+json": {
       "version_major": 2,
       "version_minor": 0,
       "model_id": "14dacf05d4e24e4e8872582834ff8fbb"
      }
     },
     "metadata": {},
     "output_type": "display_data"
    },
    {
     "name": "stdout",
     "output_type": "stream",
     "text": [
      "\n",
      "Best params: (95, 'rbf', 30, 3)\n",
      "BestScore: 0.8210504302787932\n",
      "Scores: [(0.7224315048871881, (25, 'knn', 1, 3)), (0.7320325659741718, (25, 'knn', 1, 5)), (0.73261481740366, (25, 'knn', 1, 7)), (0.7385089493405448, (25, 'knn', 1, 11)), (0.7224315048871881, (25, 'knn', 10, 3)), (0.7320325659741718, (25, 'knn', 10, 5)), (0.73261481740366, (25, 'knn', 10, 7)), (0.7385089493405448, (25, 'knn', 10, 11)), (0.7224315048871881, (25, 'knn', 20, 3)), (0.7320325659741718, (25, 'knn', 20, 5)), (0.73261481740366, (25, 'knn', 20, 7)), (0.7385089493405448, (25, 'knn', 20, 11)), (0.7224315048871881, (25, 'knn', 30, 3)), (0.7320325659741718, (25, 'knn', 30, 5)), (0.73261481740366, (25, 'knn', 30, 7)), (0.7385089493405448, (25, 'knn', 30, 11)), (0.7224315048871881, (25, 'knn', 40, 3)), (0.7320325659741718, (25, 'knn', 40, 5)), (0.73261481740366, (25, 'knn', 40, 7)), (0.7385089493405448, (25, 'knn', 40, 11)), (0.6461945249745042, (25, 'rbf', 1, 3)), (0.6461945249745042, (25, 'rbf', 1, 5)), (0.6461945249745042, (25, 'rbf', 1, 7)), (0.6461945249745042, (25, 'rbf', 1, 11)), (0.7285168559282218, (25, 'rbf', 10, 3)), (0.7285168559282218, (25, 'rbf', 10, 5)), (0.7285168559282218, (25, 'rbf', 10, 7)), (0.7285168559282218, (25, 'rbf', 10, 11)), (0.7406710859526292, (25, 'rbf', 20, 3)), (0.7406710859526292, (25, 'rbf', 20, 5)), (0.7406710859526292, (25, 'rbf', 20, 7)), (0.7406710859526292, (25, 'rbf', 20, 11)), (0.7445871386173784, (25, 'rbf', 30, 3)), (0.7445871386173784, (25, 'rbf', 30, 5)), (0.7445871386173784, (25, 'rbf', 30, 7)), (0.7445871386173784, (25, 'rbf', 30, 11)), (0.7471345781434415, (25, 'rbf', 40, 3)), (0.7471345781434415, (25, 'rbf', 40, 5)), (0.7471345781434415, (25, 'rbf', 40, 7)), (0.7471345781434415, (25, 'rbf', 40, 11)), (0.7438043577902805, (30, 'knn', 1, 3)), (0.7569383171572953, (30, 'knn', 1, 5)), (0.7583119435309216, (30, 'knn', 1, 7)), (0.7592959699320492, (30, 'knn', 1, 11)), (0.7438043577902805, (30, 'knn', 10, 3)), (0.7569383171572953, (30, 'knn', 10, 5)), (0.7583119435309216, (30, 'knn', 10, 7)), (0.7592959699320492, (30, 'knn', 10, 11)), (0.7438043577902805, (30, 'knn', 20, 3)), (0.7569383171572953, (30, 'knn', 20, 5)), (0.7583119435309216, (30, 'knn', 20, 7)), (0.7592959699320492, (30, 'knn', 20, 11)), (0.7438043577902805, (30, 'knn', 30, 3)), (0.7569383171572953, (30, 'knn', 30, 5)), (0.7583119435309216, (30, 'knn', 30, 7)), (0.7592959699320492, (30, 'knn', 30, 11)), (0.7438043577902805, (30, 'knn', 40, 3)), (0.7569383171572953, (30, 'knn', 40, 5)), (0.7583119435309216, (30, 'knn', 40, 7)), (0.7592959699320492, (30, 'knn', 40, 11)), (0.6467825058153526, (30, 'rbf', 1, 3)), (0.6467825058153526, (30, 'rbf', 1, 5)), (0.6467825058153526, (30, 'rbf', 1, 7)), (0.6467825058153526, (30, 'rbf', 1, 11)), (0.7324393541807513, (30, 'rbf', 10, 3)), (0.7324393541807513, (30, 'rbf', 10, 5)), (0.7324393541807513, (30, 'rbf', 10, 7)), (0.7324393541807513, (30, 'rbf', 10, 11)), (0.7587079890912009, (30, 'rbf', 20, 3)), (0.7587079890912009, (30, 'rbf', 20, 5)), (0.7587079890912009, (30, 'rbf', 20, 7)), (0.7587079890912009, (30, 'rbf', 20, 11)), (0.7606638668943152, (30, 'rbf', 30, 3)), (0.7606638668943152, (30, 'rbf', 30, 5)), (0.7606638668943152, (30, 'rbf', 30, 7)), (0.7606638668943152, (30, 'rbf', 30, 11)), (0.7628209902714596, (30, 'rbf', 40, 3)), (0.7628209902714596, (30, 'rbf', 40, 5)), (0.7628209902714596, (30, 'rbf', 40, 7)), (0.7628209902714596, (30, 'rbf', 40, 11)), (0.7628217064478795, (35, 'knn', 1, 3)), (0.761834815341072, (35, 'knn', 1, 5)), (0.7641860225280455, (35, 'knn', 1, 7)), (0.7702763868040197, (35, 'knn', 1, 11)), (0.7628217064478795, (35, 'knn', 10, 3)), (0.761834815341072, (35, 'knn', 10, 5)), (0.7641860225280455, (35, 'knn', 10, 7)), (0.7702763868040197, (35, 'knn', 10, 11)), (0.7628217064478795, (35, 'knn', 20, 3)), (0.761834815341072, (35, 'knn', 20, 5)), (0.7641860225280455, (35, 'knn', 20, 7)), (0.7702763868040197, (35, 'knn', 20, 11)), (0.7628217064478795, (35, 'knn', 30, 3)), (0.761834815341072, (35, 'knn', 30, 5)), (0.7641860225280455, (35, 'knn', 30, 7)), (0.7702763868040197, (35, 'knn', 30, 11)), (0.7628217064478795, (35, 'knn', 40, 3)), (0.761834815341072, (35, 'knn', 40, 5)), (0.7641860225280455, (35, 'knn', 40, 7)), (0.7702763868040197, (35, 'knn', 40, 11)), (0.6450178471163873, (35, 'rbf', 1, 3)), (0.6450178471163873, (35, 'rbf', 1, 5)), (0.6450178471163873, (35, 'rbf', 1, 7)), (0.6450178471163873, (35, 'rbf', 1, 11)), (0.7465523267139533, (35, 'rbf', 10, 3)), (0.7465523267139533, (35, 'rbf', 10, 5)), (0.7465523267139533, (35, 'rbf', 10, 7)), (0.7465523267139533, (35, 'rbf', 10, 11)), (0.771253967617367, (35, 'rbf', 20, 3)), (0.771253967617367, (35, 'rbf', 20, 5)), (0.771253967617367, (35, 'rbf', 20, 7)), (0.771253967617367, (35, 'rbf', 20, 11)), (0.7796826479047544, (35, 'rbf', 30, 3)), (0.7796826479047544, (35, 'rbf', 30, 5)), (0.7796826479047544, (35, 'rbf', 30, 7)), (0.7796826479047544, (35, 'rbf', 30, 11)), (0.7828159197424056, (35, 'rbf', 40, 3)), (0.7828159197424056, (35, 'rbf', 40, 5)), (0.7828159197424056, (35, 'rbf', 40, 7)), (0.7828159197424056, (35, 'rbf', 40, 11)), (0.7712568323230472, (40, 'knn', 1, 3)), (0.754596420263782, (40, 'knn', 1, 5)), (0.7644080372182562, (40, 'knn', 1, 7)), (0.77048837502435, (40, 'knn', 1, 11)), (0.7712568323230472, (40, 'knn', 10, 3)), (0.754596420263782, (40, 'knn', 10, 5)), (0.7644080372182562, (40, 'knn', 10, 7)), (0.77048837502435, (40, 'knn', 10, 11)), (0.7712568323230472, (40, 'knn', 20, 3)), (0.754596420263782, (40, 'knn', 20, 5)), (0.7644080372182562, (40, 'knn', 20, 7)), (0.77048837502435, (40, 'knn', 20, 11)), (0.7712568323230472, (40, 'knn', 30, 3)), (0.754596420263782, (40, 'knn', 30, 5)), (0.7644080372182562, (40, 'knn', 30, 7)), (0.77048837502435, (40, 'knn', 30, 11)), (0.7712568323230472, (40, 'knn', 40, 3)), (0.754596420263782, (40, 'knn', 40, 5)), (0.7644080372182562, (40, 'knn', 40, 7)), (0.77048837502435, (40, 'knn', 40, 11)), (0.6448223309537179, (40, 'rbf', 1, 3)), (0.6448223309537179, (40, 'rbf', 1, 5)), (0.6448223309537179, (40, 'rbf', 1, 7)), (0.6448223309537179, (40, 'rbf', 1, 11)), (0.7524314189460175, (40, 'rbf', 10, 3)), (0.7524314189460175, (40, 'rbf', 10, 5)), (0.7524314189460175, (40, 'rbf', 10, 7)), (0.7524314189460175, (40, 'rbf', 10, 11)), (0.7769389760396017, (40, 'rbf', 20, 3)), (0.7769389760396017, (40, 'rbf', 20, 5)), (0.7769389760396017, (40, 'rbf', 20, 7)), (0.7769389760396017, (40, 'rbf', 20, 11)), (0.7800765449357734, (40, 'rbf', 30, 3)), (0.7800765449357734, (40, 'rbf', 30, 5)), (0.7800765449357734, (40, 'rbf', 30, 7)), (0.7800765449357734, (40, 'rbf', 30, 11)), (0.7881120443685615, (40, 'rbf', 40, 3)), (0.7881120443685615, (40, 'rbf', 40, 5)), (0.7881120443685615, (40, 'rbf', 40, 7)), (0.7881120443685615, (40, 'rbf', 40, 11)), (0.76283531379986, (45, 'knn', 1, 3)), (0.7706638382472585, (45, 'knn', 1, 5)), (0.7712675749693476, (45, 'knn', 1, 7)), (0.782244410959218, (45, 'knn', 1, 11)), (0.76283531379986, (45, 'knn', 10, 3)), (0.7706638382472585, (45, 'knn', 10, 5)), (0.7712675749693476, (45, 'knn', 10, 7)), (0.782244410959218, (45, 'knn', 10, 11)), (0.76283531379986, (45, 'knn', 20, 3)), (0.7706638382472585, (45, 'knn', 20, 5)), (0.7712675749693476, (45, 'knn', 20, 7)), (0.782244410959218, (45, 'knn', 20, 11)), (0.76283531379986, (45, 'knn', 30, 3)), (0.7706638382472585, (45, 'knn', 30, 5)), (0.7712675749693476, (45, 'knn', 30, 7)), (0.782244410959218, (45, 'knn', 30, 11)), (0.76283531379986, (45, 'knn', 40, 3)), (0.7706638382472585, (45, 'knn', 40, 5)), (0.7712675749693476, (45, 'knn', 40, 7)), (0.782244410959218, (45, 'knn', 40, 11)), (0.6454095956181463, (45, 'rbf', 1, 3)), (0.6454095956181463, (45, 'rbf', 1, 5)), (0.6454095956181463, (45, 'rbf', 1, 7)), (0.6454095956181463, (45, 'rbf', 1, 11)), (0.7598825184200574, (45, 'rbf', 10, 3)), (0.7598825184200574, (45, 'rbf', 10, 5)), (0.7598825184200574, (45, 'rbf', 10, 7)), (0.7598825184200574, (45, 'rbf', 10, 11)), (0.7838028108492134, (45, 'rbf', 20, 3)), (0.7838028108492134, (45, 'rbf', 20, 5)), (0.7838028108492134, (45, 'rbf', 20, 7)), (0.7838028108492134, (45, 'rbf', 20, 11)), (0.7879208252644124, (45, 'rbf', 30, 3)), (0.7879208252644124, (45, 'rbf', 30, 5)), (0.7879208252644124, (45, 'rbf', 30, 7)), (0.7879208252644124, (45, 'rbf', 30, 11)), (0.795759376181691, (45, 'rbf', 40, 3)), (0.795759376181691, (45, 'rbf', 40, 5)), (0.795759376181691, (45, 'rbf', 40, 7)), (0.795759376181691, (45, 'rbf', 40, 11)), (0.7702742382747596, (50, 'knn', 1, 3)), (0.7810605713369008, (50, 'knn', 1, 5)), (0.7841988564094925, (50, 'knn', 1, 7)), (0.7783118862368081, (50, 'knn', 1, 11)), (0.7702742382747596, (50, 'knn', 10, 3)), (0.7810605713369008, (50, 'knn', 10, 5)), (0.7841988564094925, (50, 'knn', 10, 7)), (0.7783118862368081, (50, 'knn', 10, 11)), (0.7702742382747596, (50, 'knn', 20, 3)), (0.7810605713369008, (50, 'knn', 20, 5)), (0.7841988564094925, (50, 'knn', 20, 7)), (0.7783118862368081, (50, 'knn', 20, 11)), (0.7702742382747596, (50, 'knn', 30, 3)), (0.7810605713369008, (50, 'knn', 30, 5)), (0.7841988564094925, (50, 'knn', 30, 7)), (0.7783118862368081, (50, 'knn', 30, 11)), (0.7702742382747596, (50, 'knn', 40, 3)), (0.7810605713369008, (50, 'knn', 40, 5)), (0.7841988564094925, (50, 'knn', 40, 7)), (0.7783118862368081, (50, 'knn', 40, 11)), (0.6446239500853681, (50, 'rbf', 1, 3)), (0.6446239500853681, (50, 'rbf', 1, 5)), (0.6446239500853681, (50, 'rbf', 1, 7)), (0.6446239500853681, (50, 'rbf', 1, 11)), (0.7641917519394057, (50, 'rbf', 10, 3)), (0.7641917519394057, (50, 'rbf', 10, 5)), (0.7641917519394057, (50, 'rbf', 10, 7)), (0.7641917519394057, (50, 'rbf', 10, 11)), (0.7877210120432228, (50, 'rbf', 20, 3)), (0.7877210120432228, (50, 'rbf', 20, 5)), (0.7877210120432228, (50, 'rbf', 20, 7)), (0.7877210120432228, (50, 'rbf', 20, 11)), (0.787726025278163, (50, 'rbf', 30, 3)), (0.787726025278163, (50, 'rbf', 30, 5)), (0.787726025278163, (50, 'rbf', 30, 7)), (0.787726025278163, (50, 'rbf', 30, 11)), (0.7934081689947174, (50, 'rbf', 40, 3)), (0.7934081689947174, (50, 'rbf', 40, 5)), (0.7934081689947174, (50, 'rbf', 40, 7)), (0.7934081689947174, (50, 'rbf', 40, 11)), (0.7792987773436157, (55, 'knn', 1, 3)), (0.7734146718766114, (55, 'knn', 1, 5)), (0.7783226288831087, (55, 'knn', 1, 7)), (0.7836123079214843, (55, 'knn', 1, 11)), (0.7792987773436157, (55, 'knn', 10, 3)), (0.7734146718766114, (55, 'knn', 10, 5)), (0.7783226288831087, (55, 'knn', 10, 7)), (0.7836123079214843, (55, 'knn', 10, 11)), (0.7792987773436157, (55, 'knn', 20, 3)), (0.7734146718766114, (55, 'knn', 20, 5)), (0.7783226288831087, (55, 'knn', 20, 7)), (0.7836123079214843, (55, 'knn', 20, 11)), (0.7792987773436157, (55, 'knn', 30, 3)), (0.7734146718766114, (55, 'knn', 30, 5)), (0.7783226288831087, (55, 'knn', 30, 7)), (0.7836123079214843, (55, 'knn', 30, 11)), (0.7792987773436157, (55, 'knn', 40, 3)), (0.7734146718766114, (55, 'knn', 40, 5)), (0.7783226288831087, (55, 'knn', 40, 7)), (0.7836123079214843, (55, 'knn', 40, 11)), (0.6467817896389325, (55, 'rbf', 1, 3)), (0.6467817896389325, (55, 'rbf', 1, 5)), (0.6467817896389325, (55, 'rbf', 1, 7)), (0.6467817896389325, (55, 'rbf', 1, 11)), (0.7665429591263793, (55, 'rbf', 10, 3)), (0.7665429591263793, (55, 'rbf', 10, 5)), (0.7665429591263793, (55, 'rbf', 10, 7)), (0.7665429591263793, (55, 'rbf', 10, 11)), (0.7908600132922344, (55, 'rbf', 20, 3)), (0.7908600132922344, (55, 'rbf', 20, 5)), (0.7908600132922344, (55, 'rbf', 20, 7)), (0.7908600132922344, (55, 'rbf', 20, 11)), (0.7900808133472368, (55, 'rbf', 30, 3)), (0.7900808133472368, (55, 'rbf', 30, 5)), (0.7900808133472368, (55, 'rbf', 30, 7)), (0.7900808133472368, (55, 'rbf', 30, 11)), (0.7945855630292544, (55, 'rbf', 40, 3)), (0.7945855630292544, (55, 'rbf', 40, 5)), (0.7945855630292544, (55, 'rbf', 40, 7)), (0.7945855630292544, (55, 'rbf', 40, 11)), (0.7887036060915101, (60, 'knn', 1, 3)), (0.799296571520242, (60, 'knn', 1, 5)), (0.7945955894991348, (60, 'knn', 1, 7)), (0.7934160469353378, (60, 'knn', 1, 11)), (0.7887036060915101, (60, 'knn', 10, 3)), (0.799296571520242, (60, 'knn', 10, 5)), (0.7945955894991348, (60, 'knn', 10, 7)), (0.7934160469353378, (60, 'knn', 10, 11)), (0.7887036060915101, (60, 'knn', 20, 3)), (0.799296571520242, (60, 'knn', 20, 5)), (0.7945955894991348, (60, 'knn', 20, 7)), (0.7934160469353378, (60, 'knn', 20, 11)), (0.7887036060915101, (60, 'knn', 30, 3)), (0.799296571520242, (60, 'knn', 30, 5)), (0.7945955894991348, (60, 'knn', 30, 7)), (0.7934160469353378, (60, 'knn', 30, 11)), (0.7887036060915101, (60, 'knn', 40, 3)), (0.799296571520242, (60, 'knn', 40, 5)), (0.7945955894991348, (60, 'knn', 40, 7)), (0.7934160469353378, (60, 'knn', 40, 11)), (0.6516854495869093, (60, 'rbf', 1, 3)), (0.6516854495869093, (60, 'rbf', 1, 5)), (0.6516854495869093, (60, 'rbf', 1, 7)), (0.6516854495869093, (60, 'rbf', 1, 11)), (0.7732127101261617, (60, 'rbf', 10, 3)), (0.7732127101261617, (60, 'rbf', 10, 5)), (0.7732127101261617, (60, 'rbf', 10, 7)), (0.7732127101261617, (60, 'rbf', 10, 11)), (0.794390046866585, (60, 'rbf', 20, 3)), (0.794390046866585, (60, 'rbf', 20, 5)), (0.794390046866585, (60, 'rbf', 20, 7)), (0.794390046866585, (60, 'rbf', 20, 11)), (0.7986999965623531, (60, 'rbf', 30, 3)), (0.7986999965623531, (60, 'rbf', 30, 5)), (0.7986999965623531, (60, 'rbf', 30, 7)), (0.7986999965623531, (60, 'rbf', 30, 11)), (0.7986999965623532, (60, 'rbf', 40, 3)), (0.7986999965623532, (60, 'rbf', 40, 5)), (0.7986999965623532, (60, 'rbf', 40, 7)), (0.7986999965623532, (60, 'rbf', 40, 11)), (0.8002691390986489, (65, 'knn', 1, 3)), (0.8006680493646081, (65, 'knn', 1, 5)), (0.8051685019881056, (65, 'knn', 1, 7)), (0.8077223871019491, (65, 'knn', 1, 11)), (0.8002691390986489, (65, 'knn', 10, 3)), (0.8006680493646081, (65, 'knn', 10, 5)), (0.8051685019881056, (65, 'knn', 10, 7)), (0.8077223871019491, (65, 'knn', 10, 11)), (0.8002691390986489, (65, 'knn', 20, 3)), (0.8006680493646081, (65, 'knn', 20, 5)), (0.8051685019881056, (65, 'knn', 20, 7)), (0.8077223871019491, (65, 'knn', 20, 11)), (0.8002691390986489, (65, 'knn', 30, 3)), (0.8006680493646081, (65, 'knn', 30, 5)), (0.8051685019881056, (65, 'knn', 30, 7)), (0.8077223871019491, (65, 'knn', 30, 11)), (0.8002691390986489, (65, 'knn', 40, 3)), (0.8006680493646081, (65, 'knn', 40, 5)), (0.8051685019881056, (65, 'knn', 40, 7)), (0.8077223871019491, (65, 'knn', 40, 11)), (0.6503111070368631, (65, 'rbf', 1, 3)), (0.6503111070368631, (65, 'rbf', 1, 5)), (0.6503111070368631, (65, 'rbf', 1, 7)), (0.6503111070368631, (65, 'rbf', 1, 11)), (0.782820216800926, (65, 'rbf', 10, 3)), (0.782820216800926, (65, 'rbf', 10, 5)), (0.782820216800926, (65, 'rbf', 10, 7)), (0.782820216800926, (65, 'rbf', 10, 11)), (0.8024269786522134, (65, 'rbf', 20, 3)), (0.8024269786522134, (65, 'rbf', 20, 5)), (0.8024269786522134, (65, 'rbf', 20, 7)), (0.8024269786522134, (65, 'rbf', 20, 11)), (0.8034088565240808, (65, 'rbf', 30, 3)), (0.8034088565240808, (65, 'rbf', 30, 5)), (0.8034088565240808, (65, 'rbf', 30, 7)), (0.8034088565240808, (65, 'rbf', 30, 11)), (0.8061525283892333, (65, 'rbf', 40, 3)), (0.8061525283892333, (65, 'rbf', 40, 5)), (0.8061525283892333, (65, 'rbf', 40, 7)), (0.8061525283892333, (65, 'rbf', 40, 11)), (0.8063437474933826, (70, 'knn', 1, 3)), (0.8057636445931544, (70, 'knn', 1, 5)), (0.8069345930399111, (70, 'knn', 1, 7)), (0.8047789020156069, (70, 'knn', 1, 11)), (0.8063437474933826, (70, 'knn', 10, 3)), (0.8057636445931544, (70, 'knn', 10, 5)), (0.8069345930399111, (70, 'knn', 10, 7)), (0.8047789020156069, (70, 'knn', 10, 11)), (0.8063437474933826, (70, 'knn', 20, 3)), (0.8057636445931544, (70, 'knn', 20, 5)), (0.8069345930399111, (70, 'knn', 20, 7)), (0.8047789020156069, (70, 'knn', 20, 11)), (0.8063437474933826, (70, 'knn', 30, 3)), (0.8057636445931544, (70, 'knn', 30, 5)), (0.8069345930399111, (70, 'knn', 30, 7)), (0.8047789020156069, (70, 'knn', 30, 11)), (0.8063437474933826, (70, 'knn', 40, 3)), (0.8057636445931544, (70, 'knn', 40, 5)), (0.8069345930399111, (70, 'knn', 40, 7)), (0.8047789020156069, (70, 'knn', 40, 11)), (0.6505073393759526, (70, 'rbf', 1, 3)), (0.6505073393759526, (70, 'rbf', 1, 5)), (0.6505073393759526, (70, 'rbf', 1, 7)), (0.6505073393759526, (70, 'rbf', 1, 11)), (0.7851714239878994, (70, 'rbf', 10, 3)), (0.7851714239878994, (70, 'rbf', 10, 5)), (0.7851714239878994, (70, 'rbf', 10, 7)), (0.7851714239878994, (70, 'rbf', 10, 11)), (0.8041873402926584, (70, 'rbf', 20, 3)), (0.8041873402926584, (70, 'rbf', 20, 5)), (0.8041873402926584, (70, 'rbf', 20, 7)), (0.8041873402926584, (70, 'rbf', 20, 11)), (0.8053661666800351, (70, 'rbf', 30, 3)), (0.8053661666800351, (70, 'rbf', 30, 5)), (0.8053661666800351, (70, 'rbf', 30, 7)), (0.8053661666800351, (70, 'rbf', 30, 11)), (0.8065428445381521, (70, 'rbf', 40, 3)), (0.8065428445381521, (70, 'rbf', 40, 5)), (0.8065428445381521, (70, 'rbf', 40, 7)), (0.8065428445381521, (70, 'rbf', 40, 11)), (0.8094813163895541, (75, 'knn', 1, 3)), (0.8069259989228705, (75, 'knn', 1, 5)), (0.8075168444693992, (75, 'knn', 1, 7)), (0.808691373798256, (75, 'knn', 1, 11)), (0.8094813163895541, (75, 'knn', 10, 3)), (0.8069259989228705, (75, 'knn', 10, 5)), (0.8075168444693992, (75, 'knn', 10, 7)), (0.808691373798256, (75, 'knn', 10, 11)), (0.8094813163895541, (75, 'knn', 20, 3)), (0.8069259989228705, (75, 'knn', 20, 5)), (0.8075168444693992, (75, 'knn', 20, 7)), (0.808691373798256, (75, 'knn', 20, 11)), (0.8094813163895541, (75, 'knn', 30, 3)), (0.8069259989228705, (75, 'knn', 30, 5)), (0.8075168444693992, (75, 'knn', 30, 7)), (0.808691373798256, (75, 'knn', 30, 11)), (0.8094813163895541, (75, 'knn', 40, 3)), (0.8069259989228705, (75, 'knn', 40, 5)), (0.8075168444693992, (75, 'knn', 40, 7)), (0.808691373798256, (75, 'knn', 40, 11)), (0.6512894040266304, (75, 'rbf', 1, 3)), (0.6512894040266304, (75, 'rbf', 1, 5)), (0.6512894040266304, (75, 'rbf', 1, 7)), (0.6512894040266304, (75, 'rbf', 1, 11)), (0.7869382312161249, (75, 'rbf', 10, 3)), (0.7869382312161249, (75, 'rbf', 10, 5)), (0.7869382312161249, (75, 'rbf', 10, 7)), (0.7869382312161249, (75, 'rbf', 10, 11)), (0.8081084061923478, (75, 'rbf', 20, 3)), (0.8081084061923478, (75, 'rbf', 20, 5)), (0.8081084061923478, (75, 'rbf', 20, 7)), (0.8081084061923478, (75, 'rbf', 20, 11)), (0.8083060708842773, (75, 'rbf', 30, 3)), (0.8083060708842773, (75, 'rbf', 30, 5)), (0.8083060708842773, (75, 'rbf', 30, 7)), (0.8083060708842773, (75, 'rbf', 30, 11)), (0.8096825619635839, (75, 'rbf', 40, 3)), (0.8096825619635839, (75, 'rbf', 40, 5)), (0.8096825619635839, (75, 'rbf', 40, 7)), (0.8096825619635839, (75, 'rbf', 40, 11)), (0.812022310327837, (80, 'knn', 1, 3)), (0.8143785307497508, (80, 'knn', 1, 5)), (0.8147695630750895, (80, 'knn', 1, 7)), (0.8102576516288718, (80, 'knn', 1, 11)), (0.812022310327837, (80, 'knn', 10, 3)), (0.8143785307497508, (80, 'knn', 10, 5)), (0.8147695630750895, (80, 'knn', 10, 7)), (0.8102576516288718, (80, 'knn', 10, 11)), (0.812022310327837, (80, 'knn', 20, 3)), (0.8143785307497508, (80, 'knn', 20, 5)), (0.8147695630750895, (80, 'knn', 20, 7)), (0.8102576516288718, (80, 'knn', 20, 11)), (0.812022310327837, (80, 'knn', 30, 3)), (0.8143785307497508, (80, 'knn', 30, 5)), (0.8147695630750895, (80, 'knn', 30, 7)), (0.8102576516288718, (80, 'knn', 30, 11)), (0.812022310327837, (80, 'knn', 40, 3)), (0.8143785307497508, (80, 'knn', 40, 5)), (0.8147695630750895, (80, 'knn', 40, 7)), (0.8102576516288718, (80, 'knn', 40, 11)), (0.6503068099783428, (80, 'rbf', 1, 3)), (0.6503068099783428, (80, 'rbf', 1, 5)), (0.6503068099783428, (80, 'rbf', 1, 7)), (0.6503068099783428, (80, 'rbf', 1, 11)), (0.7916427941193324, (80, 'rbf', 10, 3)), (0.7916427941193324, (80, 'rbf', 10, 5)), (0.7916427941193324, (80, 'rbf', 10, 7)), (0.7916427941193324, (80, 'rbf', 10, 11)), (0.8157571703583175, (80, 'rbf', 20, 3)), (0.8157571703583175, (80, 'rbf', 20, 5)), (0.8157571703583175, (80, 'rbf', 20, 7)), (0.8157571703583175, (80, 'rbf', 20, 11)), (0.8157578865347374, (80, 'rbf', 30, 3)), (0.8157578865347374, (80, 'rbf', 30, 5)), (0.8157578865347374, (80, 'rbf', 30, 7)), (0.8157578865347374, (80, 'rbf', 30, 11)), (0.815562370372068, (80, 'rbf', 40, 3)), (0.815562370372068, (80, 'rbf', 40, 5)), (0.815562370372068, (80, 'rbf', 40, 7)), (0.815562370372068, (80, 'rbf', 40, 11)), (0.8128050911549348, (85, 'knn', 1, 3)), (0.8153596924451982, (85, 'knn', 1, 5)), (0.8104596133793216, (85, 'knn', 1, 7)), (0.8100664325247224, (85, 'knn', 1, 11)), (0.8128050911549348, (85, 'knn', 10, 3)), (0.8153596924451982, (85, 'knn', 10, 5)), (0.8104596133793216, (85, 'knn', 10, 7)), (0.8100664325247224, (85, 'knn', 10, 11)), (0.8128050911549348, (85, 'knn', 20, 3)), (0.8153596924451982, (85, 'knn', 20, 5)), (0.8104596133793216, (85, 'knn', 20, 7)), (0.8100664325247224, (85, 'knn', 20, 11)), (0.8128050911549348, (85, 'knn', 30, 3)), (0.8153596924451982, (85, 'knn', 30, 5)), (0.8104596133793216, (85, 'knn', 30, 7)), (0.8100664325247224, (85, 'knn', 30, 11)), (0.8128050911549348, (85, 'knn', 40, 3)), (0.8153596924451982, (85, 'knn', 40, 5)), (0.8104596133793216, (85, 'knn', 40, 7)), (0.8100664325247224, (85, 'knn', 40, 11)), (0.6548129920132005, (85, 'rbf', 1, 3)), (0.6548129920132005, (85, 'rbf', 1, 5)), (0.6548129920132005, (85, 'rbf', 1, 7)), (0.6548129920132005, (85, 'rbf', 1, 11)), (0.7920345426210911, (85, 'rbf', 10, 3)), (0.7920345426210911, (85, 'rbf', 10, 5)), (0.7920345426210911, (85, 'rbf', 10, 7)), (0.7920345426210911, (85, 'rbf', 10, 11)), (0.8155595056663879, (85, 'rbf', 20, 3)), (0.8155595056663879, (85, 'rbf', 20, 5)), (0.8155595056663879, (85, 'rbf', 20, 7)), (0.8155595056663879, (85, 'rbf', 20, 11)), (0.8177180613963723, (85, 'rbf', 30, 3)), (0.8177180613963723, (85, 'rbf', 30, 5)), (0.8177180613963723, (85, 'rbf', 30, 7)), (0.8177180613963723, (85, 'rbf', 30, 11)), (0.8181112422509711, (85, 'rbf', 40, 3)), (0.8181112422509711, (85, 'rbf', 40, 5)), (0.8181112422509711, (85, 'rbf', 40, 7)), (0.8181112422509711, (85, 'rbf', 40, 11)), (0.8069259989228709, (90, 'knn', 1, 3)), (0.8096739678465437, (90, 'knn', 1, 5)), (0.8079100253239982, (90, 'knn', 1, 7)), (0.809084554652855, (90, 'knn', 1, 11)), (0.8069259989228709, (90, 'knn', 10, 3)), (0.8096739678465437, (90, 'knn', 10, 5)), (0.8079100253239982, (90, 'knn', 10, 7)), (0.809084554652855, (90, 'knn', 10, 11)), (0.8069259989228709, (90, 'knn', 20, 3)), (0.8096739678465437, (90, 'knn', 20, 5)), (0.8079100253239982, (90, 'knn', 20, 7)), (0.809084554652855, (90, 'knn', 20, 11)), (0.8069259989228709, (90, 'knn', 30, 3)), (0.8096739678465437, (90, 'knn', 30, 5)), (0.8079100253239982, (90, 'knn', 30, 7)), (0.809084554652855, (90, 'knn', 30, 11)), (0.8069259989228709, (90, 'knn', 40, 3)), (0.8096739678465437, (90, 'knn', 40, 5)), (0.8079100253239982, (90, 'knn', 40, 7)), (0.809084554652855, (90, 'knn', 40, 11)), (0.6559896698713175, (90, 'rbf', 1, 3)), (0.6559896698713175, (90, 'rbf', 1, 5)), (0.6559896698713175, (90, 'rbf', 1, 7)), (0.6559896698713175, (90, 'rbf', 1, 11)), (0.7934088851711375, (90, 'rbf', 10, 3)), (0.7934088851711375, (90, 'rbf', 10, 5)), (0.7934088851711375, (90, 'rbf', 10, 7)), (0.7934088851711375, (90, 'rbf', 10, 11)), (0.8169324158635941, (90, 'rbf', 20, 3)), (0.8169324158635941, (90, 'rbf', 20, 5)), (0.8169324158635941, (90, 'rbf', 20, 7)), (0.8169324158635941, (90, 'rbf', 20, 11)), (0.8198744685970963, (90, 'rbf', 30, 3)), (0.8198744685970963, (90, 'rbf', 30, 5)), (0.8198744685970963, (90, 'rbf', 30, 7)), (0.8198744685970963, (90, 'rbf', 30, 11)), (0.819678952434427, (90, 'rbf', 40, 3)), (0.819678952434427, (90, 'rbf', 40, 5)), (0.819678952434427, (90, 'rbf', 40, 7)), (0.819678952434427, (90, 'rbf', 40, 11)), (0.8063380180820223, (95, 'knn', 1, 3)), (0.8139817690130517, (95, 'knn', 1, 5)), (0.8157492924176971, (95, 'knn', 1, 7)), (0.8104603295557414, (95, 'knn', 1, 11)), (0.8063380180820223, (95, 'knn', 10, 3)), (0.8139817690130517, (95, 'knn', 10, 5)), (0.8157492924176971, (95, 'knn', 10, 7)), (0.8104603295557414, (95, 'knn', 10, 11)), (0.8063380180820223, (95, 'knn', 20, 3)), (0.8139817690130517, (95, 'knn', 20, 5)), (0.8157492924176971, (95, 'knn', 20, 7)), (0.8104603295557414, (95, 'knn', 20, 11)), (0.8063380180820223, (95, 'knn', 30, 3)), (0.8139817690130517, (95, 'knn', 30, 5)), (0.8157492924176971, (95, 'knn', 30, 7)), (0.8104603295557414, (95, 'knn', 30, 11)), (0.8063380180820223, (95, 'knn', 40, 3)), (0.8139817690130517, (95, 'knn', 40, 5)), (0.8157492924176971, (95, 'knn', 40, 7)), (0.8104603295557414, (95, 'knn', 40, 11)), (0.655793437532228, (95, 'rbf', 1, 3)), (0.655793437532228, (95, 'rbf', 1, 5)), (0.655793437532228, (95, 'rbf', 1, 7)), (0.655793437532228, (95, 'rbf', 1, 11)), (0.793604401333807, (95, 'rbf', 10, 3)), (0.793604401333807, (95, 'rbf', 10, 5)), (0.793604401333807, (95, 'rbf', 10, 7)), (0.793604401333807, (95, 'rbf', 10, 11)), (0.8184986936942099, (95, 'rbf', 20, 3)), (0.8184986936942099, (95, 'rbf', 20, 5)), (0.8184986936942099, (95, 'rbf', 20, 7)), (0.8184986936942099, (95, 'rbf', 20, 11)), (0.8210504302787932, (95, 'rbf', 30, 3)), (0.8210504302787932, (95, 'rbf', 30, 5)), (0.8210504302787932, (95, 'rbf', 30, 7)), (0.8210504302787932, (95, 'rbf', 30, 11)), (0.8198737524206763, (95, 'rbf', 40, 3)), (0.8198737524206763, (95, 'rbf', 40, 5)), (0.8198737524206763, (95, 'rbf', 40, 7)), (0.8198737524206763, (95, 'rbf', 40, 11))]\n"
     ]
    }
   ],
   "source": [
    "from ped4.tfidf import load_videos_with_tf_idf\n",
    "\n",
    "videos = load_videos_with_tf_idf()\n",
    "\n",
    "\n",
    "videos_not_nan = videos[y_hat_nans.notna()]\n",
    "y_not_nan = y_hat_nans[y_hat_nans.notna()]\n",
    "\n",
    "videos_only_nan = videos[y_hat_nans.isna()]\n",
    "\n",
    "#\n",
    "# select = SelectKBest(chi2, k=100)\n",
    "# select.fit(x_not_nan, y_not_nan)\n",
    "# x_not_nan = select.transform(x_not_nan)\n",
    "# x_only_nan = select.transform(x_only_nan)\n",
    "# x = select.transform(videos)\n",
    "# print(x.shape)\n",
    "\n",
    "parameters = {'k': np.arange(25, 100, 5), 'kernel': [\"knn\", \"rbf\"], 'gamma': [1, 10, 20, 30, 40],\n",
    "              'n_neighbors': [3, 5, 7, 11]}\n",
    "\n",
    "best_auc = 0\n",
    "best_params = None\n",
    "scores = []\n",
    "\n",
    "params = []\n",
    "k_splits = 10\n",
    "cv = StratifiedKFold(n_splits=k_splits)\n",
    "for k in parameters['k']:\n",
    "    for kernel in parameters['kernel']:\n",
    "        for g in parameters['gamma']:\n",
    "            for n in parameters['n_neighbors']:\n",
    "                params.append((k, kernel, g, n))\n",
    "\n",
    "for p in tqdm(params):\n",
    "    k, kernel, g, n = p\n",
    "    select = SelectKBest(chi2, k=k)\n",
    "    select.fit(videos_not_nan, y_not_nan)\n",
    "    x_not_nan = select.transform(videos_not_nan)\n",
    "    x_only_nan = select.transform(videos_only_nan)\n",
    "    #x = select.transform(videos)\n",
    "    mean_score = 0\n",
    "    for i, (train, test) in enumerate(cv.split(x_not_nan, y_not_nan)):\n",
    "        # print(type(x_not_nan))\n",
    "        # print(type(y_not_nan))\n",
    "        x_train = x_not_nan[train]\n",
    "        y_train = y_not_nan.to_numpy()[train]\n",
    "\n",
    "        x_test = x_not_nan[test]\n",
    "        y_test = y_not_nan.to_numpy()[test]\n",
    "\n",
    "        # print(f\"{y_not_nan.value_counts()}\")\n",
    "        # print(f\"Train: {np.unique(y_train)}\")\n",
    "        # print(f\"Test: {np.unique(y_test)}\")\n",
    "\n",
    "        model = LabelSpreading(kernel=kernel, gamma=g, n_neighbors=n)\n",
    "        model.fit(x_train, y_train)\n",
    "        y = model.predict(x_test)\n",
    "        # print(f\"Y pred: {y}\")\n",
    "        # print(y_test)\n",
    "        y_mapped = y.reshape(-1, 1)\n",
    "        encoder = OneHotEncoder(sparse=False)\n",
    "        encoder.fit(y_train.reshape(-1, 1))\n",
    "        one_hot_hat = encoder.transform(y_test.reshape(-1, 1))\n",
    "        y_hot = encoder.transform(y_mapped)\n",
    "        # print(one_hot_hat)\n",
    "        score = roc_auc_score(one_hot_hat, y_hot, average='micro', multi_class='ovr')\n",
    "        mean_score += score\n",
    "    mean_score /= k_splits\n",
    "    scores.append((mean_score, p))\n",
    "    if mean_score > best_auc:\n",
    "        best_auc = mean_score\n",
    "        best_params = p\n",
    "\n",
    "print(f\"Best params: {best_params}\")\n",
    "print(f\"BestScore: {best_auc}\")\n",
    "print(f\"Scores: {scores}\")\n"
   ],
   "metadata": {
    "collapsed": false,
    "pycharm": {
     "name": "#%%\n"
    }
   }
  },
  {
   "cell_type": "markdown",
   "source": [
    "### Trenowanie modelu z TfIdf"
   ],
   "metadata": {
    "collapsed": false
   }
  },
  {
   "cell_type": "code",
   "execution_count": 69,
   "outputs": [
    {
     "name": "stdout",
     "output_type": "stream",
     "text": [
      "X not nan (2733, 95)\n",
      "X (8735, 95)\n",
      "classes: [ 1.  2. 10. 15. 17. 19. 20. 22. 23. 24. 25. 26. 27. 28. 29.]\n",
      "Accuracy: 0.697424155695478\n",
      "F1: 0.6464181575612742\n",
      "Precision: 0.8219152627272037\n",
      "Recall: 0.5729235372306422\n",
      "Hat unique:[ 1  2 10 15 17 19 20 22 23 24 25 26 27 28 29]\n",
      "labeled unique: [ 1  2 10 15 17 19 20 22 23 24 25 26 27 28 29]\n",
      "y_hat_nans : [ 1.  2. 10. 15. 17. 19. 20. 22. 23. 24. 25. 26. 27. 28. 29.]\n",
      "ROC AUC Score OVR: 0.7736032058667834\n",
      "ROC AUC Score OVO: 0.7736032058667834\n"
     ]
    }
   ],
   "source": [
    "k, kernel, g, n = best_params\n",
    "\n",
    "select = SelectKBest(chi2, k=k)\n",
    "select.fit(videos_not_nan, y_not_nan)\n",
    "x_not_nan = select.transform(videos_not_nan)\n",
    "x_only_nan = select.transform(videos_only_nan)\n",
    "x = select.transform(videos)\n",
    "\n",
    "model = LabelSpreading(kernel=kernel, gamma=g, n_neighbors=n)\n",
    "model.fit(x_not_nan, y_not_nan)\n",
    "print(f\"X not nan {x_not_nan.shape}\")\n",
    "print(f\"X {x.shape}\")\n",
    "print(f\"classes: {model.classes_}\")\n",
    "y = model.predict(x)\n",
    "show_stats(y_hat, y_hat_nans, y, True)"
   ],
   "metadata": {
    "collapsed": false,
    "pycharm": {
     "name": "#%%\n"
    }
   }
  }
 ],
 "metadata": {
  "kernelspec": {
   "name": "python3",
   "language": "python",
   "display_name": "Python 3"
  },
  "language_info": {
   "codemirror_mode": {
    "name": "ipython",
    "version": 2
   },
   "file_extension": ".py",
   "mimetype": "text/x-python",
   "name": "python",
   "nbconvert_exporter": "python",
   "pygments_lexer": "ipython2",
   "version": "3.8.5"
  },
  "metadata": {
   "interpreter": {
    "hash": "258d9c3fe2c2041f692db8763ec1691cd73586bc3236962ad99db3f9aaf4b0b7"
   }
  }
 },
 "nbformat": 4,
 "nbformat_minor": 0
}