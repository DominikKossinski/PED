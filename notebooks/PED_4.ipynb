{
 "cells": [
  {
   "cell_type": "markdown",
   "source": [
    "# YouTube trending videos"
   ],
   "metadata": {
    "collapsed": false
   }
  },
  {
   "cell_type": "code",
   "execution_count": 2,
   "outputs": [],
   "source": [
    "%matplotlib inline\n",
    "\n",
    "import sys\n",
    "sys.path.append('..')\n",
    "\n",
    "\n",
    "import matplotlib.pyplot as plt\n",
    "import numpy as np\n",
    "import pandas as pd\n",
    "from sklearn.cluster import KMeans, DBSCAN, AgglomerativeClustering\n",
    "from sklearn.feature_selection import chi2, SelectKBest\n",
    "from sklearn.metrics import accuracy_score, f1_score, precision_score, silhouette_score, roc_auc_score, recall_score\n",
    "from sklearn.preprocessing import MinMaxScaler, OneHotEncoder\n",
    "from sklearn.neighbors import NearestNeighbors\n",
    "\n",
    "from helpers.categories import get_categories_dict\n",
    "from helpers.files import load_csv"
   ],
   "metadata": {
    "collapsed": false,
    "pycharm": {
     "name": "#%%\n"
    }
   }
  },
  {
   "cell_type": "markdown",
   "source": [
    "## Etap 4 - Wykorzystanie uczenia pół-nadzorowanego\n"
   ],
   "metadata": {
    "collapsed": false
   }
  },
  {
   "cell_type": "markdown",
   "source": [
    "Deklaracja potrzebnych funkcji"
   ],
   "metadata": {
    "collapsed": false,
    "pycharm": {
     "name": "#%% md\n"
    }
   }
  },
  {
   "cell_type": "code",
   "execution_count": 3,
   "outputs": [],
   "source": [
    "def show_stats(y_hat, y_hat_nans, y):\n",
    "    mapping_dict = get_mapping_dict(y_hat_nans, y)\n",
    "    print(mapping_dict)\n",
    "    y_mapped = pd.Series(y).apply(lambda x: mapping_dict[x])\n",
    "    print(f\"Accuracy: {accuracy_score(y_hat, y_mapped)}\")\n",
    "    print(f\"F1: {f1_score(y_hat, y_mapped, average='macro')}\")\n",
    "    print(f\"Precision: {precision_score(y_hat, y_mapped, average='macro')}\")\n",
    "    print(f\"Recall: {recall_score(y_hat, y_mapped, average='macro')}\")\n",
    "    y_hat = y_hat.to_numpy().reshape(-1, 1)\n",
    "    y_mapped = y_mapped.to_numpy().reshape(-1, 1)\n",
    "    encoder = OneHotEncoder(sparse=False)\n",
    "    one_hot_hat = encoder.fit_transform(y_hat)\n",
    "    y_hot = encoder.transform(y_mapped)\n",
    "    print(f\"ROC AUC Score OVR: {roc_auc_score(one_hot_hat, y_hot, multi_class='ovr')}\")\n",
    "    print(f\"ROC AUC Score OVO: {roc_auc_score(one_hot_hat, y_hot, multi_class='ovo')}\")"
   ],
   "metadata": {
    "collapsed": false,
    "pycharm": {
     "name": "#%%\n"
    }
   }
  },
  {
   "cell_type": "markdown",
   "source": [
    "### Wyczytanie danych"
   ],
   "metadata": {
    "collapsed": false,
    "pycharm": {
     "name": "#%% md\n"
    }
   }
  },
  {
   "cell_type": "code",
   "execution_count": 4,
   "outputs": [],
   "source": [
    "gb_data, us_data = load_csv(\"clustering_data\")\n",
    "\n",
    "videos = pd.concat([gb_data, us_data])\n",
    "categories_ids = videos[\"new_category_id\"].dropna().unique().tolist()"
   ],
   "metadata": {
    "collapsed": false,
    "pycharm": {
     "name": "#%%\n"
    }
   }
  },
  {
   "cell_type": "markdown",
   "source": [
    "### Wczytanie nazw kategorii"
   ],
   "metadata": {
    "collapsed": false,
    "pycharm": {
     "name": "#%% md\n"
    }
   }
  },
  {
   "cell_type": "code",
   "execution_count": 5,
   "outputs": [],
   "source": [
    "categories_dict = get_categories_dict()\n",
    "categories = [categories_dict[cat] for cat in categories_ids]"
   ],
   "metadata": {
    "collapsed": false,
    "pycharm": {
     "name": "#%%\n"
    }
   }
  },
  {
   "cell_type": "markdown",
   "source": [
    "## Usunięcie danych tekstowych"
   ],
   "metadata": {
    "collapsed": false,
    "pycharm": {
     "name": "#%% md\n"
    }
   }
  },
  {
   "cell_type": "code",
   "execution_count": 6,
   "outputs": [],
   "source": [
    "videos = videos[videos[\"new_category_id\"].notna()]\n",
    "y_hat = videos[\"new_category_id\"]  # oczekiwane kategorie z api\n",
    "y_hat_nans = videos[\"category_id\"]  # oczekiwane kategorie z nanami (z oryginalnego zbioru)\n",
    "videos_no_nan_categories = videos[videos[\"category_id\"].notna()]\n",
    "selected_columns = [\n",
    "    \"views\", \"likes\", \"dislikes\", \"comment_count\", \"description_len\", \"title_len\", \"channel_title_len\",\n",
    "    \"publish_time_day_of_week\", \"publish_time_hour_of_day\",\n",
    "    \"gray_mean_score\", \"color_mean_score\", \"gray_hist_score\",\n",
    "    \"red_hist_score\", \"green_hist_score\", \"blue_hist_score\", \"edges_score\", \"entropy_score\",\n",
    "]\n",
    "\n",
    "for cat in categories_ids:\n",
    "    selected_columns.append(f\"freq_channel_titles_{categories_dict[cat]}\")\n",
    "    selected_columns.append(f\"freq_titles_{categories_dict[cat]}\")\n",
    "    selected_columns.append(f\"freq_tags_{categories_dict[cat]}\")\n",
    "    selected_columns.append(f\"freq_descriptions_{categories_dict[cat]}\")\n",
    "\n",
    "videos = videos[selected_columns]\n",
    "videos = videos.fillna(videos.mean())"
   ],
   "metadata": {
    "collapsed": false,
    "pycharm": {
     "name": "#%%\n"
    }
   }
  },
  {
   "cell_type": "markdown",
   "source": [
    "### Uzupełnienie wartości pustych wartościami średnimi\n"
   ],
   "metadata": {
    "collapsed": false,
    "pycharm": {
     "name": "#%% md\n"
    }
   }
  },
  {
   "cell_type": "code",
   "execution_count": 6,
   "outputs": [],
   "source": [
    "# videos = videos.fillna(videos.mean())"
   ],
   "metadata": {
    "collapsed": false,
    "pycharm": {
     "name": "#%%\n"
    }
   }
  },
  {
   "cell_type": "markdown",
   "source": [
    "### Skalowanie danych"
   ],
   "metadata": {
    "collapsed": false,
    "pycharm": {
     "name": "#%% md\n"
    }
   }
  },
  {
   "cell_type": "code",
   "execution_count": 7,
   "outputs": [],
   "source": [
    "scaler = MinMaxScaler()\n",
    "videos = scaler.fit_transform(videos)"
   ],
   "metadata": {
    "collapsed": false,
    "pycharm": {
     "name": "#%%\n"
    }
   }
  },
  {
   "cell_type": "markdown",
   "source": [
    "### Przygotowanie zbioru z oznaczonymi kategoriami"
   ],
   "metadata": {
    "collapsed": false,
    "pycharm": {
     "name": "#%% md\n"
    }
   }
  },
  {
   "cell_type": "code",
   "execution_count": 60,
   "execution_count": 8,
   "outputs": [],
   "source": [
    "x_not_nan = videos[y_hat_nans.notna()]\n",
    "y_not_nan = y_hat_nans[y_hat_nans.notna()]\n",
    "\n",
    "x_only_nan = videos[y_hat_nans.isna()]"
   ],
   "metadata": {
    "collapsed": false,
    "pycharm": {
     "name": "#%%\n"
    }
   }
  },
  {
   "cell_type": "markdown",
   "source": [
    "### K-means\n",
    "\n",
    "Dobre acc (przypisuje wszyskim jedną klasę ale słaba reszta metryk)\n",
    "można zastosować bo znamy liczbę klas, do których będziemy przypisywać."
   ],
   "metadata": {
    "collapsed": false,
    "pycharm": {
     "name": "#%% md\n"
    }
   }
  },
  {
   "cell_type": "code",
   "execution_count": 54,
   "metadata": {},
   "outputs": [],
   "source": [
    "def get_mapping_dict(y_hat_nans, y_pred) -> dict:\n",
    "    values_counts = y_hat_nans.value_counts().reset_index(name=\"count\")\n",
    "    # print(values_counts)\n",
    "    # print(f\"Index: {values_counts.index}\")\n",
    "    most_frequent_class = values_counts[\"index\"].iloc[0]\n",
    "    # print(most_frequent_class)\n",
    "    mapping_dict = {}\n",
    "    y_data = pd.DataFrame()\n",
    "    y_data[\"y_hat_nans\"] = y_hat_nans\n",
    "    y_data[\"y\"] = y_pred\n",
    "    y_data[\"c\"] = 1\n",
    "    y_data = y_data.groupby([\"y\", \"y_hat_nans\"])[\"c\"].sum()  #.max(level=[0])#.sort_values().groupby(level=0)\n",
    "    # print(y_data)\n",
    "    out = y_data.loc[y_data.groupby(level=0).idxmax()]\n",
    "    # print(out)\n",
    "    for row in out.index:\n",
    "        mapping_dict[row[0]] = row[1]\n",
    "    for i in range(np.unique(y_pred).shape[0]):\n",
    "        if i not in mapping_dict.keys():\n",
    "            mapping_dict[i] = most_frequent_class\n",
    "    return mapping_dict"
   ]
  },
  {
   "cell_type": "code",
   "execution_count": 9,
   "outputs": [
    {
     "name": "stdout",
     "output_type": "stream",
     "text": [
      "(8735, 40)\n"
     ]
    },
    {
     "data": {
      "text/plain": "<Figure size 432x288 with 1 Axes>",
      "image/png": "[encoded data removed]"
     },
     "metadata": {
      "needs_background": "light"
     },
     "output_type": "display_data"
    },
    {
     "name": "stdout",
     "output_type": "stream",
     "text": [
      "Cat len: 15\n",
      "[12  4  5 ...  2 11 12]\n"
     ]
    },
    {
     "ename": "NameError",
     "evalue": "name 'get_mapping_dict' is not defined",
     "output_type": "error",
     "traceback": [
      "\u001B[1;31m---------------------------------------------------------------------------\u001B[0m",
      "\u001B[1;31mNameError\u001B[0m                                 Traceback (most recent call last)",
      "\u001B[1;32m<ipython-input-9-1b7958251e32>\u001B[0m in \u001B[0;36m<module>\u001B[1;34m\u001B[0m\n\u001B[0;32m     24\u001B[0m \u001B[0my\u001B[0m \u001B[1;33m=\u001B[0m \u001B[0mmodel\u001B[0m\u001B[1;33m.\u001B[0m\u001B[0mpredict\u001B[0m\u001B[1;33m(\u001B[0m\u001B[0mx\u001B[0m\u001B[1;33m)\u001B[0m\u001B[1;33m\u001B[0m\u001B[1;33m\u001B[0m\u001B[0m\n\u001B[0;32m     25\u001B[0m \u001B[0mprint\u001B[0m\u001B[1;33m(\u001B[0m\u001B[0my\u001B[0m\u001B[1;33m)\u001B[0m\u001B[1;33m\u001B[0m\u001B[1;33m\u001B[0m\u001B[0m\n\u001B[1;32m---> 26\u001B[1;33m \u001B[0mshow_stats\u001B[0m\u001B[1;33m(\u001B[0m\u001B[0my_hat\u001B[0m\u001B[1;33m,\u001B[0m \u001B[0my_hat_nans\u001B[0m\u001B[1;33m,\u001B[0m \u001B[0my\u001B[0m\u001B[1;33m)\u001B[0m\u001B[1;33m\u001B[0m\u001B[1;33m\u001B[0m\u001B[0m\n\u001B[0m\u001B[0;32m     27\u001B[0m \u001B[1;33m\u001B[0m\u001B[0m\n\u001B[0;32m     28\u001B[0m \u001B[1;33m\u001B[0m\u001B[0m\n",
      "\u001B[1;32m<ipython-input-2-240141fcaaee>\u001B[0m in \u001B[0;36mshow_stats\u001B[1;34m(y_hat, y_hat_nans, y)\u001B[0m\n\u001B[0;32m      1\u001B[0m \u001B[1;32mdef\u001B[0m \u001B[0mshow_stats\u001B[0m\u001B[1;33m(\u001B[0m\u001B[0my_hat\u001B[0m\u001B[1;33m,\u001B[0m \u001B[0my_hat_nans\u001B[0m\u001B[1;33m,\u001B[0m \u001B[0my\u001B[0m\u001B[1;33m)\u001B[0m\u001B[1;33m:\u001B[0m\u001B[1;33m\u001B[0m\u001B[1;33m\u001B[0m\u001B[0m\n\u001B[1;32m----> 2\u001B[1;33m     \u001B[0mmapping_dict\u001B[0m \u001B[1;33m=\u001B[0m \u001B[0mget_mapping_dict\u001B[0m\u001B[1;33m(\u001B[0m\u001B[0my_hat_nans\u001B[0m\u001B[1;33m,\u001B[0m \u001B[0my\u001B[0m\u001B[1;33m)\u001B[0m\u001B[1;33m\u001B[0m\u001B[1;33m\u001B[0m\u001B[0m\n\u001B[0m\u001B[0;32m      3\u001B[0m     \u001B[0mprint\u001B[0m\u001B[1;33m(\u001B[0m\u001B[0mmapping_dict\u001B[0m\u001B[1;33m)\u001B[0m\u001B[1;33m\u001B[0m\u001B[1;33m\u001B[0m\u001B[0m\n\u001B[0;32m      4\u001B[0m     \u001B[0my_mapped\u001B[0m \u001B[1;33m=\u001B[0m \u001B[0mpd\u001B[0m\u001B[1;33m.\u001B[0m\u001B[0mSeries\u001B[0m\u001B[1;33m(\u001B[0m\u001B[0my\u001B[0m\u001B[1;33m)\u001B[0m\u001B[1;33m.\u001B[0m\u001B[0mapply\u001B[0m\u001B[1;33m(\u001B[0m\u001B[1;32mlambda\u001B[0m \u001B[0mx\u001B[0m\u001B[1;33m:\u001B[0m \u001B[0mmapping_dict\u001B[0m\u001B[1;33m[\u001B[0m\u001B[0mx\u001B[0m\u001B[1;33m]\u001B[0m\u001B[1;33m)\u001B[0m\u001B[1;33m\u001B[0m\u001B[1;33m\u001B[0m\u001B[0m\n\u001B[0;32m      5\u001B[0m     \u001B[0mprint\u001B[0m\u001B[1;33m(\u001B[0m\u001B[1;34mf\"Accuracy: {accuracy_score(y_hat, y_mapped)}\"\u001B[0m\u001B[1;33m)\u001B[0m\u001B[1;33m\u001B[0m\u001B[1;33m\u001B[0m\u001B[0m\n",
      "\u001B[1;31mNameError\u001B[0m: name 'get_mapping_dict' is not defined"
     ]
    },
    {
     "data": {
      "text/plain": "<Figure size 432x288 with 1 Axes>",
      "image/png": "[encoded data removed]"
     },
     "metadata": {
      "needs_background": "light"
     },
     "output_type": "display_data"
    }
   ],
   "source": [
    "select = SelectKBest(chi2, k=40)\n",
    "select.fit(x_not_nan, y_not_nan)\n",
    "x = select.transform(videos)\n",
    "print(x.shape)\n",
    "\n",
    "k_list = np.arange(2, 20)\n",
    "inertias = np.zeros_like(k_list, dtype=np.float)\n",
    "silhouettes = np.zeros_like(k_list, dtype=np.float)\n",
    "for i, k in enumerate(k_list):\n",
    "    model = KMeans(k)\n",
    "    # model.fit(x)\n",
    "    labels = model.fit_predict(x)\n",
    "    inertias[i] = model.inertia_\n",
    "    silhouettes[i] = silhouette_score(x, labels)\n",
    "\n",
    "plt.plot(k_list, inertias)\n",
    "plt.title(\"Interias\")\n",
    "plt.show()\n",
    "plt.plot(k_list, silhouettes)\n",
    "plt.title(\"Silhouette\")\n",
    "print(f\"Cat len: {len(categories)}\")\n",
    "model = KMeans(len(categories))\n",
    "model.fit(x)\n",
    "y = model.predict(x)\n",
    "print(y)\n",
    "show_stats(y_hat, y_hat_nans, y)\n"
   ],
   "metadata": {
    "collapsed": false,
    "pycharm": {
     "name": "#%%\n"
    }
   }
  },
  {
   "source": [
    "Semi supervised Constrained KMeans (punkt 3.1 z https://arxiv.org/pdf/1806.01547v2.pdf)"
   ],
   "cell_type": "markdown",
   "metadata": {}
  },
  {
   "cell_type": "code",
   "execution_count": 97,
   "metadata": {},
   "outputs": [
    {
     "output_type": "stream",
     "name": "stdout",
     "text": [
      "[ 1.  2. 10. 15. 17. 19. 20. 22. 23. 24. 25. 26. 27. 28. 29. 43.]\n['Entertainment', 'People & Blogs', 'Sports', 'Music', 'Howto & Style', 'Gaming', 'Film & Animation', 'News & Politics', 'Comedy', 'Travel & Events', 'Education', 'Pets & Animals', 'Science & Technology', 'Autos & Vehicles', 'Nonprofits & Activism']\n16 15\n8735 8735\n"
     ]
    }
   ],
   "source": [
    "print(np.unique(y_not_nan))\n",
    "print(categories)\n",
    "print(num_groups, len(categories))\n",
    "print(x_not_nan.shape[0]+ x_only_nan.shape[0], videos.shape[0])"
   ]
  },
  {
   "cell_type": "code",
   "execution_count": 96,
   "metadata": {
    "tags": []
   },
   "outputs": [
    {
     "output_type": "stream",
     "name": "stdout",
     "text": [
      "(16, 77)\n"
     ]
    }
   ],
   "source": [
    "groups_index = np.unique(y_not_nan)\n",
    "groups_dict = {e:i for i,e in enumerate(groups_index)}\n",
    "num_groups = len(groups_index)\n",
    "\n",
    "# print(groups_dict)\n",
    "\n",
    "groups = [[] for x in range(num_groups)]\n",
    "for xp,yp in zip(x_not_nan,y_not_nan):\n",
    "    groups[groups_dict[yp]].append(xp)\n",
    "\n",
    "centroids = []\n",
    "for g in groups:\n",
    "    centroids.append(np.mean(g, axis = 0))\n",
    "\n",
    "centroids = np.array(centroids)\n",
    "print(centroids.shape)\n"
   ]
  },
  {
   "cell_type": "code",
   "execution_count": 93,
   "metadata": {},
   "outputs": [
    {
     "output_type": "stream",
     "name": "stdout",
     "text": [
      "{0: 10.0, 1: 19.0, 2: 10.0, 3: 15.0, 4: 17.0, 5: 25.0, 6: 24.0, 7: 24.0, 8: 24.0, 9: 24.0, 10: 25.0, 11: 24.0, 12: 27.0, 13: 28.0, 14: 10.0, 15: 10.0}\n",
      "Accuracy: 0.3941614195764167\n",
      "F1: 0.25191083276275494\n",
      "Precision: 0.3386610341568044\n",
      "Recall: 0.2440992529971345\n",
      "ROC AUC Score OVR: 0.5961524615394606\n",
      "ROC AUC Score OVO: 0.5961524615394606\n",
      "/home/michal/.virtualenvs/ml/lib/python3.8/site-packages/sklearn/metrics/_classification.py:1245: UndefinedMetricWarning: Precision is ill-defined and being set to 0.0 in labels with no predicted samples. Use `zero_division` parameter to control this behavior.\n",
      "  _warn_prf(average, modifier, msg_start, len(result))\n"
     ]
    }
   ],
   "source": [
    "new_centroids = centroids[:]\n",
    "\n",
    "for itr in range(100):\n",
    "    model = KMeans(n_clusters = num_groups, init = new_centroids, n_init = 1,  max_iter = 1)\n",
    "    labels = model.fit_predict(x_only_nan)\n",
    "    new_groups = [[] for x in range(num_groups)]\n",
    "    for i,l in enumerate(labels):\n",
    "        new_groups[l].append(x_only_nan[i])\n",
    "\n",
    "\n",
    "    new_centroids = []\n",
    "    for i,g in enumerate(new_groups):\n",
    "        g = g + groups[i]\n",
    "        new_centroids.append(np.mean(g, axis = 0))\n",
    "    new_centroids = np.array(new_centroids)\n",
    "\n",
    "y = model.predict(videos)\n",
    "show_stats(y_hat, y_hat_nans, y)\n",
    "\n",
    "\n"
   ]
  },
  {
   "cell_type": "markdown",
   "source": [
    "AHC - bo mamy zdefiniowaną liczbę grup?"
   ],
   "metadata": {
    "collapsed": false,
    "pycharm": {
     "name": "#%% md\n"
    }
   }
  },
  {
   "cell_type": "code",
   "execution_count": null,
   "outputs": [],
   "source": [
    "model = AgglomerativeClustering(len(categories), compute_full_tree=True)\n",
    "# model = DBSCAN(eps=0.6, min_samples=5)\n",
    "model.fit(x)\n",
    "y = model.labels_\n",
    "\n",
    "show_stats(y_hat, y_hat_nans, y)"
   ],
   "metadata": {
    "collapsed": false,
    "pycharm": {
     "name": "#%%\n"
    }
   }
  },
  {
   "cell_type": "markdown",
   "source": [
    "DBSCAN - bo mamy grupy różnej wielkości ?"
   ],
   "metadata": {
    "collapsed": false,
    "pycharm": {
     "name": "#%% md\n"
    }
   }
  },
  {
   "cell_type": "code",
   "execution_count": null,
   "outputs": [],
   "source": [
    "model = DBSCAN(eps=0.1, min_samples=5)\n",
    "model.fit(x)\n",
    "y = model.labels_\n",
    "show_stats(y_hat, y_hat_nans, y)"
   ],
   "metadata": {
    "collapsed": false,
    "pycharm": {
     "name": "#%%\n"
    }
   }
  },
  {
   "cell_type": "markdown",
   "source": [
    "### DBSCAN eps Tuning"
   ],
   "metadata": {
    "collapsed": false,
    "pycharm": {
     "name": "#%% md\n"
    }
   }
  },
  {
   "cell_type": "code",
   "execution_count": null,
   "outputs": [],
   "source": [
    "nn = NearestNeighbors(n_neighbors=11)\n",
    "neighbors = nn.fit(x)\n",
    "dist, ind = neighbors.kneighbors()\n",
    "\n",
    "dist = np.sort(dist[:, 10], axis=0)\n",
    "\n",
    "plt.plot(dist)\n",
    "plt.xlabel(\"Points\")\n",
    "plt.ylabel(\"Dist\")\n",
    "plt.show()"
   ],
   "metadata": {
    "collapsed": false,
    "pycharm": {
     "name": "#%%\n"
    }
   }
  }
 ],
 "metadata": {
  "kernelspec": {
   "name": "python385jvsc74a57bd0258d9c3fe2c2041f692db8763ec1691cd73586bc3236962ad99db3f9aaf4b0b7",
   "display_name": "Python 3.8.5 64-bit ('ml': virtualenvwrapper)"
  },
  "language_info": {
   "codemirror_mode": {
    "name": "ipython",
    "version": 2
   },
   "file_extension": ".py",
   "mimetype": "text/x-python",
   "name": "python",
   "nbconvert_exporter": "python",
   "pygments_lexer": "ipython2",
   "version": "3.8.5"
  },
  "metadata": {
   "interpreter": {
    "hash": "258d9c3fe2c2041f692db8763ec1691cd73586bc3236962ad99db3f9aaf4b0b7"
   }
  }
 },
 "nbformat": 4,
 "nbformat_minor": 0
}