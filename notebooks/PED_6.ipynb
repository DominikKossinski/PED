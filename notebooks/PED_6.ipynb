{
 "cells": [
  {
   "cell_type": "markdown",
   "metadata": {
    "collapsed": true,
    "pycharm": {
     "name": "#%% md\n"
    }
   },
   "source": [
    "# YouTube trending videos"
   ]
  },
  {
   "cell_type": "markdown",
   "source": [
    "## Etap 6 - Klasyfikator i wiedza dla klienta\n",
    "\n",
    "\n",
    "### Wybór miar oceny klasyfikatora\n",
    "\n",
    "### Wybór klasyfikatora\n",
    "\n",
    "### Uczenie klasyfikatora\n",
    "\n",
    "### Testowanie klasyfikatora\n",
    "\n",
    "### Interpretacja predykcji\n",
    "\n",
    "### Wiedza dla klienta"
   ],
   "metadata": {
    "collapsed": false,
    "pycharm": {
     "name": "#%% md\n"
    }
   }
  }
 ],
 "metadata": {
  "kernelspec": {
   "display_name": "Python 3",
   "language": "python",
   "name": "python3"
  },
  "language_info": {
   "codemirror_mode": {
    "name": "ipython",
    "version": 2
   },
   "file_extension": ".py",
   "mimetype": "text/x-python",
   "name": "python",
   "nbconvert_exporter": "python",
   "pygments_lexer": "ipython2",
   "version": "2.7.6"
  }
 },
 "nbformat": 4,
 "nbformat_minor": 0
}