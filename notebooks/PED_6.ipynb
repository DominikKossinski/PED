{
 "cells": [
  {
   "cell_type": "markdown",
   "metadata": {
    "collapsed": true,
    "pycharm": {
     "name": "#%% md\n"
    }
   },
   "source": [
    "# YouTube trending videos"
   ]
  },
  {
   "cell_type": "markdown",
   "source": [
    "## Etap 6 - Klasyfikator i wiedza dla klienta\n",
    "\n",
    "\n",
    "### Wybór miar oceny klasyfikatorów\n",
    "\n",
    "### Wybór pierwszego klasyfikatora\n",
    "\n",
    "### Uczenie pierwszego klasyfikatora\n",
    "\n",
    "### Testowanie pierwszego klasyfikatora\n",
    "\n",
    "### Interpretacja predykcji pierwszego klasyfikatora\n",
    "\n",
    "\n",
    "### Wybór drugiego klasyfikatora\n",
    "\n",
    "### Uczenie drugiego klasyfikatora\n",
    "\n",
    "### Testowanie drugiego klasyfikatora\n",
    "\n",
    "### Interpretacja predykcji drugiego klasyfikatora\n",
    "\n",
    "### Porównanie wyników klasyfikatorów\n",
    "\n",
    "### Wiedza dla klienta"
   ],
   "metadata": {
    "collapsed": false,
    "pycharm": {
     "name": "#%% md\n"
    }
   }
  }
 ],
 "metadata": {
  "kernelspec": {
   "display_name": "Python 3",
   "language": "python",
   "name": "python3"
  },
  "language_info": {
   "codemirror_mode": {
    "name": "ipython",
    "version": 2
   },
   "file_extension": ".py",
   "mimetype": "text/x-python",
   "name": "python",
   "nbconvert_exporter": "python",
   "pygments_lexer": "ipython2",
   "version": "2.7.6"
  }
 },
 "nbformat": 4,
 "nbformat_minor": 0
}