{
 "cells": [
  {
   "cell_type": "markdown",
   "source": [
    "# YouTube trending videos"
   ],
   "metadata": {
    "collapsed": false
   }
  },
  {
   "cell_type": "code",
   "execution_count": 1,
   "metadata": {
    "collapsed": true
   },
   "outputs": [],
   "source": [
    "import matplotlib.pyplot as plt\n",
    "import pandas as pd\n",
    "\n",
    "from helpers.files import load_csv"
   ]
  },
  {
   "cell_type": "code",
   "source": [
    "publish_time_counts = videos[\"trending_date\"].value_counts()\n",
    "publish_time_counts = publish_time_counts.rename_axis(\"trending_date\").reset_index(name=\"count\")\n",
    "\n",
    "print(publish_time_counts)\n",
    "plt.bar(pd.to_datetime(publish_time_counts[\"trending_date\"], format=\"%y.%d.%m\"), publish_time_counts[\"count\"])\n",
    "plt.show()\n",
    "\n",
    "gb_videos, us_videos = load_csv(\"clustering_data\")\n",
    "videos = pd.concat([gb_videos, us_videos])\n",
    "videos = videos[videos[\"new_category_id\"].notna()]\n",
    "print(len(videos))"
   ],
   "metadata": {
    "collapsed": false,
    "pycharm": {
     "name": "#%%\n"
    }
   },
   "execution_count": null,
   "outputs": []
  },
  {
   "cell_type": "code",
   "execution_count": 3,
   "outputs": [
    {
     "data": {
      "text/plain": "<Figure size 432x288 with 1 Axes>",
      "image/png": "[encoded data removed]"
     },
     "metadata": {
      "needs_background": "light"
     },
     "output_type": "display_data"
    }
   ],
   "source": [
    "attr_c = gb_videos[\"new_category_id\"].value_counts()\n",
    "attr_c = attr_c.rename_axis(\"new_category_id\").reset_index(name=\"count\")\n",
    "labels = [str(i) for i in attr_c[\"new_category_id\"]]\n",
    "plt.bar(labels, attr_c[\"count\"])\n",
    "plt.xticks(rotation=270, fontsize=15)\n",
    "plt.show()"
   ],
   "metadata": {
    "collapsed": false,
    "pycharm": {
     "name": "#%%\n"
    }
   }
  },
  {
   "cell_type": "markdown",
   "source": [
    "## Etap 5 - Zbieranie danych nie-trending\n",
    "\n",
    "### Skrypt do zbierania danych trending\n",
    "\n",
    "Pierwszym krokiem, który został wykonany w ramach tego etapu było\n",
    "zapoznanie się z oryginalnym skryptem do pobierania danych „trending\".\n",
    "Skrypt jest dostępny w repozytorium [Trending-Youtube-Scraper](https://github.com/mitchelljy/Trending-YouTube-Scraper).\n",
    "\n",
    "Oryginalny skrypt do pobierania danych -> w jego\n",
    "kontekscie można opisać dlaczego tak pobieramy\n",
    "\n",
    "### Pomysł na pobranie danych nie trending\n",
    "\n",
    "- Podział okresu 11.2017-07.2018 na 4 podokresy\n",
    "- Zbieranie danych „proporcjami” wystąpień kategorii podobnymi do oryginalnych\n",
    "- Filtrowanie filmów trending\n",
    "- Filtrowanie ewentualnych powtórzeń\n",
    "- Uzupełnianie statystyk\n",
    "\n",
    "Testowe dane\n",
    "\n",
    "### Wczytanie danych trending"
   ],
   "metadata": {
    "collapsed": false,
    "pycharm": {
     "name": "#%% md\n"
    }
   }
  },
  {
   "cell_type": "code",
   "execution_count": null,
   "outputs": [],
   "source": [
    "gb_videos, us_videos = load_csv(\"ped3_data\")\n",
    "trending_videos = pd.concat([gb_videos, us_videos])"
   ],
   "metadata": {
    "collapsed": false,
    "pycharm": {
     "name": "#%%\n"
    }
   }
  },
  {
   "cell_type": "markdown",
   "source": [
    "### Wczytanie danych nie trending"
   ],
   "metadata": {
    "collapsed": false
   }
  },
  {
   "cell_type": "code",
   "execution_count": null,
   "outputs": [],
   "source": [
    "gb_non_videos, us_non_videos = load_csv(\"ped5_full_data\")\n",
    "non_trending_videos = pd.concat([gb_non_videos, us_non_videos])"
   ],
   "metadata": {
    "collapsed": false,
    "pycharm": {
     "name": "#%%\n"
    }
   }
  },
  {
   "cell_type": "code",
   "source": [
    "gb_downloaded, us_downloaded = load_csv(\"ped5_full_data\")\n",
    "videos_d = pd.concat([gb_downloaded, us_downloaded])\n"
   ],
   "metadata": {
    "collapsed": false,
    "pycharm": {
     "name": "#%%\n"
    }
   },
   "execution_count": 4,
   "outputs": []
  },
  {
   "cell_type": "code",
   "execution_count": 7,
   "outputs": [
    {
     "data": {
      "text/plain": "<Figure size 432x288 with 1 Axes>",
      "image/png": "[encoded data removed]"
     },
     "metadata": {
      "needs_background": "light"
     },
     "output_type": "display_data"
    },
    {
     "name": "stdout",
     "output_type": "stream",
     "text": [
      "              publish_time  count\n",
      "0     2018-02-22T13:43:29Z     20\n",
      "1     2018-02-22T13:43:30Z     12\n",
      "2     2018-06-26T06:57:35Z      8\n",
      "3     2018-01-26T05:00:01Z      8\n",
      "4     2018-02-17T02:45:00Z      8\n",
      "...                    ...    ...\n",
      "7106  2017-11-16T13:30:00Z      1\n",
      "7107  2018-06-06T10:28:04Z      1\n",
      "7108  2018-02-27T11:30:00Z      1\n",
      "7109  2018-01-26T18:42:13Z      1\n",
      "7110  2017-12-17T01:06:46Z      1\n",
      "\n",
      "[7111 rows x 2 columns]\n"
     ]
    },
    {
     "data": {
      "text/plain": "<Figure size 432x288 with 1 Axes>",
      "image/png": "[encoded data removed]"
     },
     "metadata": {
      "needs_background": "light"
     },
     "output_type": "display_data"
    }
   ],
   "source": [
    "attr_c = videos_d[\"category_id\"].value_counts()\n",
    "attr_c = attr_c.rename_axis(\"category_id\").reset_index(name=\"count\")\n",
    "labels = [str(i) for i in attr_c[\"category_id\"]]\n",
    "plt.bar(labels, attr_c[\"count\"])\n",
    "plt.xticks(rotation=270, fontsize=15)\n",
    "plt.show()\n",
    "\n",
    "\n",
    "publish_time_counts = videos_d[\"publish_time\"].value_counts()\n",
    "publish_time_counts = publish_time_counts.rename_axis(\"publish_time\").reset_index(name=\"count\")\n",
    "\n",
    "print(publish_time_counts)\n",
    "plt.bar(pd.to_datetime(publish_time_counts[\"publish_time\"], format=\"%Y-%m-%dT%H:%M:%SZ\"), publish_time_counts[\"count\"])\n",
    "plt.show()\n"
   ],
   "metadata": {
    "collapsed": false,
    "pycharm": {
     "name": "#%%\n"
    }
   }
  }
 ],
 "metadata": {
  "kernelspec": {
   "display_name": "Python 3",
   "language": "python",
   "name": "python3"
  },
  "language_info": {
   "codemirror_mode": {
    "name": "ipython",
    "version": 2
   },
   "file_extension": ".py",
   "mimetype": "text/x-python",
   "name": "python",
   "nbconvert_exporter": "python",
   "pygments_lexer": "ipython2",
   "version": "2.7.6"
  }
 },
 "nbformat": 4,
 "nbformat_minor": 0
}