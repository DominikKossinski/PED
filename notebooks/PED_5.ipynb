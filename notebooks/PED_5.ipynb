{
 "cells": [
  {
   "cell_type": "markdown",
   "source": [
    "# YouTube trending videos"
   ],
   "metadata": {
    "collapsed": false
   }
  },
  {
   "cell_type": "code",
   "execution_count": 40,
   "metadata": {
    "collapsed": true
   },
   "outputs": [],
   "source": [
    "import numpy as np\n",
    "from numpy import nan\n",
    "nan\n",
    "import pandas as pd\n",
    "from matplotlib import pyplot as plt\n",
    "\n",
    "from helpers.files import load_csv\n",
    "\n",
    "numeric_attrs = [\n",
    "    \"views\", \"likes\", \"dislikes\", \"comment_count\", \"description_len\", \"title_len\", \"channel_title_len\",\n",
    "    \"publish_time_day_of_week\", \"publish_time_hour_of_day\", \"publish_time\"\n",
    "]\n"
   ]
  },
  {
   "cell_type": "markdown",
   "source": [
    "## Etap 5 - Zbieranie danych nie-trending\n",
    "\n",
    "### Skrypt do zbierania danych trending\n",
    "\n",
    "Pierwszym krokiem, który został wykonany w ramach tego etapu było\n",
    "zapoznanie się z oryginalnym skryptem do pobierania danych „trending\".\n",
    "Skrypt jest dostępny w repozytorium [Trending-Youtube-Scraper](https://github.com/mitchelljy/Trending-YouTube-Scraper).\n",
    "\n",
    "Oryginalny skrypt do pobierania danych -> w jego\n",
    "kontekscie można opisać dlaczego tak pobieramy\n",
    "\n",
    "### Pomysł na pobranie danych nie trending\n",
    "\n",
    "- Podział okresu 11.2017-07.2018 na 4 podokresy\n",
    "- Zbieranie danych „proporcjami” wystąpień kategorii podobnymi do oryginalnych\n",
    "- Filtrowanie filmów trending\n",
    "- Filtrowanie ewentualnych powtórzeń\n",
    "- Uzupełnianie statystyk\n",
    "\n",
    "Testowe dane\n",
    "\n",
    "### Wczytanie danych trending"
   ],
   "metadata": {
    "collapsed": false,
    "pycharm": {
     "name": "#%% md\n"
    }
   }
  },
  {
   "cell_type": "code",
   "execution_count": 41,
   "outputs": [],
   "source": [
    "gb_videos, us_videos = load_csv(\"ped3_data\")\n",
    "trending_videos = pd.concat([gb_videos, us_videos])\n",
    "\n",
    "for name in numeric_attrs:\n",
    "    trending_videos[name] = trending_videos[name].apply(lambda x: eval(x)[0] if eval(x) else np.nan)\n",
    "\n"
   ],
   "metadata": {
    "collapsed": false,
    "pycharm": {
     "name": "#%%\n"
    }
   }
  },
  {
   "cell_type": "markdown",
   "source": [
    "### Wczytanie danych nie trending"
   ],
   "metadata": {
    "collapsed": false
   }
  },
  {
   "cell_type": "code",
   "execution_count": 42,
   "outputs": [],
   "source": [
    "gb_non_videos, us_non_videos = load_csv(\"ped5_full_data\")\n",
    "non_trending_videos = pd.concat([gb_non_videos, us_non_videos])\n",
    "non_trending_videos.rename(columns={\"category_id\": \"new_category_id\"}, inplace=True)"
   ],
   "metadata": {
    "collapsed": false,
    "pycharm": {
     "name": "#%%\n"
    }
   }
  },
  {
   "cell_type": "markdown",
   "source": [
    "### Atrybuty liczbowe\n",
    "\n",
    "**Funkcja do rysowania wykresów**"
   ],
   "metadata": {
    "collapsed": false,
    "pycharm": {
     "name": "#%% md\n"
    }
   }
  },
  {
   "cell_type": "code",
   "execution_count": 43,
   "outputs": [],
   "source": [
    "def plot_numeric_attr(attr_name: str, trending: pd.DataFrame, non_trending: pd.DataFrame) -> None:\n",
    "    fig, axes = plt.subplots(nrows=2, ncols=2, figsize=(10, 5))\n",
    "    axes[0, 0].hist(trending[attr_name])\n",
    "    axes[0, 0].title.set_text(f\"Trending: {attr_name}\")\n",
    "    axes[0, 1].hist(non_trending[attr_name])\n",
    "    axes[0, 1].title.set_text(f\"Non Trending: {attr_name}\")\n",
    "    axes[1, 0].boxplot(\n",
    "        [trending[trending[attr_name].notna()][attr_name], non_trending[attr_name]],\n",
    "        labels=[\"Trending\", \"Non Trending\"]\n",
    "    )\n",
    "    axes[1, 1].boxplot(\n",
    "        [[trending[attr_name].notna()][attr_name], non_trending[attr_name]],\n",
    "        labels=[\"Trending\", \"Non Trending\"],\n",
    "        showfliers=False\n",
    "    )"
   ],
   "metadata": {
    "collapsed": false,
    "pycharm": {
     "name": "#%%\n"
    }
   }
  },
  {
   "cell_type": "markdown",
   "source": [
    "**Views**"
   ],
   "metadata": {
    "collapsed": false,
    "pycharm": {
     "name": "#%% md\n"
    }
   }
  },
  {
   "cell_type": "code",
   "source": [
    "plot_numeric_attr(\"views\", trending_videos, non_trending_videos)"
   ],
   "metadata": {
    "collapsed": false,
    "pycharm": {
     "name": "#%%\n"
    }
   },
   "execution_count": 44,
   "outputs": [
    {
     "ename": "TypeError",
     "evalue": "list indices must be integers or slices, not str",
     "output_type": "error",
     "traceback": [
      "\u001B[1;31m---------------------------------------------------------------------------\u001B[0m",
      "\u001B[1;31mTypeError\u001B[0m                                 Traceback (most recent call last)",
      "\u001B[1;32m<ipython-input-44-879885d0a251>\u001B[0m in \u001B[0;36m<module>\u001B[1;34m\u001B[0m\n\u001B[1;32m----> 1\u001B[1;33m \u001B[0mplot_numeric_attr\u001B[0m\u001B[1;33m(\u001B[0m\u001B[1;34m\"views\"\u001B[0m\u001B[1;33m,\u001B[0m \u001B[0mtrending_videos\u001B[0m\u001B[1;33m,\u001B[0m \u001B[0mnon_trending_videos\u001B[0m\u001B[1;33m)\u001B[0m\u001B[1;33m\u001B[0m\u001B[1;33m\u001B[0m\u001B[0m\n\u001B[0m\u001B[0;32m      2\u001B[0m \u001B[1;33m\u001B[0m\u001B[0m\n",
      "\u001B[1;32m<ipython-input-43-c545c4800171>\u001B[0m in \u001B[0;36mplot_numeric_attr\u001B[1;34m(attr_name, trending, non_trending)\u001B[0m\n\u001B[0;32m     12\u001B[0m     )\n\u001B[0;32m     13\u001B[0m     axes[1, 1].boxplot(\n\u001B[1;32m---> 14\u001B[1;33m         \u001B[1;33m[\u001B[0m\u001B[1;33m[\u001B[0m\u001B[0mtrending\u001B[0m\u001B[1;33m[\u001B[0m\u001B[0mattr_name\u001B[0m\u001B[1;33m]\u001B[0m\u001B[1;33m.\u001B[0m\u001B[0mnotna\u001B[0m\u001B[1;33m(\u001B[0m\u001B[1;33m)\u001B[0m\u001B[1;33m]\u001B[0m\u001B[1;33m[\u001B[0m\u001B[0mattr_name\u001B[0m\u001B[1;33m]\u001B[0m\u001B[1;33m,\u001B[0m \u001B[0mnon_trending\u001B[0m\u001B[1;33m[\u001B[0m\u001B[0mattr_name\u001B[0m\u001B[1;33m]\u001B[0m\u001B[1;33m]\u001B[0m\u001B[1;33m,\u001B[0m\u001B[1;33m\u001B[0m\u001B[1;33m\u001B[0m\u001B[0m\n\u001B[0m\u001B[0;32m     15\u001B[0m         \u001B[0mlabels\u001B[0m\u001B[1;33m=\u001B[0m\u001B[1;33m[\u001B[0m\u001B[1;34m\"Trending\"\u001B[0m\u001B[1;33m,\u001B[0m \u001B[1;34m\"Non Trending\"\u001B[0m\u001B[1;33m]\u001B[0m\u001B[1;33m,\u001B[0m\u001B[1;33m\u001B[0m\u001B[1;33m\u001B[0m\u001B[0m\n\u001B[0;32m     16\u001B[0m         \u001B[0mshowfliers\u001B[0m\u001B[1;33m=\u001B[0m\u001B[1;32mFalse\u001B[0m\u001B[1;33m\u001B[0m\u001B[1;33m\u001B[0m\u001B[0m\n",
      "\u001B[1;31mTypeError\u001B[0m: list indices must be integers or slices, not str"
     ]
    },
    {
     "data": {
      "text/plain": "<Figure size 720x360 with 4 Axes>",
      "image/png": "[encoded data removed]"
     },
     "metadata": {
      "needs_background": "light"
     },
     "output_type": "display_data"
    }
   ]
  },
  {
   "cell_type": "markdown",
   "source": [
    "**Likes**"
   ],
   "metadata": {
    "collapsed": false,
    "pycharm": {
     "name": "#%% md\n"
    }
   }
  },
  {
   "cell_type": "code",
   "execution_count": null,
   "outputs": [],
   "source": [
    "plot_numeric_attr(\"likes\", trending_videos, non_trending_videos)"
   ],
   "metadata": {
    "collapsed": false,
    "pycharm": {
     "name": "#%%\n"
    }
   }
  },
  {
   "cell_type": "markdown",
   "source": [
    "**Dislikes**"
   ],
   "metadata": {
    "collapsed": false,
    "pycharm": {
     "name": "#%% md\n"
    }
   }
  },
  {
   "cell_type": "code",
   "execution_count": null,
   "outputs": [],
   "source": [
    "plot_numeric_attr(\"dislikes\", trending_videos, non_trending_videos)"
   ],
   "metadata": {
    "collapsed": false,
    "pycharm": {
     "name": "#%%\n"
    }
   }
  },
  {
   "cell_type": "markdown",
   "source": [
    "**Comment Count**"
   ],
   "metadata": {
    "collapsed": false,
    "pycharm": {
     "name": "#%% md\n"
    }
   }
  },
  {
   "cell_type": "code",
   "execution_count": null,
   "outputs": [],
   "source": [
    "plot_numeric_attr(\"comment_count\", trending_videos, non_trending_videos)"
   ],
   "metadata": {
    "collapsed": false,
    "pycharm": {
     "name": "#%%\n"
    }
   }
  },
  {
   "cell_type": "markdown",
   "source": [
    "**Description length**"
   ],
   "metadata": {
    "collapsed": false,
    "pycharm": {
     "name": "#%% md\n"
    }
   }
  },
  {
   "cell_type": "code",
   "execution_count": null,
   "outputs": [],
   "source": [
    "plot_numeric_attr(\"description_len\", trending_videos, non_trending_videos)"
   ],
   "metadata": {
    "collapsed": false,
    "pycharm": {
     "name": "#%%\n"
    }
   }
  },
  {
   "cell_type": "markdown",
   "source": [
    "**Title length**"
   ],
   "metadata": {
    "collapsed": false,
    "pycharm": {
     "name": "#%% md\n"
    }
   }
  },
  {
   "cell_type": "code",
   "execution_count": null,
   "outputs": [],
   "source": [
    "plot_numeric_attr(\"title_len\", trending_videos, non_trending_videos)"
   ],
   "metadata": {
    "collapsed": false,
    "pycharm": {
     "name": "#%%\n"
    }
   }
  },
  {
   "cell_type": "markdown",
   "source": [
    "**Channel title length**"
   ],
   "metadata": {
    "collapsed": false,
    "pycharm": {
     "name": "#%% md\n"
    }
   }
  },
  {
   "cell_type": "code",
   "execution_count": null,
   "outputs": [],
   "source": [
    "plot_numeric_attr(\"channel_title_len\", trending_videos, non_trending_videos)\n"
   ],
   "metadata": {
    "collapsed": false,
    "pycharm": {
     "name": "#%%\n"
    }
   }
  },
  {
   "cell_type": "markdown",
   "source": [
    "### Atrybuty czasowe\n",
    "\n",
    "**Dzień opublikowania filmu**"
   ],
   "metadata": {
    "collapsed": false,
    "pycharm": {
     "name": "#%% md\n"
    }
   }
  },
  {
   "cell_type": "code",
   "execution_count": null,
   "outputs": [],
   "source": [
    "plot_numeric_attr(\"publish_time_day_of_week\", trending_videos, non_trending_videos,)"
   ],
   "metadata": {
    "collapsed": false,
    "pycharm": {
     "name": "#%%\n"
    }
   }
  },
  {
   "cell_type": "markdown",
   "source": [
    "**Godzina opublikowania filmu**"
   ],
   "metadata": {
    "collapsed": false,
    "pycharm": {
     "name": "#%% md\n"
    }
   }
  },
  {
   "cell_type": "code",
   "execution_count": null,
   "outputs": [],
   "source": [
    "plot_numeric_attr(\"publish_time_hour_of_day\", trending_videos, non_trending_videos)"
   ],
   "metadata": {
    "collapsed": false,
    "pycharm": {
     "name": "#%%\n"
    }
   }
  },
  {
   "cell_type": "markdown",
   "source": [
    "**Data publikacji**"
   ],
   "metadata": {
    "collapsed": false,
    "pycharm": {
     "name": "#%% md\n"
    }
   }
  },
  {
   "cell_type": "code",
   "execution_count": 58,
   "outputs": [
    {
     "data": {
      "text/plain": "<Figure size 720x360 with 2 Axes>",
      "image/png": "[encoded data removed]"
     },
     "metadata": {
      "needs_background": "light"
     },
     "output_type": "display_data"
    },
    {
     "data": {
      "text/plain": "<Figure size 432x288 with 1 Axes>",
      "image/png": "[encoded data removed]"
     },
     "metadata": {
      "needs_background": "light"
     },
     "output_type": "display_data"
    }
   ],
   "source": [
    "fig, axes = plt.subplots(nrows=1, ncols=2, figsize=(10, 5))\n",
    "\n",
    "trending_publish_time_counts = pd.to_datetime(trending_videos[\"publish_time\"], format=\"%Y-%m-%dT%H:%M:%S.%fZ\").value_counts()\n",
    "trending_publish_time_counts = trending_publish_time_counts.rename_axis(\"publish_time\").reset_index(name=\"count\")\n",
    "\n",
    "publish_times = pd.to_datetime(trending_videos[\"publish_time\"], format=\"%Y-%m-%dT%H:%M:%S.%fZ\")\n",
    "filtered = publish_times[publish_times >= \"2017-01-01\"]\n",
    "filtered_counts = filtered.value_counts().rename_axis(\"publish_time\").reset_index(name=\"count\")\n",
    "\n",
    "\n",
    "non_trending_publish_time_counts = pd.to_datetime(non_trending_videos[\"publish_time\"], format=\"%Y-%m-%dT%H:%M:%SZ\").value_counts()\n",
    "non_trending_publish_time_counts = non_trending_publish_time_counts.rename_axis(\"publish_time\").reset_index(name=\"count\")\n",
    "\n",
    "axes[0].bar(pd.to_datetime(trending_publish_time_counts[\"publish_time\"], format=\"%Y-%m-%dT%H:%M:%S.%fZ\"), trending_publish_time_counts[\"count\"])\n",
    "for tick in axes[0].get_xticklabels():\n",
    "    tick.set_rotation(45)\n",
    "\n",
    "axes[1].bar(pd.to_datetime(non_trending_publish_time_counts[\"publish_time\"], format=\"%Y-%m-%dT%H:%M:%SZ\"), non_trending_publish_time_counts[\"count\"])\n",
    "for tick in axes[1].get_xticklabels():\n",
    "    tick.set_rotation(45)\n",
    "plt.show()\n",
    "\n",
    "plt.bar(pd.to_datetime(filtered_counts[\"publish_time\"], format=\"%Y-%m-%dT%H:%M:%S.%fZ\"), filtered_counts[\"count\"])\n",
    "plt.xticks(rotation=45)\n",
    "plt.show()"
   ],
   "metadata": {
    "collapsed": false,
    "pycharm": {
     "name": "#%%\n"
    }
   }
  },
  {
   "cell_type": "markdown",
   "source": [
    "### Atrybuty tekstowe"
   ],
   "metadata": {
    "collapsed": false,
    "pycharm": {
     "name": "#%% md\n"
    }
   }
  },
  {
   "cell_type": "code",
   "execution_count": null,
   "outputs": [],
   "source": [],
   "metadata": {
    "collapsed": false,
    "pycharm": {
     "name": "#%%"
    }
   }
  }
 ],
 "metadata": {
  "kernelspec": {
   "display_name": "Python 3",
   "language": "python",
   "name": "python3"
  },
  "language_info": {
   "codemirror_mode": {
    "name": "ipython",
    "version": 2
   },
   "file_extension": ".py",
   "mimetype": "text/x-python",
   "name": "python",
   "nbconvert_exporter": "python",
   "pygments_lexer": "ipython2",
   "version": "2.7.6"
  }
 },
 "nbformat": 4,
 "nbformat_minor": 0
}