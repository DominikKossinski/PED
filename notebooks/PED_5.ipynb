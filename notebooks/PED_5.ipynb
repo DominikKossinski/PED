{
 "cells": [
  {
   "cell_type": "markdown",
   "source": [
    "# YouTube trending videos"
   ],
   "metadata": {
    "collapsed": false
   }
  },
  {
   "cell_type": "code",
   "execution_count": 12,
   "metadata": {
    "collapsed": true
   },
   "outputs": [
    {
     "name": "stdout",
     "output_type": "stream",
     "text": [
      "    trending_date  count\n",
      "0        18.07.01    400\n",
      "1        17.17.11    400\n",
      "2        18.06.04    400\n",
      "3        17.26.11    400\n",
      "4        18.19.01    400\n",
      "..            ...    ...\n",
      "200      18.24.05    355\n",
      "201      18.21.05    354\n",
      "202      18.23.05    353\n",
      "203      18.22.05    352\n",
      "204      18.15.05    347\n",
      "\n",
      "[205 rows x 2 columns]\n"
     ]
    },
    {
     "data": {
      "text/plain": "<Figure size 432x288 with 1 Axes>",
      "image/png": "[encoded data removed]"
     },
     "metadata": {
      "needs_background": "light"
     },
     "output_type": "display_data"
    }
   ],
   "source": [
    "import pandas as pd\n",
    "from helpers.files import load_csv\n",
    "import matplotlib.pyplot as plt\n",
    "\n",
    "gb_videos, us_videos = load_csv(\"youtube_data\")\n",
    "videos = pd.concat([gb_videos, us_videos])\n",
    "publish_time_counts = videos[\"trending_date\"].value_counts()\n",
    "publish_time_counts = publish_time_counts.rename_axis(\"trending_date\").reset_index(name=\"count\")\n",
    "\n",
    "print(publish_time_counts)\n",
    "plt.bar(pd.to_datetime(publish_time_counts[\"trending_date\"], format=\"%y.%d.%m\"), publish_time_counts[\"count\"])\n",
    "plt.show()"
   ]
  },
  {
   "cell_type": "markdown",
   "source": [
    "## Etap 5 - Zbieranie danych nie-trending"
   ],
   "metadata": {
    "collapsed": false,
    "pycharm": {
     "name": "#%% md\n"
    }
   }
  }
 ],
 "metadata": {
  "kernelspec": {
   "display_name": "Python 3",
   "language": "python",
   "name": "python3"
  },
  "language_info": {
   "codemirror_mode": {
    "name": "ipython",
    "version": 2
   },
   "file_extension": ".py",
   "mimetype": "text/x-python",
   "name": "python",
   "nbconvert_exporter": "python",
   "pygments_lexer": "ipython2",
   "version": "2.7.6"
  }
 },
 "nbformat": 4,
 "nbformat_minor": 0
}