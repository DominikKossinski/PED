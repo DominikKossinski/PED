{
 "cells": [
  {
   "cell_type": "markdown",
   "source": [
    "# YouTube trending videos"
   ],
   "metadata": {
    "collapsed": false
   }
  },
  {
   "cell_type": "code",
   "execution_count": 1,
   "metadata": {
    "collapsed": true
   },
   "outputs": [],
   "source": [
    "import matplotlib.pyplot as plt\n",
    "import pandas as pd\n",
    "\n",
    "from helpers.files import load_csv\n",
    "\n",
    "gb_videos, us_videos = load_csv(\"youtube_data\")\n",
    "videos = pd.concat([gb_videos, us_videos])"
   ]
  },
  {
   "cell_type": "code",
   "execution_count": 2,
   "outputs": [
    {
     "name": "stdout",
     "output_type": "stream",
     "text": [
      "    trending_date  count\n",
      "0        18.12.01    400\n",
      "1        18.07.01    400\n",
      "2        18.30.01    400\n",
      "3        18.19.02    400\n",
      "4        18.20.01    400\n",
      "..            ...    ...\n",
      "200      18.24.05    355\n",
      "201      18.21.05    354\n",
      "202      18.23.05    353\n",
      "203      18.22.05    352\n",
      "204      18.15.05    347\n",
      "\n",
      "[205 rows x 2 columns]\n"
     ]
    },
    {
     "data": {
      "text/plain": "<Figure size 432x288 with 1 Axes>",
      "image/png": "[encoded data removed]"
     },
     "metadata": {
      "needs_background": "light"
     },
     "output_type": "display_data"
    },
    {
     "name": "stdout",
     "output_type": "stream",
     "text": [
      "8735\n"
     ]
    }
   ],
   "source": [
    "publish_time_counts = videos[\"trending_date\"].value_counts()\n",
    "publish_time_counts = publish_time_counts.rename_axis(\"trending_date\").reset_index(name=\"count\")\n",
    "\n",
    "print(publish_time_counts)\n",
    "plt.bar(pd.to_datetime(publish_time_counts[\"trending_date\"], format=\"%y.%d.%m\"), publish_time_counts[\"count\"])\n",
    "plt.show()\n",
    "\n",
    "gb_videos, us_videos = load_csv(\"clustering_data\")\n",
    "videos = pd.concat([gb_videos, us_videos])\n",
    "videos = videos[videos[\"new_category_id\"].notna()]\n",
    "print(len(videos))"
   ],
   "metadata": {
    "collapsed": false,
    "pycharm": {
     "name": "#%%\n"
    }
   }
  },
  {
   "cell_type": "code",
   "execution_count": 3,
   "outputs": [
    {
     "data": {
      "text/plain": "<Figure size 432x288 with 1 Axes>",
      "image/png": "[encoded data removed]"
     },
     "metadata": {
      "needs_background": "light"
     },
     "output_type": "display_data"
    }
   ],
   "source": [
    "attr_c = videos[\"new_category_id\"].value_counts()\n",
    "attr_c = attr_c.rename_axis(\"new_category_id\").reset_index(name=\"count\")\n",
    "labels = [str(i) for i in attr_c[\"new_category_id\"]]\n",
    "plt.bar(labels, attr_c[\"count\"])\n",
    "plt.xticks(rotation=270, fontsize=15)\n",
    "plt.show()"
   ],
   "metadata": {
    "collapsed": false,
    "pycharm": {
     "name": "#%%\n"
    }
   }
  },
  {
   "cell_type": "markdown",
   "source": [
    "## Etap 5 - Zbieranie danych nie-trending\n",
    "\n",
    "### Skrypt do zbierania danych trending\n",
    "\n",
    "Pierwszym krokiem, który został wykonany w ramach tego etapu było\n",
    "zapoznanie się z oryginalnym skryptem do pobierania danych „trending\".\n",
    "Skrypt jest dostępny w repozytorium [Trending-Youtube-Scraper](https://github.com/mitchelljy/Trending-YouTube-Scraper).\n",
    "\n",
    "Oryginalny skrypt do pobierania danych -> w jego\n",
    "kontekscie można opisać dlaczego tak pobieramy\n",
    "\n",
    "### Pomysł na pobranie danych nie trending\n",
    "\n",
    "- Podział okresu 11.2017-07.2018 na 4 podokresy\n",
    "- Zbieranie danych „proporcjami” wystąpień kategorii podobnymi do oryginalnych\n",
    "- Filtrowanie filmów trending\n",
    "- Filtrowanie ewentualnych powtórzeń\n",
    "- Uzupełnianie statystyk\n",
    "\n",
    "Testowe dane"
   ],
   "metadata": {
    "collapsed": false,
    "pycharm": {
     "name": "#%% md\n"
    }
   }
  },
  {
   "cell_type": "code",
   "source": [
    "gb_downloaded = load_csv(\"ped5_data\")[0]"
   ],
   "metadata": {
    "collapsed": false,
    "pycharm": {
     "name": "#%%\n"
    }
   },
   "execution_count": 4,
   "outputs": []
  },
  {
   "cell_type": "code",
   "execution_count": 5,
   "outputs": [
    {
     "data": {
      "text/plain": "<Figure size 432x288 with 1 Axes>",
      "image/png": "[encoded data removed]"
     },
     "metadata": {
      "needs_background": "light"
     },
     "output_type": "display_data"
    }
   ],
   "source": [
    "attr_c = gb_downloaded[\"category_id\"].value_counts()\n",
    "attr_c = attr_c.rename_axis(\"category_id\").reset_index(name=\"count\")\n",
    "labels = [str(i) for i in attr_c[\"category_id\"]]\n",
    "plt.bar(labels, attr_c[\"count\"])\n",
    "plt.xticks(rotation=270, fontsize=15)\n",
    "plt.show()\n"
   ],
   "metadata": {
    "collapsed": false,
    "pycharm": {
     "name": "#%%\n"
    }
   }
  }
 ],
 "metadata": {
  "kernelspec": {
   "display_name": "Python 3",
   "language": "python",
   "name": "python3"
  },
  "language_info": {
   "codemirror_mode": {
    "name": "ipython",
    "version": 2
   },
   "file_extension": ".py",
   "mimetype": "text/x-python",
   "name": "python",
   "nbconvert_exporter": "python",
   "pygments_lexer": "ipython2",
   "version": "2.7.6"
  }
 },
 "nbformat": 4,
 "nbformat_minor": 0
}