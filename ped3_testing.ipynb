{
 "metadata": {
  "language_info": {
   "codemirror_mode": {
    "name": "ipython",
    "version": 3
   },
   "file_extension": ".py",
   "mimetype": "text/x-python",
   "name": "python",
   "nbconvert_exporter": "python",
   "pygments_lexer": "ipython3",
   "version": "3.8.5-final"
  },
  "orig_nbformat": 2,
  "kernelspec": {
   "name": "python385jvsc74a57bd0258d9c3fe2c2041f692db8763ec1691cd73586bc3236962ad99db3f9aaf4b0b7",
   "display_name": "Python 3.8.5 64-bit ('ml')"
  },
  "metadata": {
   "interpreter": {
    "hash": "258d9c3fe2c2041f692db8763ec1691cd73586bc3236962ad99db3f9aaf4b0b7"
   }
  }
 },
 "nbformat": 4,
 "nbformat_minor": 2,
 "cells": [
  {
   "cell_type": "code",
   "execution_count": 1,
   "metadata": {},
   "outputs": [],
   "source": [
    "%load_ext autoreload\n",
    "%autoreload 2"
   ]
  },
  {
   "cell_type": "code",
   "execution_count": 19,
   "metadata": {},
   "outputs": [
    {
     "output_type": "stream",
     "name": "stdout",
     "text": [
      "287.90653243336\n"
     ]
    }
   ],
   "source": [
    "from helpers.image_features import calculate2\n",
    "from helpers.image_features import draw_hist, show_entropy\n",
    "import matplotlib.pyplot as plt\n",
    "import cv2\n",
    "\n",
    "img = cv2.imread('images/default/0_US_-0CMnp02rNY_0.jpg')\n",
    "\n",
    "s = calculate2(img)\n",
    "# plt.imshow(s)\n",
    "print(s)\n",
    "# draw_hist(s,'Grayscale mean',s, 'Grayscale median',False)\n",
    "# show_entropy(s,\"Mean entropy\", s, \"Median entropy\")"
   ]
  },
  {
   "cell_type": "code",
   "execution_count": null,
   "metadata": {},
   "outputs": [],
   "source": []
  }
 ]
}